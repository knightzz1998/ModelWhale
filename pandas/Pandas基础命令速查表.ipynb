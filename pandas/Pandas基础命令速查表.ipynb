{
 "cells": [
  {
   "cell_type": "markdown",
   "metadata": {
    "collapsed": true,
    "pycharm": {
     "name": "#%% md\n"
    }
   },
   "source": [
    "## Pandas 基础命令速查表\n",
    "- 参考 :\n",
    "    1. [速查表](https://www.heywhale.com/mw/project/59e389b54663f7655c48f518)\n",
    "- 缩写解释 & 库的导入\n",
    "    1. df --- 任意的pandas DataFrame(数据框)对象\n",
    "    2. s --- 任意的pandas Series(数组)对象\n",
    "    3. pandas和numpy是用Python做数据分析最基础且最核心的库\n"
   ]
  },
  {
   "cell_type": "code",
   "execution_count": 94,
   "outputs": [],
   "source": [
    "import pandas as pd\n",
    "import numpy as np"
   ],
   "metadata": {
    "collapsed": false,
    "pycharm": {
     "name": "#%%\n"
    }
   }
  },
  {
   "cell_type": "markdown",
   "source": [
    "### 1. 数据的导入\n",
    "\n",
    "- 数据的导入方式有以下几种 :\n",
    "\n",
    "- pd.read_csv(filename) 导入csv格式文件中的数据\n",
    "- pd.read_table(filename) 导入有分隔符的文本 (如TSV) 中的数据\n",
    "- pd.read_excel(filename) 导入Excel格式文件中的数据\n",
    "- pd.read_sql(query, connection_object) 导入SQL数据表/数据库中的数据\n",
    "- pd.read_json(json_string) 导入JSON格式的字符，URL地址或者文件中的数据\n",
    "- pd.read_html(url) 导入经过解析的URL地址中包含的数据框 (DataFrame) 数据\n",
    "- pd.read_clipboard() 导入系统粘贴板里面的数据\n",
    "- pd.DataFrame(dict)  导入Python字典 (dict) 里面的数据，其中key是数据框的表头，value是数据框的内容。"
   ],
   "metadata": {
    "collapsed": false,
    "pycharm": {
     "name": "#%% md\n"
    }
   }
  },
  {
   "cell_type": "markdown",
   "source": [
    "#### 1.1 pd.read_csv()\n",
    "\n",
    "- 作用 : 读取CSV格式的数据\n",
    "- 参数 :\n",
    "    1. filepath_or_buffer : 文件路径, 支持 ftp 文件\n",
    "    2. sep : 分隔符, 默认为 ,\n",
    "    3. header : 文件中, 要作为字段的行的行号, 默认 header=0, 如果数据中没有行, 设置 header = None\n",
    "    4. names: 字段名, 值为 ['字段1', '字段2', '字段3']\n",
    "    5. index_col : 要作为行标签的列, 等价于 header"
   ],
   "metadata": {
    "collapsed": false,
    "pycharm": {
     "name": "#%% md\n"
    }
   }
  },
  {
   "cell_type": "code",
   "execution_count": 95,
   "outputs": [
    {
     "data": {
      "text/plain": "   sepal_length  sepal_width  petal_length  petal_width species\n0           5.1          3.5           1.4          0.2  setosa\n1           4.9          3.0           1.4          0.2  setosa\n2           4.7          3.2           1.3          0.2  setosa\n3           4.6          3.1           1.5          0.2  setosa\n4           5.0          3.6           1.4          0.2  setosa",
      "text/html": "<div>\n<style scoped>\n    .dataframe tbody tr th:only-of-type {\n        vertical-align: middle;\n    }\n\n    .dataframe tbody tr th {\n        vertical-align: top;\n    }\n\n    .dataframe thead th {\n        text-align: right;\n    }\n</style>\n<table border=\"1\" class=\"dataframe\">\n  <thead>\n    <tr style=\"text-align: right;\">\n      <th></th>\n      <th>sepal_length</th>\n      <th>sepal_width</th>\n      <th>petal_length</th>\n      <th>petal_width</th>\n      <th>species</th>\n    </tr>\n  </thead>\n  <tbody>\n    <tr>\n      <th>0</th>\n      <td>5.1</td>\n      <td>3.5</td>\n      <td>1.4</td>\n      <td>0.2</td>\n      <td>setosa</td>\n    </tr>\n    <tr>\n      <th>1</th>\n      <td>4.9</td>\n      <td>3.0</td>\n      <td>1.4</td>\n      <td>0.2</td>\n      <td>setosa</td>\n    </tr>\n    <tr>\n      <th>2</th>\n      <td>4.7</td>\n      <td>3.2</td>\n      <td>1.3</td>\n      <td>0.2</td>\n      <td>setosa</td>\n    </tr>\n    <tr>\n      <th>3</th>\n      <td>4.6</td>\n      <td>3.1</td>\n      <td>1.5</td>\n      <td>0.2</td>\n      <td>setosa</td>\n    </tr>\n    <tr>\n      <th>4</th>\n      <td>5.0</td>\n      <td>3.6</td>\n      <td>1.4</td>\n      <td>0.2</td>\n      <td>setosa</td>\n    </tr>\n  </tbody>\n</table>\n</div>"
     },
     "execution_count": 95,
     "metadata": {},
     "output_type": "execute_result"
    }
   ],
   "source": [
    "CSV_PATH = '../data/可视化数据集/iris.csv'\n",
    "iris = pd.read_csv(CSV_PATH, sep=',')\n",
    "iris[:5]"
   ],
   "metadata": {
    "collapsed": false,
    "pycharm": {
     "name": "#%%\n"
    }
   }
  },
  {
   "cell_type": "markdown",
   "source": [
    "### 2. 数据的导出\n",
    "\n",
    "- [read_csv和to_csv参数详解](https://blog.csdn.net/u010801439/article/details/80033341/)\n",
    "\n",
    "- df.to_csv(filename) 将数据框 (DataFrame)中的数据导入csv格式的文件中\n",
    "- df.to_excel(filename) 将数据框 (DataFrame)中的数据导入Excel格式的文件中\n",
    "- df.to_sql(table_name,connection_object) 将数据框 (DataFrame)中的数据导入SQL数据表/数据库中\n",
    "- df.to_json(filename) 将数据框 (DataFrame)中的数据导入JSON格式的文件中"
   ],
   "metadata": {
    "collapsed": false,
    "pycharm": {
     "name": "#%% md\n"
    }
   }
  },
  {
   "cell_type": "markdown",
   "source": [
    "#### 2.1 df.to_csv()\n",
    "\n",
    "- 作用 : 将文件保存为CSV文件\n",
    "- 参数 :\n",
    "    1. path_or_buf 输出文件路径\n",
    "    2. sep 设置分隔符\n",
    "    3. na_rep 替换空值\n",
    "    4. header 是否保留列名 , header=0 表示不保存列名\n",
    "    5. index 是否保留行索引\n",
    "    6. cols 是否保留某列数据 (columns=['name'])\n",
    "    7. index 是否写入列名, 默认为 True"
   ],
   "metadata": {
    "collapsed": false,
    "pycharm": {
     "name": "#%% md\n"
    }
   }
  },
  {
   "cell_type": "code",
   "execution_count": 96,
   "outputs": [],
   "source": [
    "iris.to_csv('../to_data/iris_01.csv',\n",
    "            sep=';', na_rep='?', header=0)"
   ],
   "metadata": {
    "collapsed": false,
    "pycharm": {
     "name": "#%%\n"
    }
   }
  },
  {
   "cell_type": "markdown",
   "source": [
    "### 3. 创建测试数据\n",
    "\n",
    "- pd.DataFrame() 创建DataFrame\n",
    "    1. column : 值为list, 用于指定 DataFrame 的列名\n",
    "- pd.Series() 创建Series\n",
    "- 添加一个日期索引 index\n",
    "    1. df.index = pd.date_range('2017/1/1', periods=df.shape[0])"
   ],
   "metadata": {
    "collapsed": false,
    "pycharm": {
     "name": "#%% md\n"
    }
   }
  },
  {
   "cell_type": "code",
   "execution_count": 97,
   "outputs": [
    {
     "data": {
      "text/plain": "          a         b         c         d         e\n0  0.198263  0.701095  0.419892 -0.159066 -0.173040\n1  0.865532  0.320909  0.442497 -1.686126 -1.363119\n2 -0.014149  0.802615 -0.815405 -1.067336 -1.562864\n3 -0.127197  1.785863 -2.132177 -0.318557  0.896271\n4  0.407926  0.320378 -1.093439 -0.122914 -1.334965",
      "text/html": "<div>\n<style scoped>\n    .dataframe tbody tr th:only-of-type {\n        vertical-align: middle;\n    }\n\n    .dataframe tbody tr th {\n        vertical-align: top;\n    }\n\n    .dataframe thead th {\n        text-align: right;\n    }\n</style>\n<table border=\"1\" class=\"dataframe\">\n  <thead>\n    <tr style=\"text-align: right;\">\n      <th></th>\n      <th>a</th>\n      <th>b</th>\n      <th>c</th>\n      <th>d</th>\n      <th>e</th>\n    </tr>\n  </thead>\n  <tbody>\n    <tr>\n      <th>0</th>\n      <td>0.198263</td>\n      <td>0.701095</td>\n      <td>0.419892</td>\n      <td>-0.159066</td>\n      <td>-0.173040</td>\n    </tr>\n    <tr>\n      <th>1</th>\n      <td>0.865532</td>\n      <td>0.320909</td>\n      <td>0.442497</td>\n      <td>-1.686126</td>\n      <td>-1.363119</td>\n    </tr>\n    <tr>\n      <th>2</th>\n      <td>-0.014149</td>\n      <td>0.802615</td>\n      <td>-0.815405</td>\n      <td>-1.067336</td>\n      <td>-1.562864</td>\n    </tr>\n    <tr>\n      <th>3</th>\n      <td>-0.127197</td>\n      <td>1.785863</td>\n      <td>-2.132177</td>\n      <td>-0.318557</td>\n      <td>0.896271</td>\n    </tr>\n    <tr>\n      <th>4</th>\n      <td>0.407926</td>\n      <td>0.320378</td>\n      <td>-1.093439</td>\n      <td>-0.122914</td>\n      <td>-1.334965</td>\n    </tr>\n  </tbody>\n</table>\n</div>"
     },
     "execution_count": 97,
     "metadata": {},
     "output_type": "execute_result"
    }
   ],
   "source": [
    "# 创建一个 5行5列的数据\n",
    "pd.DataFrame(np.random.randn(5, 5), columns=['a', 'b', 'c', 'd', 'e'])"
   ],
   "metadata": {
    "collapsed": false,
    "pycharm": {
     "name": "#%%\n"
    }
   }
  },
  {
   "cell_type": "code",
   "execution_count": 98,
   "outputs": [
    {
     "data": {
      "text/plain": "0    Lab109\n1       100\n2       大家好\ndtype: object"
     },
     "execution_count": 98,
     "metadata": {},
     "output_type": "execute_result"
    }
   ],
   "source": [
    "# 从一个可迭代对象中创建一个 Series\n",
    "my_list = ['Lab109', 100, '大家好']\n",
    "pd.Series(my_list)"
   ],
   "metadata": {
    "collapsed": false,
    "pycharm": {
     "name": "#%%\n"
    }
   }
  },
  {
   "cell_type": "markdown",
   "source": [
    "#### 3.1 创建数字索引"
   ],
   "metadata": {
    "collapsed": false,
    "pycharm": {
     "name": "#%% md\n"
    }
   }
  },
  {
   "cell_type": "code",
   "execution_count": 99,
   "outputs": [
    {
     "data": {
      "text/plain": "                   0         1         2         3\n2021-12-21  0.207619 -1.162415  0.599829  0.616789\n2021-12-22 -0.840163 -0.768702  1.694026 -1.734073\n2021-12-23 -0.260813 -0.044580 -0.898380  0.517035\n2021-12-24  0.408826  0.360320 -0.171546 -0.597426\n2021-12-25  0.825498 -0.311212  0.806756 -0.040919",
      "text/html": "<div>\n<style scoped>\n    .dataframe tbody tr th:only-of-type {\n        vertical-align: middle;\n    }\n\n    .dataframe tbody tr th {\n        vertical-align: top;\n    }\n\n    .dataframe thead th {\n        text-align: right;\n    }\n</style>\n<table border=\"1\" class=\"dataframe\">\n  <thead>\n    <tr style=\"text-align: right;\">\n      <th></th>\n      <th>0</th>\n      <th>1</th>\n      <th>2</th>\n      <th>3</th>\n    </tr>\n  </thead>\n  <tbody>\n    <tr>\n      <th>2021-12-21</th>\n      <td>0.207619</td>\n      <td>-1.162415</td>\n      <td>0.599829</td>\n      <td>0.616789</td>\n    </tr>\n    <tr>\n      <th>2021-12-22</th>\n      <td>-0.840163</td>\n      <td>-0.768702</td>\n      <td>1.694026</td>\n      <td>-1.734073</td>\n    </tr>\n    <tr>\n      <th>2021-12-23</th>\n      <td>-0.260813</td>\n      <td>-0.044580</td>\n      <td>-0.898380</td>\n      <td>0.517035</td>\n    </tr>\n    <tr>\n      <th>2021-12-24</th>\n      <td>0.408826</td>\n      <td>0.360320</td>\n      <td>-0.171546</td>\n      <td>-0.597426</td>\n    </tr>\n    <tr>\n      <th>2021-12-25</th>\n      <td>0.825498</td>\n      <td>-0.311212</td>\n      <td>0.806756</td>\n      <td>-0.040919</td>\n    </tr>\n  </tbody>\n</table>\n</div>"
     },
     "execution_count": 99,
     "metadata": {},
     "output_type": "execute_result"
    }
   ],
   "source": [
    "# 添加日期索引\n",
    "\n",
    "df_data = pd.DataFrame(np.random.randn(5, 4))\n",
    "df_data.index = pd.date_range('2021/12/21', periods=df_data.shape[0])\n",
    "df_data"
   ],
   "metadata": {
    "collapsed": false,
    "pycharm": {
     "name": "#%%\n"
    }
   }
  },
  {
   "cell_type": "markdown",
   "source": [
    "### 4. 数据的查看与检查\n",
    "\n",
    "- df.head(n) 查看前 n 行的数据\n",
    "- df.tail(n) 查看后 n 行的数据\n",
    "- df.shape 查看数据框的行数与列数\n",
    "- df.info() 查看数据框 (DataFrame) 的索引、数据类型及内存信息\n",
    "- df.describe() 对于数据类型为数值型的列，查询其描述性统计的内容\n",
    "- s.value_counts(dropna=False) 查询每个独特数据值出现次数统计\n",
    "- df.apply(pd.Series.value_counts) 查询数据框 (Data Frame) 中每个列的独特数据值出现次数统计"
   ],
   "metadata": {
    "collapsed": false,
    "pycharm": {
     "name": "#%% md\n"
    }
   }
  },
  {
   "cell_type": "code",
   "execution_count": 100,
   "outputs": [
    {
     "data": {
      "text/plain": "          0         1         2         3         4\n0 -0.648698 -0.910378  0.099395 -0.541676 -0.118321\n1 -1.617232  0.677458 -1.838289  0.374203  0.041271\n2 -0.266963  0.955691  1.163535  2.192054 -0.837062\n3  0.654362 -0.917936 -0.688318 -0.244292  0.127459\n4  0.224270  1.303762  0.764557 -1.162759 -1.683549",
      "text/html": "<div>\n<style scoped>\n    .dataframe tbody tr th:only-of-type {\n        vertical-align: middle;\n    }\n\n    .dataframe tbody tr th {\n        vertical-align: top;\n    }\n\n    .dataframe thead th {\n        text-align: right;\n    }\n</style>\n<table border=\"1\" class=\"dataframe\">\n  <thead>\n    <tr style=\"text-align: right;\">\n      <th></th>\n      <th>0</th>\n      <th>1</th>\n      <th>2</th>\n      <th>3</th>\n      <th>4</th>\n    </tr>\n  </thead>\n  <tbody>\n    <tr>\n      <th>0</th>\n      <td>-0.648698</td>\n      <td>-0.910378</td>\n      <td>0.099395</td>\n      <td>-0.541676</td>\n      <td>-0.118321</td>\n    </tr>\n    <tr>\n      <th>1</th>\n      <td>-1.617232</td>\n      <td>0.677458</td>\n      <td>-1.838289</td>\n      <td>0.374203</td>\n      <td>0.041271</td>\n    </tr>\n    <tr>\n      <th>2</th>\n      <td>-0.266963</td>\n      <td>0.955691</td>\n      <td>1.163535</td>\n      <td>2.192054</td>\n      <td>-0.837062</td>\n    </tr>\n    <tr>\n      <th>3</th>\n      <td>0.654362</td>\n      <td>-0.917936</td>\n      <td>-0.688318</td>\n      <td>-0.244292</td>\n      <td>0.127459</td>\n    </tr>\n    <tr>\n      <th>4</th>\n      <td>0.224270</td>\n      <td>1.303762</td>\n      <td>0.764557</td>\n      <td>-1.162759</td>\n      <td>-1.683549</td>\n    </tr>\n  </tbody>\n</table>\n</div>"
     },
     "execution_count": 100,
     "metadata": {},
     "output_type": "execute_result"
    }
   ],
   "source": [
    "df = pd.DataFrame(np.random.randn(5, 5))\n",
    "\n",
    "# 查看数据的前 n 行\n",
    "df.head()  # 默认是前5行"
   ],
   "metadata": {
    "collapsed": false,
    "pycharm": {
     "name": "#%%\n"
    }
   }
  },
  {
   "cell_type": "code",
   "execution_count": 101,
   "outputs": [
    {
     "data": {
      "text/plain": "          0         1         2         3         4\n0 -0.648698 -0.910378  0.099395 -0.541676 -0.118321\n1 -1.617232  0.677458 -1.838289  0.374203  0.041271\n2 -0.266963  0.955691  1.163535  2.192054 -0.837062",
      "text/html": "<div>\n<style scoped>\n    .dataframe tbody tr th:only-of-type {\n        vertical-align: middle;\n    }\n\n    .dataframe tbody tr th {\n        vertical-align: top;\n    }\n\n    .dataframe thead th {\n        text-align: right;\n    }\n</style>\n<table border=\"1\" class=\"dataframe\">\n  <thead>\n    <tr style=\"text-align: right;\">\n      <th></th>\n      <th>0</th>\n      <th>1</th>\n      <th>2</th>\n      <th>3</th>\n      <th>4</th>\n    </tr>\n  </thead>\n  <tbody>\n    <tr>\n      <th>0</th>\n      <td>-0.648698</td>\n      <td>-0.910378</td>\n      <td>0.099395</td>\n      <td>-0.541676</td>\n      <td>-0.118321</td>\n    </tr>\n    <tr>\n      <th>1</th>\n      <td>-1.617232</td>\n      <td>0.677458</td>\n      <td>-1.838289</td>\n      <td>0.374203</td>\n      <td>0.041271</td>\n    </tr>\n    <tr>\n      <th>2</th>\n      <td>-0.266963</td>\n      <td>0.955691</td>\n      <td>1.163535</td>\n      <td>2.192054</td>\n      <td>-0.837062</td>\n    </tr>\n  </tbody>\n</table>\n</div>"
     },
     "execution_count": 101,
     "metadata": {},
     "output_type": "execute_result"
    }
   ],
   "source": [
    "df.head(3)"
   ],
   "metadata": {
    "collapsed": false,
    "pycharm": {
     "name": "#%%\n"
    }
   }
  },
  {
   "cell_type": "code",
   "execution_count": 102,
   "outputs": [
    {
     "data": {
      "text/plain": "          0         1         2         3         4\n1 -1.617232  0.677458 -1.838289  0.374203  0.041271\n2 -0.266963  0.955691  1.163535  2.192054 -0.837062\n3  0.654362 -0.917936 -0.688318 -0.244292  0.127459\n4  0.224270  1.303762  0.764557 -1.162759 -1.683549",
      "text/html": "<div>\n<style scoped>\n    .dataframe tbody tr th:only-of-type {\n        vertical-align: middle;\n    }\n\n    .dataframe tbody tr th {\n        vertical-align: top;\n    }\n\n    .dataframe thead th {\n        text-align: right;\n    }\n</style>\n<table border=\"1\" class=\"dataframe\">\n  <thead>\n    <tr style=\"text-align: right;\">\n      <th></th>\n      <th>0</th>\n      <th>1</th>\n      <th>2</th>\n      <th>3</th>\n      <th>4</th>\n    </tr>\n  </thead>\n  <tbody>\n    <tr>\n      <th>1</th>\n      <td>-1.617232</td>\n      <td>0.677458</td>\n      <td>-1.838289</td>\n      <td>0.374203</td>\n      <td>0.041271</td>\n    </tr>\n    <tr>\n      <th>2</th>\n      <td>-0.266963</td>\n      <td>0.955691</td>\n      <td>1.163535</td>\n      <td>2.192054</td>\n      <td>-0.837062</td>\n    </tr>\n    <tr>\n      <th>3</th>\n      <td>0.654362</td>\n      <td>-0.917936</td>\n      <td>-0.688318</td>\n      <td>-0.244292</td>\n      <td>0.127459</td>\n    </tr>\n    <tr>\n      <th>4</th>\n      <td>0.224270</td>\n      <td>1.303762</td>\n      <td>0.764557</td>\n      <td>-1.162759</td>\n      <td>-1.683549</td>\n    </tr>\n  </tbody>\n</table>\n</div>"
     },
     "execution_count": 102,
     "metadata": {},
     "output_type": "execute_result"
    }
   ],
   "source": [
    "# 查看数据的最后 n 行\n",
    "df.tail(4)"
   ],
   "metadata": {
    "collapsed": false,
    "pycharm": {
     "name": "#%%\n"
    }
   }
  },
  {
   "cell_type": "code",
   "execution_count": 103,
   "outputs": [
    {
     "data": {
      "text/plain": "(5, 5)"
     },
     "execution_count": 103,
     "metadata": {},
     "output_type": "execute_result"
    }
   ],
   "source": [
    "# 查看数据的行数和列数\n",
    "df.shape"
   ],
   "metadata": {
    "collapsed": false,
    "pycharm": {
     "name": "#%%\n"
    }
   }
  },
  {
   "cell_type": "code",
   "execution_count": 104,
   "outputs": [
    {
     "name": "stdout",
     "output_type": "stream",
     "text": [
      "<class 'pandas.core.frame.DataFrame'>\n",
      "RangeIndex: 5 entries, 0 to 4\n",
      "Data columns (total 5 columns):\n",
      " #   Column  Non-Null Count  Dtype  \n",
      "---  ------  --------------  -----  \n",
      " 0   0       5 non-null      float64\n",
      " 1   1       5 non-null      float64\n",
      " 2   2       5 non-null      float64\n",
      " 3   3       5 non-null      float64\n",
      " 4   4       5 non-null      float64\n",
      "dtypes: float64(5)\n",
      "memory usage: 328.0 bytes\n"
     ]
    }
   ],
   "source": [
    "# 查看数据框 (DataFrame) 的索引、数据类型及内存信息\n",
    "df.info()"
   ],
   "metadata": {
    "collapsed": false,
    "pycharm": {
     "name": "#%%\n"
    }
   }
  },
  {
   "cell_type": "code",
   "execution_count": 105,
   "outputs": [
    {
     "data": {
      "text/plain": "              0         1         2         3         4\ncount  5.000000  5.000000  5.000000  5.000000  5.000000\nmean  -0.330852  0.221719 -0.099824  0.123506 -0.494040\nstd    0.871592  1.060388  1.199115  1.281987  0.765927\nmin   -1.617232 -0.917936 -1.838289 -1.162759 -1.683549\n25%   -0.648698 -0.910378 -0.688318 -0.541676 -0.837062\n50%   -0.266963  0.677458  0.099395 -0.244292 -0.118321\n75%    0.224270  0.955691  0.764557  0.374203  0.041271\nmax    0.654362  1.303762  1.163535  2.192054  0.127459",
      "text/html": "<div>\n<style scoped>\n    .dataframe tbody tr th:only-of-type {\n        vertical-align: middle;\n    }\n\n    .dataframe tbody tr th {\n        vertical-align: top;\n    }\n\n    .dataframe thead th {\n        text-align: right;\n    }\n</style>\n<table border=\"1\" class=\"dataframe\">\n  <thead>\n    <tr style=\"text-align: right;\">\n      <th></th>\n      <th>0</th>\n      <th>1</th>\n      <th>2</th>\n      <th>3</th>\n      <th>4</th>\n    </tr>\n  </thead>\n  <tbody>\n    <tr>\n      <th>count</th>\n      <td>5.000000</td>\n      <td>5.000000</td>\n      <td>5.000000</td>\n      <td>5.000000</td>\n      <td>5.000000</td>\n    </tr>\n    <tr>\n      <th>mean</th>\n      <td>-0.330852</td>\n      <td>0.221719</td>\n      <td>-0.099824</td>\n      <td>0.123506</td>\n      <td>-0.494040</td>\n    </tr>\n    <tr>\n      <th>std</th>\n      <td>0.871592</td>\n      <td>1.060388</td>\n      <td>1.199115</td>\n      <td>1.281987</td>\n      <td>0.765927</td>\n    </tr>\n    <tr>\n      <th>min</th>\n      <td>-1.617232</td>\n      <td>-0.917936</td>\n      <td>-1.838289</td>\n      <td>-1.162759</td>\n      <td>-1.683549</td>\n    </tr>\n    <tr>\n      <th>25%</th>\n      <td>-0.648698</td>\n      <td>-0.910378</td>\n      <td>-0.688318</td>\n      <td>-0.541676</td>\n      <td>-0.837062</td>\n    </tr>\n    <tr>\n      <th>50%</th>\n      <td>-0.266963</td>\n      <td>0.677458</td>\n      <td>0.099395</td>\n      <td>-0.244292</td>\n      <td>-0.118321</td>\n    </tr>\n    <tr>\n      <th>75%</th>\n      <td>0.224270</td>\n      <td>0.955691</td>\n      <td>0.764557</td>\n      <td>0.374203</td>\n      <td>0.041271</td>\n    </tr>\n    <tr>\n      <th>max</th>\n      <td>0.654362</td>\n      <td>1.303762</td>\n      <td>1.163535</td>\n      <td>2.192054</td>\n      <td>0.127459</td>\n    </tr>\n  </tbody>\n</table>\n</div>"
     },
     "execution_count": 105,
     "metadata": {},
     "output_type": "execute_result"
    }
   ],
   "source": [
    "# 对于数据类型为数值型的列，查询其描述性统计的内容\n",
    "# std 表示标准差\n",
    "df.describe()"
   ],
   "metadata": {
    "collapsed": false,
    "pycharm": {
     "name": "#%%\n"
    }
   }
  },
  {
   "cell_type": "code",
   "execution_count": 106,
   "outputs": [
    {
     "data": {
      "text/plain": "1.0    3\n5.0    3\n2.0    2\n3.0    1\n4.0    1\nNaN    1\n6.0    1\n7.0    1\ndtype: int64"
     },
     "execution_count": 106,
     "metadata": {},
     "output_type": "execute_result"
    }
   ],
   "source": [
    "s = pd.Series([1, 2, 3, 1, 1, 2, 4, np.nan, 5, 5, 5, 6, 7])\n",
    "# 查询每个独特数据值出现次数统计\n",
    "# dropna : 是否包括 nan 的统计\n",
    "s.value_counts(dropna=False)"
   ],
   "metadata": {
    "collapsed": false,
    "pycharm": {
     "name": "#%%\n"
    }
   }
  },
  {
   "cell_type": "code",
   "execution_count": 107,
   "outputs": [
    {
     "data": {
      "text/plain": "             0    1    2    3    4\n-1.838289  NaN  NaN  1.0  NaN  NaN\n-1.683549  NaN  NaN  NaN  NaN  1.0\n-1.617232  1.0  NaN  NaN  NaN  NaN\n-1.162759  NaN  NaN  NaN  1.0  NaN\n-0.917936  NaN  1.0  NaN  NaN  NaN\n-0.910378  NaN  1.0  NaN  NaN  NaN\n-0.837062  NaN  NaN  NaN  NaN  1.0\n-0.688318  NaN  NaN  1.0  NaN  NaN\n-0.648698  1.0  NaN  NaN  NaN  NaN\n-0.541676  NaN  NaN  NaN  1.0  NaN\n-0.266963  1.0  NaN  NaN  NaN  NaN\n-0.244292  NaN  NaN  NaN  1.0  NaN\n-0.118321  NaN  NaN  NaN  NaN  1.0\n 0.041271  NaN  NaN  NaN  NaN  1.0\n 0.099395  NaN  NaN  1.0  NaN  NaN\n 0.127459  NaN  NaN  NaN  NaN  1.0\n 0.224270  1.0  NaN  NaN  NaN  NaN\n 0.374203  NaN  NaN  NaN  1.0  NaN\n 0.654362  1.0  NaN  NaN  NaN  NaN\n 0.677458  NaN  1.0  NaN  NaN  NaN\n 0.764557  NaN  NaN  1.0  NaN  NaN\n 0.955691  NaN  1.0  NaN  NaN  NaN\n 1.163535  NaN  NaN  1.0  NaN  NaN\n 1.303762  NaN  1.0  NaN  NaN  NaN\n 2.192054  NaN  NaN  NaN  1.0  NaN",
      "text/html": "<div>\n<style scoped>\n    .dataframe tbody tr th:only-of-type {\n        vertical-align: middle;\n    }\n\n    .dataframe tbody tr th {\n        vertical-align: top;\n    }\n\n    .dataframe thead th {\n        text-align: right;\n    }\n</style>\n<table border=\"1\" class=\"dataframe\">\n  <thead>\n    <tr style=\"text-align: right;\">\n      <th></th>\n      <th>0</th>\n      <th>1</th>\n      <th>2</th>\n      <th>3</th>\n      <th>4</th>\n    </tr>\n  </thead>\n  <tbody>\n    <tr>\n      <th>-1.838289</th>\n      <td>NaN</td>\n      <td>NaN</td>\n      <td>1.0</td>\n      <td>NaN</td>\n      <td>NaN</td>\n    </tr>\n    <tr>\n      <th>-1.683549</th>\n      <td>NaN</td>\n      <td>NaN</td>\n      <td>NaN</td>\n      <td>NaN</td>\n      <td>1.0</td>\n    </tr>\n    <tr>\n      <th>-1.617232</th>\n      <td>1.0</td>\n      <td>NaN</td>\n      <td>NaN</td>\n      <td>NaN</td>\n      <td>NaN</td>\n    </tr>\n    <tr>\n      <th>-1.162759</th>\n      <td>NaN</td>\n      <td>NaN</td>\n      <td>NaN</td>\n      <td>1.0</td>\n      <td>NaN</td>\n    </tr>\n    <tr>\n      <th>-0.917936</th>\n      <td>NaN</td>\n      <td>1.0</td>\n      <td>NaN</td>\n      <td>NaN</td>\n      <td>NaN</td>\n    </tr>\n    <tr>\n      <th>-0.910378</th>\n      <td>NaN</td>\n      <td>1.0</td>\n      <td>NaN</td>\n      <td>NaN</td>\n      <td>NaN</td>\n    </tr>\n    <tr>\n      <th>-0.837062</th>\n      <td>NaN</td>\n      <td>NaN</td>\n      <td>NaN</td>\n      <td>NaN</td>\n      <td>1.0</td>\n    </tr>\n    <tr>\n      <th>-0.688318</th>\n      <td>NaN</td>\n      <td>NaN</td>\n      <td>1.0</td>\n      <td>NaN</td>\n      <td>NaN</td>\n    </tr>\n    <tr>\n      <th>-0.648698</th>\n      <td>1.0</td>\n      <td>NaN</td>\n      <td>NaN</td>\n      <td>NaN</td>\n      <td>NaN</td>\n    </tr>\n    <tr>\n      <th>-0.541676</th>\n      <td>NaN</td>\n      <td>NaN</td>\n      <td>NaN</td>\n      <td>1.0</td>\n      <td>NaN</td>\n    </tr>\n    <tr>\n      <th>-0.266963</th>\n      <td>1.0</td>\n      <td>NaN</td>\n      <td>NaN</td>\n      <td>NaN</td>\n      <td>NaN</td>\n    </tr>\n    <tr>\n      <th>-0.244292</th>\n      <td>NaN</td>\n      <td>NaN</td>\n      <td>NaN</td>\n      <td>1.0</td>\n      <td>NaN</td>\n    </tr>\n    <tr>\n      <th>-0.118321</th>\n      <td>NaN</td>\n      <td>NaN</td>\n      <td>NaN</td>\n      <td>NaN</td>\n      <td>1.0</td>\n    </tr>\n    <tr>\n      <th>0.041271</th>\n      <td>NaN</td>\n      <td>NaN</td>\n      <td>NaN</td>\n      <td>NaN</td>\n      <td>1.0</td>\n    </tr>\n    <tr>\n      <th>0.099395</th>\n      <td>NaN</td>\n      <td>NaN</td>\n      <td>1.0</td>\n      <td>NaN</td>\n      <td>NaN</td>\n    </tr>\n    <tr>\n      <th>0.127459</th>\n      <td>NaN</td>\n      <td>NaN</td>\n      <td>NaN</td>\n      <td>NaN</td>\n      <td>1.0</td>\n    </tr>\n    <tr>\n      <th>0.224270</th>\n      <td>1.0</td>\n      <td>NaN</td>\n      <td>NaN</td>\n      <td>NaN</td>\n      <td>NaN</td>\n    </tr>\n    <tr>\n      <th>0.374203</th>\n      <td>NaN</td>\n      <td>NaN</td>\n      <td>NaN</td>\n      <td>1.0</td>\n      <td>NaN</td>\n    </tr>\n    <tr>\n      <th>0.654362</th>\n      <td>1.0</td>\n      <td>NaN</td>\n      <td>NaN</td>\n      <td>NaN</td>\n      <td>NaN</td>\n    </tr>\n    <tr>\n      <th>0.677458</th>\n      <td>NaN</td>\n      <td>1.0</td>\n      <td>NaN</td>\n      <td>NaN</td>\n      <td>NaN</td>\n    </tr>\n    <tr>\n      <th>0.764557</th>\n      <td>NaN</td>\n      <td>NaN</td>\n      <td>1.0</td>\n      <td>NaN</td>\n      <td>NaN</td>\n    </tr>\n    <tr>\n      <th>0.955691</th>\n      <td>NaN</td>\n      <td>1.0</td>\n      <td>NaN</td>\n      <td>NaN</td>\n      <td>NaN</td>\n    </tr>\n    <tr>\n      <th>1.163535</th>\n      <td>NaN</td>\n      <td>NaN</td>\n      <td>1.0</td>\n      <td>NaN</td>\n      <td>NaN</td>\n    </tr>\n    <tr>\n      <th>1.303762</th>\n      <td>NaN</td>\n      <td>1.0</td>\n      <td>NaN</td>\n      <td>NaN</td>\n      <td>NaN</td>\n    </tr>\n    <tr>\n      <th>2.192054</th>\n      <td>NaN</td>\n      <td>NaN</td>\n      <td>NaN</td>\n      <td>1.0</td>\n      <td>NaN</td>\n    </tr>\n  </tbody>\n</table>\n</div>"
     },
     "execution_count": 107,
     "metadata": {},
     "output_type": "execute_result"
    }
   ],
   "source": [
    "# 查询数据框 (Data Frame) 中每个列的独特数据值出现次数统计\n",
    "# apply 方法中需要传入函数, df的 每一行 Series 都会被作为 参数传入\n",
    "df.apply(pd.Series.value_counts)"
   ],
   "metadata": {
    "collapsed": false,
    "pycharm": {
     "name": "#%%\n"
    }
   }
  },
  {
   "cell_type": "code",
   "execution_count": 108,
   "outputs": [
    {
     "name": "stdout",
     "output_type": "stream",
     "text": [
      "   0  1  2\n",
      "0  1  2  3\n",
      "1  3  4  5\n",
      "0    1\n",
      "1    3\n",
      "Name: 0, dtype: int64\n",
      "0    2\n",
      "1    4\n",
      "Name: 1, dtype: int64\n",
      "0    3\n",
      "1    5\n",
      "Name: 2, dtype: int64\n"
     ]
    },
    {
     "data": {
      "text/plain": "   0  1  2\n0  1  2  3\n1  3  4  5",
      "text/html": "<div>\n<style scoped>\n    .dataframe tbody tr th:only-of-type {\n        vertical-align: middle;\n    }\n\n    .dataframe tbody tr th {\n        vertical-align: top;\n    }\n\n    .dataframe thead th {\n        text-align: right;\n    }\n</style>\n<table border=\"1\" class=\"dataframe\">\n  <thead>\n    <tr style=\"text-align: right;\">\n      <th></th>\n      <th>0</th>\n      <th>1</th>\n      <th>2</th>\n    </tr>\n  </thead>\n  <tbody>\n    <tr>\n      <th>0</th>\n      <td>1</td>\n      <td>2</td>\n      <td>3</td>\n    </tr>\n    <tr>\n      <th>1</th>\n      <td>3</td>\n      <td>4</td>\n      <td>5</td>\n    </tr>\n  </tbody>\n</table>\n</div>"
     },
     "execution_count": 108,
     "metadata": {},
     "output_type": "execute_result"
    }
   ],
   "source": [
    "def func(s):\n",
    "    print(s)\n",
    "    return s\n",
    "\n",
    "\n",
    "df_01 = pd.DataFrame([[1, 2, 3], [3, 4, 5]])\n",
    "print(df_01)\n",
    "\n",
    "df_01.apply(func)"
   ],
   "metadata": {
    "collapsed": false,
    "pycharm": {
     "name": "#%%\n"
    }
   }
  },
  {
   "cell_type": "markdown",
   "source": [
    "### 5.数据的选取\n",
    "\n",
    "- df[col] # 以数组 Series 的形式返回选取的列\n",
    "- df[ [col1, col2] ] # 以新的数据框(DataFrame)的形式返回选取的列\n",
    "- s.iloc[0] # 按照位置选取\n",
    "- s.loc['index_one'] # 按照行索引选取\n",
    "- df.iloc[0,:] # 选取第一行\n",
    "- df.iloc[0,0] # 选取第一行的第一个元素"
   ],
   "metadata": {
    "collapsed": false,
    "pycharm": {
     "name": "#%% md\n"
    }
   }
  },
  {
   "cell_type": "code",
   "execution_count": 109,
   "outputs": [
    {
     "data": {
      "text/plain": "          A         B         C\n0 -0.338475  0.506773  0.581276\n1 -0.361153  1.252743  0.012709\n2  0.452931  1.223422  1.371463\n3  1.049120 -2.574127 -0.053049\n4 -0.088713 -0.553751  0.118154",
      "text/html": "<div>\n<style scoped>\n    .dataframe tbody tr th:only-of-type {\n        vertical-align: middle;\n    }\n\n    .dataframe tbody tr th {\n        vertical-align: top;\n    }\n\n    .dataframe thead th {\n        text-align: right;\n    }\n</style>\n<table border=\"1\" class=\"dataframe\">\n  <thead>\n    <tr style=\"text-align: right;\">\n      <th></th>\n      <th>A</th>\n      <th>B</th>\n      <th>C</th>\n    </tr>\n  </thead>\n  <tbody>\n    <tr>\n      <th>0</th>\n      <td>-0.338475</td>\n      <td>0.506773</td>\n      <td>0.581276</td>\n    </tr>\n    <tr>\n      <th>1</th>\n      <td>-0.361153</td>\n      <td>1.252743</td>\n      <td>0.012709</td>\n    </tr>\n    <tr>\n      <th>2</th>\n      <td>0.452931</td>\n      <td>1.223422</td>\n      <td>1.371463</td>\n    </tr>\n    <tr>\n      <th>3</th>\n      <td>1.049120</td>\n      <td>-2.574127</td>\n      <td>-0.053049</td>\n    </tr>\n    <tr>\n      <th>4</th>\n      <td>-0.088713</td>\n      <td>-0.553751</td>\n      <td>0.118154</td>\n    </tr>\n  </tbody>\n</table>\n</div>"
     },
     "execution_count": 109,
     "metadata": {},
     "output_type": "execute_result"
    }
   ],
   "source": [
    "df = pd.DataFrame(np.random.randn(5, 3), columns=list('ABC'))\n",
    "df"
   ],
   "metadata": {
    "collapsed": false,
    "pycharm": {
     "name": "#%%\n"
    }
   }
  },
  {
   "cell_type": "code",
   "execution_count": 110,
   "outputs": [
    {
     "data": {
      "text/plain": "0   -0.338475\n1   -0.361153\n2    0.452931\n3    1.049120\n4   -0.088713\nName: A, dtype: float64"
     },
     "execution_count": 110,
     "metadata": {},
     "output_type": "execute_result"
    }
   ],
   "source": [
    "df['A']  # 以数组 Series 的形式返回选取的列"
   ],
   "metadata": {
    "collapsed": false,
    "pycharm": {
     "name": "#%%\n"
    }
   }
  },
  {
   "cell_type": "code",
   "execution_count": 111,
   "outputs": [
    {
     "data": {
      "text/plain": "          A         B\n0 -0.338475  0.506773\n1 -0.361153  1.252743\n2  0.452931  1.223422\n3  1.049120 -2.574127\n4 -0.088713 -0.553751",
      "text/html": "<div>\n<style scoped>\n    .dataframe tbody tr th:only-of-type {\n        vertical-align: middle;\n    }\n\n    .dataframe tbody tr th {\n        vertical-align: top;\n    }\n\n    .dataframe thead th {\n        text-align: right;\n    }\n</style>\n<table border=\"1\" class=\"dataframe\">\n  <thead>\n    <tr style=\"text-align: right;\">\n      <th></th>\n      <th>A</th>\n      <th>B</th>\n    </tr>\n  </thead>\n  <tbody>\n    <tr>\n      <th>0</th>\n      <td>-0.338475</td>\n      <td>0.506773</td>\n    </tr>\n    <tr>\n      <th>1</th>\n      <td>-0.361153</td>\n      <td>1.252743</td>\n    </tr>\n    <tr>\n      <th>2</th>\n      <td>0.452931</td>\n      <td>1.223422</td>\n    </tr>\n    <tr>\n      <th>3</th>\n      <td>1.049120</td>\n      <td>-2.574127</td>\n    </tr>\n    <tr>\n      <th>4</th>\n      <td>-0.088713</td>\n      <td>-0.553751</td>\n    </tr>\n  </tbody>\n</table>\n</div>"
     },
     "execution_count": 111,
     "metadata": {},
     "output_type": "execute_result"
    }
   ],
   "source": [
    "df[['A', 'B']]  # 以新的数据框(DataFrame)的形式返回选取的列"
   ],
   "metadata": {
    "collapsed": false,
    "pycharm": {
     "name": "#%%\n"
    }
   }
  },
  {
   "cell_type": "code",
   "execution_count": 112,
   "outputs": [
    {
     "data": {
      "text/plain": "A   -0.338475\nB    0.506773\nC    0.581276\nName: 0, dtype: float64"
     },
     "execution_count": 112,
     "metadata": {},
     "output_type": "execute_result"
    }
   ],
   "source": [
    "# 按照位置选取 下标从0开始\n",
    "df.iloc[0]"
   ],
   "metadata": {
    "collapsed": false,
    "pycharm": {
     "name": "#%%\n"
    }
   }
  },
  {
   "cell_type": "code",
   "execution_count": 113,
   "outputs": [
    {
     "data": {
      "text/plain": "A   -0.338475\nB    0.506773\nC    0.581276\nName: 0, dtype: float64"
     },
     "execution_count": 113,
     "metadata": {},
     "output_type": "execute_result"
    }
   ],
   "source": [
    "df.iloc[0, :]"
   ],
   "metadata": {
    "collapsed": false,
    "pycharm": {
     "name": "#%%\n"
    }
   }
  },
  {
   "cell_type": "code",
   "execution_count": 114,
   "outputs": [
    {
     "data": {
      "text/plain": "-0.3384752904815126"
     },
     "execution_count": 114,
     "metadata": {},
     "output_type": "execute_result"
    }
   ],
   "source": [
    "# df.iloc 是基于整数位置的选择数据, df.loc 是基于索引选择数据\n",
    "df.iloc[0, 0]"
   ],
   "metadata": {
    "collapsed": false,
    "pycharm": {
     "name": "#%%\n"
    }
   }
  },
  {
   "cell_type": "code",
   "execution_count": 115,
   "outputs": [
    {
     "data": {
      "text/plain": "a       I\nb    Love\nc    Data\ndtype: object"
     },
     "execution_count": 115,
     "metadata": {},
     "output_type": "execute_result"
    }
   ],
   "source": [
    "#\n",
    "s = pd.Series(np.array(['I', 'Love', 'Data']), index=['a', 'b', 'c'])\n",
    "s"
   ],
   "metadata": {
    "collapsed": false,
    "pycharm": {
     "name": "#%%\n"
    }
   }
  },
  {
   "cell_type": "code",
   "execution_count": 116,
   "outputs": [
    {
     "data": {
      "text/plain": "'I'"
     },
     "execution_count": 116,
     "metadata": {},
     "output_type": "execute_result"
    }
   ],
   "source": [
    "# 按照行索引选取\n",
    "s.loc['a']"
   ],
   "metadata": {
    "collapsed": false,
    "pycharm": {
     "name": "#%%\n"
    }
   }
  },
  {
   "cell_type": "markdown",
   "source": [
    "### 6. 数据清洗"
   ],
   "metadata": {
    "collapsed": false,
    "pycharm": {
     "name": "#%% md\n"
    }
   }
  },
  {
   "cell_type": "code",
   "execution_count": 117,
   "outputs": [
    {
     "data": {
      "text/plain": "          A         B         C\n0  1.171894 -0.119856 -0.083624\n1 -0.449261 -1.041448 -0.757457\n2 -0.354133 -0.090132 -1.221225\n3 -0.510058  0.350712 -0.821695\n4 -1.100662 -1.460904  1.253864",
      "text/html": "<div>\n<style scoped>\n    .dataframe tbody tr th:only-of-type {\n        vertical-align: middle;\n    }\n\n    .dataframe tbody tr th {\n        vertical-align: top;\n    }\n\n    .dataframe thead th {\n        text-align: right;\n    }\n</style>\n<table border=\"1\" class=\"dataframe\">\n  <thead>\n    <tr style=\"text-align: right;\">\n      <th></th>\n      <th>A</th>\n      <th>B</th>\n      <th>C</th>\n    </tr>\n  </thead>\n  <tbody>\n    <tr>\n      <th>0</th>\n      <td>1.171894</td>\n      <td>-0.119856</td>\n      <td>-0.083624</td>\n    </tr>\n    <tr>\n      <th>1</th>\n      <td>-0.449261</td>\n      <td>-1.041448</td>\n      <td>-0.757457</td>\n    </tr>\n    <tr>\n      <th>2</th>\n      <td>-0.354133</td>\n      <td>-0.090132</td>\n      <td>-1.221225</td>\n    </tr>\n    <tr>\n      <th>3</th>\n      <td>-0.510058</td>\n      <td>0.350712</td>\n      <td>-0.821695</td>\n    </tr>\n    <tr>\n      <th>4</th>\n      <td>-1.100662</td>\n      <td>-1.460904</td>\n      <td>1.253864</td>\n    </tr>\n  </tbody>\n</table>\n</div>"
     },
     "execution_count": 117,
     "metadata": {},
     "output_type": "execute_result"
    }
   ],
   "source": [
    "df = pd.DataFrame(np.random.randn(5, 3), columns=['A', 'B', 'C'])\n",
    "df"
   ],
   "metadata": {
    "collapsed": false,
    "pycharm": {
     "name": "#%%\n"
    }
   }
  },
  {
   "cell_type": "code",
   "execution_count": 118,
   "outputs": [
    {
     "data": {
      "text/plain": "          D         E         F\n0  1.171894 -0.119856 -0.083624\n1 -0.449261 -1.041448 -0.757457\n2 -0.354133 -0.090132 -1.221225\n3 -0.510058  0.350712 -0.821695\n4 -1.100662 -1.460904  1.253864",
      "text/html": "<div>\n<style scoped>\n    .dataframe tbody tr th:only-of-type {\n        vertical-align: middle;\n    }\n\n    .dataframe tbody tr th {\n        vertical-align: top;\n    }\n\n    .dataframe thead th {\n        text-align: right;\n    }\n</style>\n<table border=\"1\" class=\"dataframe\">\n  <thead>\n    <tr style=\"text-align: right;\">\n      <th></th>\n      <th>D</th>\n      <th>E</th>\n      <th>F</th>\n    </tr>\n  </thead>\n  <tbody>\n    <tr>\n      <th>0</th>\n      <td>1.171894</td>\n      <td>-0.119856</td>\n      <td>-0.083624</td>\n    </tr>\n    <tr>\n      <th>1</th>\n      <td>-0.449261</td>\n      <td>-1.041448</td>\n      <td>-0.757457</td>\n    </tr>\n    <tr>\n      <th>2</th>\n      <td>-0.354133</td>\n      <td>-0.090132</td>\n      <td>-1.221225</td>\n    </tr>\n    <tr>\n      <th>3</th>\n      <td>-0.510058</td>\n      <td>0.350712</td>\n      <td>-0.821695</td>\n    </tr>\n    <tr>\n      <th>4</th>\n      <td>-1.100662</td>\n      <td>-1.460904</td>\n      <td>1.253864</td>\n    </tr>\n  </tbody>\n</table>\n</div>"
     },
     "execution_count": 118,
     "metadata": {},
     "output_type": "execute_result"
    }
   ],
   "source": [
    "# 重命名 DataFrame 的列名\n",
    "df.columns = ['D', 'E', 'F']\n",
    "df"
   ],
   "metadata": {
    "collapsed": false,
    "pycharm": {
     "name": "#%%\n"
    }
   }
  },
  {
   "cell_type": "code",
   "execution_count": 120,
   "outputs": [
    {
     "data": {
      "text/plain": "     a    b    c\n0  1.0  NaN  foo\n1  NaN  4.0  foo\n2  2.0  NaN  foo\n3  3.0  5.0  foo\n4  6.0  9.0  foo\n5  NaN  NaN  foo",
      "text/html": "<div>\n<style scoped>\n    .dataframe tbody tr th:only-of-type {\n        vertical-align: middle;\n    }\n\n    .dataframe tbody tr th {\n        vertical-align: top;\n    }\n\n    .dataframe thead th {\n        text-align: right;\n    }\n</style>\n<table border=\"1\" class=\"dataframe\">\n  <thead>\n    <tr style=\"text-align: right;\">\n      <th></th>\n      <th>a</th>\n      <th>b</th>\n      <th>c</th>\n    </tr>\n  </thead>\n  <tbody>\n    <tr>\n      <th>0</th>\n      <td>1.0</td>\n      <td>NaN</td>\n      <td>foo</td>\n    </tr>\n    <tr>\n      <th>1</th>\n      <td>NaN</td>\n      <td>4.0</td>\n      <td>foo</td>\n    </tr>\n    <tr>\n      <th>2</th>\n      <td>2.0</td>\n      <td>NaN</td>\n      <td>foo</td>\n    </tr>\n    <tr>\n      <th>3</th>\n      <td>3.0</td>\n      <td>5.0</td>\n      <td>foo</td>\n    </tr>\n    <tr>\n      <th>4</th>\n      <td>6.0</td>\n      <td>9.0</td>\n      <td>foo</td>\n    </tr>\n    <tr>\n      <th>5</th>\n      <td>NaN</td>\n      <td>NaN</td>\n      <td>foo</td>\n    </tr>\n  </tbody>\n</table>\n</div>"
     },
     "execution_count": 120,
     "metadata": {},
     "output_type": "execute_result"
    }
   ],
   "source": [
    "df = pd.DataFrame({'A':np.array([1,np.nan,2,3,6,np.nan]),\n",
    "                          'B':np.array([np.nan,4,np.nan,5,9,np.nan]),\n",
    "                          'C':'foo'})\n",
    "df.columns = ['a', 'b', 'c']\n",
    "df"
   ],
   "metadata": {
    "collapsed": false,
    "pycharm": {
     "name": "#%%\n"
    }
   }
  },
  {
   "cell_type": "code",
   "execution_count": 121,
   "outputs": [
    {
     "data": {
      "text/plain": "       a      b      c\n0  False   True  False\n1   True  False  False\n2  False   True  False\n3  False  False  False\n4  False  False  False\n5   True   True  False",
      "text/html": "<div>\n<style scoped>\n    .dataframe tbody tr th:only-of-type {\n        vertical-align: middle;\n    }\n\n    .dataframe tbody tr th {\n        vertical-align: top;\n    }\n\n    .dataframe thead th {\n        text-align: right;\n    }\n</style>\n<table border=\"1\" class=\"dataframe\">\n  <thead>\n    <tr style=\"text-align: right;\">\n      <th></th>\n      <th>a</th>\n      <th>b</th>\n      <th>c</th>\n    </tr>\n  </thead>\n  <tbody>\n    <tr>\n      <th>0</th>\n      <td>False</td>\n      <td>True</td>\n      <td>False</td>\n    </tr>\n    <tr>\n      <th>1</th>\n      <td>True</td>\n      <td>False</td>\n      <td>False</td>\n    </tr>\n    <tr>\n      <th>2</th>\n      <td>False</td>\n      <td>True</td>\n      <td>False</td>\n    </tr>\n    <tr>\n      <th>3</th>\n      <td>False</td>\n      <td>False</td>\n      <td>False</td>\n    </tr>\n    <tr>\n      <th>4</th>\n      <td>False</td>\n      <td>False</td>\n      <td>False</td>\n    </tr>\n    <tr>\n      <th>5</th>\n      <td>True</td>\n      <td>True</td>\n      <td>False</td>\n    </tr>\n  </tbody>\n</table>\n</div>"
     },
     "execution_count": 121,
     "metadata": {},
     "output_type": "execute_result"
    }
   ],
   "source": [
    "#  检查数据中空值出现的情况，并返回一个由布尔值(True,Fale)组成的列\n",
    "df.isnull()"
   ],
   "metadata": {
    "collapsed": false,
    "pycharm": {
     "name": "#%%\n"
    }
   }
  },
  {
   "cell_type": "code",
   "execution_count": 122,
   "outputs": [
    {
     "data": {
      "text/plain": "       a      b     c\n0   True  False  True\n1  False   True  True\n2   True  False  True\n3   True   True  True\n4   True   True  True\n5  False  False  True",
      "text/html": "<div>\n<style scoped>\n    .dataframe tbody tr th:only-of-type {\n        vertical-align: middle;\n    }\n\n    .dataframe tbody tr th {\n        vertical-align: top;\n    }\n\n    .dataframe thead th {\n        text-align: right;\n    }\n</style>\n<table border=\"1\" class=\"dataframe\">\n  <thead>\n    <tr style=\"text-align: right;\">\n      <th></th>\n      <th>a</th>\n      <th>b</th>\n      <th>c</th>\n    </tr>\n  </thead>\n  <tbody>\n    <tr>\n      <th>0</th>\n      <td>True</td>\n      <td>False</td>\n      <td>True</td>\n    </tr>\n    <tr>\n      <th>1</th>\n      <td>False</td>\n      <td>True</td>\n      <td>True</td>\n    </tr>\n    <tr>\n      <th>2</th>\n      <td>True</td>\n      <td>False</td>\n      <td>True</td>\n    </tr>\n    <tr>\n      <th>3</th>\n      <td>True</td>\n      <td>True</td>\n      <td>True</td>\n    </tr>\n    <tr>\n      <th>4</th>\n      <td>True</td>\n      <td>True</td>\n      <td>True</td>\n    </tr>\n    <tr>\n      <th>5</th>\n      <td>False</td>\n      <td>False</td>\n      <td>True</td>\n    </tr>\n  </tbody>\n</table>\n</div>"
     },
     "execution_count": 122,
     "metadata": {},
     "output_type": "execute_result"
    }
   ],
   "source": [
    "# 检查数据中非空值出现的情况，并返回一个由布尔值(True,False)组成的列\n",
    "df.notnull()"
   ],
   "metadata": {
    "collapsed": false,
    "pycharm": {
     "name": "#%%\n"
    }
   }
  },
  {
   "cell_type": "code",
   "execution_count": 123,
   "outputs": [
    {
     "data": {
      "text/plain": "     a    b    c\n3  3.0  5.0  foo\n4  6.0  9.0  foo",
      "text/html": "<div>\n<style scoped>\n    .dataframe tbody tr th:only-of-type {\n        vertical-align: middle;\n    }\n\n    .dataframe tbody tr th {\n        vertical-align: top;\n    }\n\n    .dataframe thead th {\n        text-align: right;\n    }\n</style>\n<table border=\"1\" class=\"dataframe\">\n  <thead>\n    <tr style=\"text-align: right;\">\n      <th></th>\n      <th>a</th>\n      <th>b</th>\n      <th>c</th>\n    </tr>\n  </thead>\n  <tbody>\n    <tr>\n      <th>3</th>\n      <td>3.0</td>\n      <td>5.0</td>\n      <td>foo</td>\n    </tr>\n    <tr>\n      <th>4</th>\n      <td>6.0</td>\n      <td>9.0</td>\n      <td>foo</td>\n    </tr>\n  </tbody>\n</table>\n</div>"
     },
     "execution_count": 123,
     "metadata": {},
     "output_type": "execute_result"
    }
   ],
   "source": [
    "# 移除 DataFrame 中包含空值的行\n",
    "df.dropna()"
   ],
   "metadata": {
    "collapsed": false,
    "pycharm": {
     "name": "#%%\n"
    }
   }
  },
  {
   "cell_type": "code",
   "execution_count": 124,
   "outputs": [
    {
     "data": {
      "text/plain": "     C\n0  foo\n1  foo\n2  foo\n3  foo\n4  foo\n5  foo",
      "text/html": "<div>\n<style scoped>\n    .dataframe tbody tr th:only-of-type {\n        vertical-align: middle;\n    }\n\n    .dataframe tbody tr th {\n        vertical-align: top;\n    }\n\n    .dataframe thead th {\n        text-align: right;\n    }\n</style>\n<table border=\"1\" class=\"dataframe\">\n  <thead>\n    <tr style=\"text-align: right;\">\n      <th></th>\n      <th>C</th>\n    </tr>\n  </thead>\n  <tbody>\n    <tr>\n      <th>0</th>\n      <td>foo</td>\n    </tr>\n    <tr>\n      <th>1</th>\n      <td>foo</td>\n    </tr>\n    <tr>\n      <th>2</th>\n      <td>foo</td>\n    </tr>\n    <tr>\n      <th>3</th>\n      <td>foo</td>\n    </tr>\n    <tr>\n      <th>4</th>\n      <td>foo</td>\n    </tr>\n    <tr>\n      <th>5</th>\n      <td>foo</td>\n    </tr>\n  </tbody>\n</table>\n</div>"
     },
     "execution_count": 124,
     "metadata": {},
     "output_type": "execute_result"
    }
   ],
   "source": [
    "df = pd.DataFrame({'A':np.array([1,np.nan,2,3,6,np.nan]),\n",
    "                   'B':np.array([np.nan,4,np.nan,5,9,np.nan]),\n",
    "                   'C':'foo'})\n",
    "# 移除所有包含空值的列, (axis = 0 , 表示行, axis = 1表示列)\n",
    "df.dropna(axis=1)"
   ],
   "metadata": {
    "collapsed": false,
    "pycharm": {
     "name": "#%%\n"
    }
   }
  },
  {
   "cell_type": "code",
   "execution_count": 128,
   "outputs": [
    {
     "data": {
      "text/plain": "     A    B    C\n0  1.0  NaN  foo\n1  NaN  4.0  foo\n2  2.0  NaN  foo\n3  3.0  5.0  foo\n4  6.0  9.0  foo\n5  NaN  NaN  foo",
      "text/html": "<div>\n<style scoped>\n    .dataframe tbody tr th:only-of-type {\n        vertical-align: middle;\n    }\n\n    .dataframe tbody tr th {\n        vertical-align: top;\n    }\n\n    .dataframe thead th {\n        text-align: right;\n    }\n</style>\n<table border=\"1\" class=\"dataframe\">\n  <thead>\n    <tr style=\"text-align: right;\">\n      <th></th>\n      <th>A</th>\n      <th>B</th>\n      <th>C</th>\n    </tr>\n  </thead>\n  <tbody>\n    <tr>\n      <th>0</th>\n      <td>1.0</td>\n      <td>NaN</td>\n      <td>foo</td>\n    </tr>\n    <tr>\n      <th>1</th>\n      <td>NaN</td>\n      <td>4.0</td>\n      <td>foo</td>\n    </tr>\n    <tr>\n      <th>2</th>\n      <td>2.0</td>\n      <td>NaN</td>\n      <td>foo</td>\n    </tr>\n    <tr>\n      <th>3</th>\n      <td>3.0</td>\n      <td>5.0</td>\n      <td>foo</td>\n    </tr>\n    <tr>\n      <th>4</th>\n      <td>6.0</td>\n      <td>9.0</td>\n      <td>foo</td>\n    </tr>\n    <tr>\n      <th>5</th>\n      <td>NaN</td>\n      <td>NaN</td>\n      <td>foo</td>\n    </tr>\n  </tbody>\n</table>\n</div>"
     },
     "execution_count": 128,
     "metadata": {},
     "output_type": "execute_result"
    }
   ],
   "source": [
    "df = pd.DataFrame({'A':np.array([1,np.nan,2,3,6,np.nan]),\n",
    "                   'B':np.array([np.nan,4,np.nan,5,9,np.nan]),\n",
    "                   'C':'foo'})\n",
    "# thresh = n 这一行(列)除去NA值，剩余数值的数量大于等于n，便显示这一行。\n",
    "res = df.dropna(axis=1, thresh=1)\n",
    "res"
   ],
   "metadata": {
    "collapsed": false,
    "pycharm": {
     "name": "#%%\n"
    }
   }
  },
  {
   "cell_type": "code",
   "execution_count": null,
   "outputs": [],
   "source": [],
   "metadata": {
    "collapsed": false,
    "pycharm": {
     "name": "#%%\n"
    }
   }
  }
 ],
 "metadata": {
  "kernelspec": {
   "display_name": "Python 3",
   "language": "python",
   "name": "python3"
  },
  "language_info": {
   "codemirror_mode": {
    "name": "ipython",
    "version": 2
   },
   "file_extension": ".py",
   "mimetype": "text/x-python",
   "name": "python",
   "nbconvert_exporter": "python",
   "pygments_lexer": "ipython2",
   "version": "2.7.6"
  }
 },
 "nbformat": 4,
 "nbformat_minor": 0
}