{
 "cells": [
  {
   "cell_type": "markdown",
   "metadata": {
    "collapsed": true,
    "pycharm": {
     "name": "#%% md\n"
    }
   },
   "source": [
    "## Pandas 基础命令速查表\n",
    "- 参考 :\n",
    "    1. [速查表](https://www.heywhale.com/mw/project/59e389b54663f7655c48f518)\n",
    "    2. [Pandas教程](https://www.yiibai.com/pandas)\n",
    "- 缩写解释 & 库的导入\n",
    "    1. df --- 任意的pandas DataFrame(数据框)对象\n",
    "    2. s --- 任意的pandas Series(数组)对象\n",
    "    3. pandas和numpy是用Python做数据分析最基础且最核心的库\n"
   ]
  },
  {
   "cell_type": "code",
   "execution_count": 1,
   "outputs": [],
   "source": [
    "import pandas as pd\n",
    "import numpy as np"
   ],
   "metadata": {
    "collapsed": false,
    "pycharm": {
     "name": "#%%\n"
    }
   }
  },
  {
   "cell_type": "markdown",
   "source": [
    "### 1. 数据的导入\n",
    "\n",
    "- 数据的导入方式有以下几种 :\n",
    "\n",
    "- pd.read_csv(filename) 导入csv格式文件中的数据\n",
    "- pd.read_table(filename) 导入有分隔符的文本 (如TSV) 中的数据\n",
    "- pd.read_excel(filename) 导入Excel格式文件中的数据\n",
    "- pd.read_sql(query, connection_object) 导入SQL数据表/数据库中的数据\n",
    "- pd.read_json(json_string) 导入JSON格式的字符，URL地址或者文件中的数据\n",
    "- pd.read_html(url) 导入经过解析的URL地址中包含的数据框 (DataFrame) 数据\n",
    "- pd.read_clipboard() 导入系统粘贴板里面的数据\n",
    "- pd.DataFrame(dict)  导入Python字典 (dict) 里面的数据，其中key是数据框的表头，value是数据框的内容。"
   ],
   "metadata": {
    "collapsed": false,
    "pycharm": {
     "name": "#%% md\n"
    }
   }
  },
  {
   "cell_type": "markdown",
   "source": [
    "#### 1.1 pd.read_csv()\n",
    "\n",
    "- 作用 : 读取CSV格式的数据\n",
    "- 参数 :\n",
    "    1. filepath_or_buffer : 文件路径, 支持 ftp 文件\n",
    "    2. sep : 分隔符, 默认为 ,\n",
    "    3. header : 文件中, 要作为字段的行的行号, 默认 header=0, 如果数据中没有行, 设置 header = None\n",
    "    4. names: 字段名, 值为 ['字段1', '字段2', '字段3']\n",
    "    5. index_col : 要作为行标签的列, 等价于 header"
   ],
   "metadata": {
    "collapsed": false,
    "pycharm": {
     "name": "#%% md\n"
    }
   }
  },
  {
   "cell_type": "code",
   "execution_count": 2,
   "outputs": [
    {
     "data": {
      "text/plain": "   sepal_length  sepal_width  petal_length  petal_width species\n0           5.1          3.5           1.4          0.2  setosa\n1           4.9          3.0           1.4          0.2  setosa\n2           4.7          3.2           1.3          0.2  setosa\n3           4.6          3.1           1.5          0.2  setosa\n4           5.0          3.6           1.4          0.2  setosa",
      "text/html": "<div>\n<style scoped>\n    .dataframe tbody tr th:only-of-type {\n        vertical-align: middle;\n    }\n\n    .dataframe tbody tr th {\n        vertical-align: top;\n    }\n\n    .dataframe thead th {\n        text-align: right;\n    }\n</style>\n<table border=\"1\" class=\"dataframe\">\n  <thead>\n    <tr style=\"text-align: right;\">\n      <th></th>\n      <th>sepal_length</th>\n      <th>sepal_width</th>\n      <th>petal_length</th>\n      <th>petal_width</th>\n      <th>species</th>\n    </tr>\n  </thead>\n  <tbody>\n    <tr>\n      <th>0</th>\n      <td>5.1</td>\n      <td>3.5</td>\n      <td>1.4</td>\n      <td>0.2</td>\n      <td>setosa</td>\n    </tr>\n    <tr>\n      <th>1</th>\n      <td>4.9</td>\n      <td>3.0</td>\n      <td>1.4</td>\n      <td>0.2</td>\n      <td>setosa</td>\n    </tr>\n    <tr>\n      <th>2</th>\n      <td>4.7</td>\n      <td>3.2</td>\n      <td>1.3</td>\n      <td>0.2</td>\n      <td>setosa</td>\n    </tr>\n    <tr>\n      <th>3</th>\n      <td>4.6</td>\n      <td>3.1</td>\n      <td>1.5</td>\n      <td>0.2</td>\n      <td>setosa</td>\n    </tr>\n    <tr>\n      <th>4</th>\n      <td>5.0</td>\n      <td>3.6</td>\n      <td>1.4</td>\n      <td>0.2</td>\n      <td>setosa</td>\n    </tr>\n  </tbody>\n</table>\n</div>"
     },
     "execution_count": 2,
     "metadata": {},
     "output_type": "execute_result"
    }
   ],
   "source": [
    "CSV_PATH = '../data/可视化数据集/iris.csv'\n",
    "iris = pd.read_csv(CSV_PATH, sep=',')\n",
    "iris[:5]"
   ],
   "metadata": {
    "collapsed": false,
    "pycharm": {
     "name": "#%%\n"
    }
   }
  },
  {
   "cell_type": "markdown",
   "source": [
    "### 2. 数据的导出\n",
    "\n",
    "- [read_csv和to_csv参数详解](https://blog.csdn.net/u010801439/article/details/80033341/)\n",
    "\n",
    "- df.to_csv(filename) 将数据框 (DataFrame)中的数据导入csv格式的文件中\n",
    "- df.to_excel(filename) 将数据框 (DataFrame)中的数据导入Excel格式的文件中\n",
    "- df.to_sql(table_name,connection_object) 将数据框 (DataFrame)中的数据导入SQL数据表/数据库中\n",
    "- df.to_json(filename) 将数据框 (DataFrame)中的数据导入JSON格式的文件中"
   ],
   "metadata": {
    "collapsed": false,
    "pycharm": {
     "name": "#%% md\n"
    }
   }
  },
  {
   "cell_type": "markdown",
   "source": [
    "#### 2.1 df.to_csv()\n",
    "\n",
    "- 作用 : 将文件保存为CSV文件\n",
    "- 参数 :\n",
    "    1. path_or_buf 输出文件路径\n",
    "    2. sep 设置分隔符\n",
    "    3. na_rep 替换空值\n",
    "    4. header 是否保留列名 , header=0 表示不保存列名\n",
    "    5. index 是否保留行索引\n",
    "    6. cols 是否保留某列数据 (columns=['name'])\n",
    "    7. index 是否写入列名, 默认为 True"
   ],
   "metadata": {
    "collapsed": false,
    "pycharm": {
     "name": "#%% md\n"
    }
   }
  },
  {
   "cell_type": "code",
   "execution_count": 3,
   "outputs": [],
   "source": [
    "iris.to_csv('../to_data/iris_01.csv',\n",
    "            sep=';', na_rep='?', header=0)"
   ],
   "metadata": {
    "collapsed": false,
    "pycharm": {
     "name": "#%%\n"
    }
   }
  },
  {
   "cell_type": "markdown",
   "source": [
    "### 3. 创建测试数据\n",
    "\n",
    "- pd.DataFrame() 创建DataFrame\n",
    "    1. column : 值为list, 用于指定 DataFrame 的列名\n",
    "- pd.Series() 创建Series\n",
    "- 添加一个日期索引 index\n",
    "    1. df.index = pd.date_range('2017/1/1', periods=df.shape[0])"
   ],
   "metadata": {
    "collapsed": false,
    "pycharm": {
     "name": "#%% md\n"
    }
   }
  },
  {
   "cell_type": "code",
   "execution_count": 4,
   "outputs": [
    {
     "data": {
      "text/plain": "          a         b         c         d         e\n0 -0.312884 -2.605384  0.918075 -1.498632  0.233821\n1  0.671914 -1.500436  0.311025  1.704157  2.137811\n2 -1.853025  0.264112 -1.060433  0.834414  0.870616\n3 -0.378416 -0.135969 -0.263779  1.060152  2.415423\n4 -0.321319  0.032048  0.561052  0.716224 -0.204779",
      "text/html": "<div>\n<style scoped>\n    .dataframe tbody tr th:only-of-type {\n        vertical-align: middle;\n    }\n\n    .dataframe tbody tr th {\n        vertical-align: top;\n    }\n\n    .dataframe thead th {\n        text-align: right;\n    }\n</style>\n<table border=\"1\" class=\"dataframe\">\n  <thead>\n    <tr style=\"text-align: right;\">\n      <th></th>\n      <th>a</th>\n      <th>b</th>\n      <th>c</th>\n      <th>d</th>\n      <th>e</th>\n    </tr>\n  </thead>\n  <tbody>\n    <tr>\n      <th>0</th>\n      <td>-0.312884</td>\n      <td>-2.605384</td>\n      <td>0.918075</td>\n      <td>-1.498632</td>\n      <td>0.233821</td>\n    </tr>\n    <tr>\n      <th>1</th>\n      <td>0.671914</td>\n      <td>-1.500436</td>\n      <td>0.311025</td>\n      <td>1.704157</td>\n      <td>2.137811</td>\n    </tr>\n    <tr>\n      <th>2</th>\n      <td>-1.853025</td>\n      <td>0.264112</td>\n      <td>-1.060433</td>\n      <td>0.834414</td>\n      <td>0.870616</td>\n    </tr>\n    <tr>\n      <th>3</th>\n      <td>-0.378416</td>\n      <td>-0.135969</td>\n      <td>-0.263779</td>\n      <td>1.060152</td>\n      <td>2.415423</td>\n    </tr>\n    <tr>\n      <th>4</th>\n      <td>-0.321319</td>\n      <td>0.032048</td>\n      <td>0.561052</td>\n      <td>0.716224</td>\n      <td>-0.204779</td>\n    </tr>\n  </tbody>\n</table>\n</div>"
     },
     "execution_count": 4,
     "metadata": {},
     "output_type": "execute_result"
    }
   ],
   "source": [
    "# 创建一个 5行5列的数据\n",
    "pd.DataFrame(np.random.randn(5, 5), columns=['a', 'b', 'c', 'd', 'e'])"
   ],
   "metadata": {
    "collapsed": false,
    "pycharm": {
     "name": "#%%\n"
    }
   }
  },
  {
   "cell_type": "code",
   "execution_count": 5,
   "outputs": [
    {
     "data": {
      "text/plain": "0    Lab109\n1       100\n2       大家好\ndtype: object"
     },
     "execution_count": 5,
     "metadata": {},
     "output_type": "execute_result"
    }
   ],
   "source": [
    "# 从一个可迭代对象中创建一个 Series\n",
    "my_list = ['Lab109', 100, '大家好']\n",
    "pd.Series(my_list)"
   ],
   "metadata": {
    "collapsed": false,
    "pycharm": {
     "name": "#%%\n"
    }
   }
  },
  {
   "cell_type": "markdown",
   "source": [
    "#### 3.1 创建数字索引"
   ],
   "metadata": {
    "collapsed": false,
    "pycharm": {
     "name": "#%% md\n"
    }
   }
  },
  {
   "cell_type": "code",
   "execution_count": 6,
   "outputs": [
    {
     "data": {
      "text/plain": "                   0         1         2         3\n2021-12-21  1.168280  0.937801 -0.956634  0.524013\n2021-12-22 -0.192226  1.006658 -0.658646 -1.428377\n2021-12-23 -1.203570  1.410060  0.407651  0.956409\n2021-12-24  0.644388  0.988389  0.823899 -1.474123\n2021-12-25  2.580594 -0.735692  1.725934 -0.087424",
      "text/html": "<div>\n<style scoped>\n    .dataframe tbody tr th:only-of-type {\n        vertical-align: middle;\n    }\n\n    .dataframe tbody tr th {\n        vertical-align: top;\n    }\n\n    .dataframe thead th {\n        text-align: right;\n    }\n</style>\n<table border=\"1\" class=\"dataframe\">\n  <thead>\n    <tr style=\"text-align: right;\">\n      <th></th>\n      <th>0</th>\n      <th>1</th>\n      <th>2</th>\n      <th>3</th>\n    </tr>\n  </thead>\n  <tbody>\n    <tr>\n      <th>2021-12-21</th>\n      <td>1.168280</td>\n      <td>0.937801</td>\n      <td>-0.956634</td>\n      <td>0.524013</td>\n    </tr>\n    <tr>\n      <th>2021-12-22</th>\n      <td>-0.192226</td>\n      <td>1.006658</td>\n      <td>-0.658646</td>\n      <td>-1.428377</td>\n    </tr>\n    <tr>\n      <th>2021-12-23</th>\n      <td>-1.203570</td>\n      <td>1.410060</td>\n      <td>0.407651</td>\n      <td>0.956409</td>\n    </tr>\n    <tr>\n      <th>2021-12-24</th>\n      <td>0.644388</td>\n      <td>0.988389</td>\n      <td>0.823899</td>\n      <td>-1.474123</td>\n    </tr>\n    <tr>\n      <th>2021-12-25</th>\n      <td>2.580594</td>\n      <td>-0.735692</td>\n      <td>1.725934</td>\n      <td>-0.087424</td>\n    </tr>\n  </tbody>\n</table>\n</div>"
     },
     "execution_count": 6,
     "metadata": {},
     "output_type": "execute_result"
    }
   ],
   "source": [
    "# 添加日期索引\n",
    "\n",
    "df_data = pd.DataFrame(np.random.randn(5, 4))\n",
    "df_data.index = pd.date_range('2021/12/21', periods=df_data.shape[0])\n",
    "df_data"
   ],
   "metadata": {
    "collapsed": false,
    "pycharm": {
     "name": "#%%\n"
    }
   }
  },
  {
   "cell_type": "markdown",
   "source": [
    "### 4. 数据的查看与检查\n",
    "\n",
    "- df.head(n) 查看前 n 行的数据\n",
    "- df.tail(n) 查看后 n 行的数据\n",
    "- df.shape 查看数据框的行数与列数\n",
    "- df.info() 查看数据框 (DataFrame) 的索引、数据类型及内存信息\n",
    "- df.describe() 对于数据类型为数值型的列，查询其描述性统计的内容\n",
    "- s.value_counts(dropna=False) 查询每个独特数据值出现次数统计\n",
    "- df.apply(pd.Series.value_counts) 查询数据框 (Data Frame) 中每个列的独特数据值出现次数统计"
   ],
   "metadata": {
    "collapsed": false,
    "pycharm": {
     "name": "#%% md\n"
    }
   }
  },
  {
   "cell_type": "code",
   "execution_count": 7,
   "outputs": [
    {
     "data": {
      "text/plain": "          0         1         2         3         4\n0 -0.939491 -0.584163 -0.059478  0.719018  0.500074\n1  0.175181 -0.804781 -0.352492  1.262346  0.297442\n2 -0.037358  0.115162 -0.000692 -1.220388 -1.151031\n3  0.998866 -0.550559  1.303959 -0.977649 -1.120142\n4  1.732517  0.087451  1.061759 -0.750040  0.931477",
      "text/html": "<div>\n<style scoped>\n    .dataframe tbody tr th:only-of-type {\n        vertical-align: middle;\n    }\n\n    .dataframe tbody tr th {\n        vertical-align: top;\n    }\n\n    .dataframe thead th {\n        text-align: right;\n    }\n</style>\n<table border=\"1\" class=\"dataframe\">\n  <thead>\n    <tr style=\"text-align: right;\">\n      <th></th>\n      <th>0</th>\n      <th>1</th>\n      <th>2</th>\n      <th>3</th>\n      <th>4</th>\n    </tr>\n  </thead>\n  <tbody>\n    <tr>\n      <th>0</th>\n      <td>-0.939491</td>\n      <td>-0.584163</td>\n      <td>-0.059478</td>\n      <td>0.719018</td>\n      <td>0.500074</td>\n    </tr>\n    <tr>\n      <th>1</th>\n      <td>0.175181</td>\n      <td>-0.804781</td>\n      <td>-0.352492</td>\n      <td>1.262346</td>\n      <td>0.297442</td>\n    </tr>\n    <tr>\n      <th>2</th>\n      <td>-0.037358</td>\n      <td>0.115162</td>\n      <td>-0.000692</td>\n      <td>-1.220388</td>\n      <td>-1.151031</td>\n    </tr>\n    <tr>\n      <th>3</th>\n      <td>0.998866</td>\n      <td>-0.550559</td>\n      <td>1.303959</td>\n      <td>-0.977649</td>\n      <td>-1.120142</td>\n    </tr>\n    <tr>\n      <th>4</th>\n      <td>1.732517</td>\n      <td>0.087451</td>\n      <td>1.061759</td>\n      <td>-0.750040</td>\n      <td>0.931477</td>\n    </tr>\n  </tbody>\n</table>\n</div>"
     },
     "execution_count": 7,
     "metadata": {},
     "output_type": "execute_result"
    }
   ],
   "source": [
    "df = pd.DataFrame(np.random.randn(5, 5))\n",
    "\n",
    "# 查看数据的前 n 行\n",
    "df.head()  # 默认是前5行"
   ],
   "metadata": {
    "collapsed": false,
    "pycharm": {
     "name": "#%%\n"
    }
   }
  },
  {
   "cell_type": "code",
   "execution_count": 8,
   "outputs": [
    {
     "data": {
      "text/plain": "          0         1         2         3         4\n0 -0.939491 -0.584163 -0.059478  0.719018  0.500074\n1  0.175181 -0.804781 -0.352492  1.262346  0.297442\n2 -0.037358  0.115162 -0.000692 -1.220388 -1.151031",
      "text/html": "<div>\n<style scoped>\n    .dataframe tbody tr th:only-of-type {\n        vertical-align: middle;\n    }\n\n    .dataframe tbody tr th {\n        vertical-align: top;\n    }\n\n    .dataframe thead th {\n        text-align: right;\n    }\n</style>\n<table border=\"1\" class=\"dataframe\">\n  <thead>\n    <tr style=\"text-align: right;\">\n      <th></th>\n      <th>0</th>\n      <th>1</th>\n      <th>2</th>\n      <th>3</th>\n      <th>4</th>\n    </tr>\n  </thead>\n  <tbody>\n    <tr>\n      <th>0</th>\n      <td>-0.939491</td>\n      <td>-0.584163</td>\n      <td>-0.059478</td>\n      <td>0.719018</td>\n      <td>0.500074</td>\n    </tr>\n    <tr>\n      <th>1</th>\n      <td>0.175181</td>\n      <td>-0.804781</td>\n      <td>-0.352492</td>\n      <td>1.262346</td>\n      <td>0.297442</td>\n    </tr>\n    <tr>\n      <th>2</th>\n      <td>-0.037358</td>\n      <td>0.115162</td>\n      <td>-0.000692</td>\n      <td>-1.220388</td>\n      <td>-1.151031</td>\n    </tr>\n  </tbody>\n</table>\n</div>"
     },
     "execution_count": 8,
     "metadata": {},
     "output_type": "execute_result"
    }
   ],
   "source": [
    "df.head(3)"
   ],
   "metadata": {
    "collapsed": false,
    "pycharm": {
     "name": "#%%\n"
    }
   }
  },
  {
   "cell_type": "code",
   "execution_count": 9,
   "outputs": [
    {
     "data": {
      "text/plain": "          0         1         2         3         4\n1  0.175181 -0.804781 -0.352492  1.262346  0.297442\n2 -0.037358  0.115162 -0.000692 -1.220388 -1.151031\n3  0.998866 -0.550559  1.303959 -0.977649 -1.120142\n4  1.732517  0.087451  1.061759 -0.750040  0.931477",
      "text/html": "<div>\n<style scoped>\n    .dataframe tbody tr th:only-of-type {\n        vertical-align: middle;\n    }\n\n    .dataframe tbody tr th {\n        vertical-align: top;\n    }\n\n    .dataframe thead th {\n        text-align: right;\n    }\n</style>\n<table border=\"1\" class=\"dataframe\">\n  <thead>\n    <tr style=\"text-align: right;\">\n      <th></th>\n      <th>0</th>\n      <th>1</th>\n      <th>2</th>\n      <th>3</th>\n      <th>4</th>\n    </tr>\n  </thead>\n  <tbody>\n    <tr>\n      <th>1</th>\n      <td>0.175181</td>\n      <td>-0.804781</td>\n      <td>-0.352492</td>\n      <td>1.262346</td>\n      <td>0.297442</td>\n    </tr>\n    <tr>\n      <th>2</th>\n      <td>-0.037358</td>\n      <td>0.115162</td>\n      <td>-0.000692</td>\n      <td>-1.220388</td>\n      <td>-1.151031</td>\n    </tr>\n    <tr>\n      <th>3</th>\n      <td>0.998866</td>\n      <td>-0.550559</td>\n      <td>1.303959</td>\n      <td>-0.977649</td>\n      <td>-1.120142</td>\n    </tr>\n    <tr>\n      <th>4</th>\n      <td>1.732517</td>\n      <td>0.087451</td>\n      <td>1.061759</td>\n      <td>-0.750040</td>\n      <td>0.931477</td>\n    </tr>\n  </tbody>\n</table>\n</div>"
     },
     "execution_count": 9,
     "metadata": {},
     "output_type": "execute_result"
    }
   ],
   "source": [
    "# 查看数据的最后 n 行\n",
    "df.tail(4)"
   ],
   "metadata": {
    "collapsed": false,
    "pycharm": {
     "name": "#%%\n"
    }
   }
  },
  {
   "cell_type": "code",
   "execution_count": 10,
   "outputs": [
    {
     "data": {
      "text/plain": "(5, 5)"
     },
     "execution_count": 10,
     "metadata": {},
     "output_type": "execute_result"
    }
   ],
   "source": [
    "# 查看数据的行数和列数\n",
    "df.shape"
   ],
   "metadata": {
    "collapsed": false,
    "pycharm": {
     "name": "#%%\n"
    }
   }
  },
  {
   "cell_type": "code",
   "execution_count": 11,
   "outputs": [
    {
     "name": "stdout",
     "output_type": "stream",
     "text": [
      "<class 'pandas.core.frame.DataFrame'>\n",
      "RangeIndex: 5 entries, 0 to 4\n",
      "Data columns (total 5 columns):\n",
      " #   Column  Non-Null Count  Dtype  \n",
      "---  ------  --------------  -----  \n",
      " 0   0       5 non-null      float64\n",
      " 1   1       5 non-null      float64\n",
      " 2   2       5 non-null      float64\n",
      " 3   3       5 non-null      float64\n",
      " 4   4       5 non-null      float64\n",
      "dtypes: float64(5)\n",
      "memory usage: 328.0 bytes\n"
     ]
    }
   ],
   "source": [
    "# 查看数据框 (DataFrame) 的索引、数据类型及内存信息\n",
    "df.info()"
   ],
   "metadata": {
    "collapsed": false,
    "pycharm": {
     "name": "#%%\n"
    }
   }
  },
  {
   "cell_type": "code",
   "execution_count": 12,
   "outputs": [
    {
     "data": {
      "text/plain": "              0         1         2         3         4\ncount  5.000000  5.000000  5.000000  5.000000  5.000000\nmean   0.385943 -0.347378  0.390611 -0.193343 -0.108436\nstd    1.020945  0.421185  0.740362  1.110327  0.965271\nmin   -0.939491 -0.804781 -0.352492 -1.220388 -1.151031\n25%   -0.037358 -0.584163 -0.059478 -0.977649 -1.120142\n50%    0.175181 -0.550559 -0.000692 -0.750040  0.297442\n75%    0.998866  0.087451  1.061759  0.719018  0.500074\nmax    1.732517  0.115162  1.303959  1.262346  0.931477",
      "text/html": "<div>\n<style scoped>\n    .dataframe tbody tr th:only-of-type {\n        vertical-align: middle;\n    }\n\n    .dataframe tbody tr th {\n        vertical-align: top;\n    }\n\n    .dataframe thead th {\n        text-align: right;\n    }\n</style>\n<table border=\"1\" class=\"dataframe\">\n  <thead>\n    <tr style=\"text-align: right;\">\n      <th></th>\n      <th>0</th>\n      <th>1</th>\n      <th>2</th>\n      <th>3</th>\n      <th>4</th>\n    </tr>\n  </thead>\n  <tbody>\n    <tr>\n      <th>count</th>\n      <td>5.000000</td>\n      <td>5.000000</td>\n      <td>5.000000</td>\n      <td>5.000000</td>\n      <td>5.000000</td>\n    </tr>\n    <tr>\n      <th>mean</th>\n      <td>0.385943</td>\n      <td>-0.347378</td>\n      <td>0.390611</td>\n      <td>-0.193343</td>\n      <td>-0.108436</td>\n    </tr>\n    <tr>\n      <th>std</th>\n      <td>1.020945</td>\n      <td>0.421185</td>\n      <td>0.740362</td>\n      <td>1.110327</td>\n      <td>0.965271</td>\n    </tr>\n    <tr>\n      <th>min</th>\n      <td>-0.939491</td>\n      <td>-0.804781</td>\n      <td>-0.352492</td>\n      <td>-1.220388</td>\n      <td>-1.151031</td>\n    </tr>\n    <tr>\n      <th>25%</th>\n      <td>-0.037358</td>\n      <td>-0.584163</td>\n      <td>-0.059478</td>\n      <td>-0.977649</td>\n      <td>-1.120142</td>\n    </tr>\n    <tr>\n      <th>50%</th>\n      <td>0.175181</td>\n      <td>-0.550559</td>\n      <td>-0.000692</td>\n      <td>-0.750040</td>\n      <td>0.297442</td>\n    </tr>\n    <tr>\n      <th>75%</th>\n      <td>0.998866</td>\n      <td>0.087451</td>\n      <td>1.061759</td>\n      <td>0.719018</td>\n      <td>0.500074</td>\n    </tr>\n    <tr>\n      <th>max</th>\n      <td>1.732517</td>\n      <td>0.115162</td>\n      <td>1.303959</td>\n      <td>1.262346</td>\n      <td>0.931477</td>\n    </tr>\n  </tbody>\n</table>\n</div>"
     },
     "execution_count": 12,
     "metadata": {},
     "output_type": "execute_result"
    }
   ],
   "source": [
    "# 对于数据类型为数值型的列，查询其描述性统计的内容\n",
    "# std 表示标准差\n",
    "df.describe()"
   ],
   "metadata": {
    "collapsed": false,
    "pycharm": {
     "name": "#%%\n"
    }
   }
  },
  {
   "cell_type": "code",
   "execution_count": 13,
   "outputs": [
    {
     "data": {
      "text/plain": "1.0    3\n5.0    3\n2.0    2\n3.0    1\n4.0    1\nNaN    1\n6.0    1\n7.0    1\ndtype: int64"
     },
     "execution_count": 13,
     "metadata": {},
     "output_type": "execute_result"
    }
   ],
   "source": [
    "s = pd.Series([1, 2, 3, 1, 1, 2, 4, np.nan, 5, 5, 5, 6, 7])\n",
    "# 查询每个独特数据值出现次数统计\n",
    "# dropna : 是否包括 nan 的统计\n",
    "s.value_counts(dropna=False)"
   ],
   "metadata": {
    "collapsed": false,
    "pycharm": {
     "name": "#%%\n"
    }
   }
  },
  {
   "cell_type": "code",
   "execution_count": 14,
   "outputs": [
    {
     "data": {
      "text/plain": "             0    1    2    3    4\n-1.220388  NaN  NaN  NaN  1.0  NaN\n-1.151031  NaN  NaN  NaN  NaN  1.0\n-1.120142  NaN  NaN  NaN  NaN  1.0\n-0.977649  NaN  NaN  NaN  1.0  NaN\n-0.939491  1.0  NaN  NaN  NaN  NaN\n-0.804781  NaN  1.0  NaN  NaN  NaN\n-0.750040  NaN  NaN  NaN  1.0  NaN\n-0.584163  NaN  1.0  NaN  NaN  NaN\n-0.550559  NaN  1.0  NaN  NaN  NaN\n-0.352492  NaN  NaN  1.0  NaN  NaN\n-0.059478  NaN  NaN  1.0  NaN  NaN\n-0.037358  1.0  NaN  NaN  NaN  NaN\n-0.000692  NaN  NaN  1.0  NaN  NaN\n 0.087451  NaN  1.0  NaN  NaN  NaN\n 0.115162  NaN  1.0  NaN  NaN  NaN\n 0.175181  1.0  NaN  NaN  NaN  NaN\n 0.297442  NaN  NaN  NaN  NaN  1.0\n 0.500074  NaN  NaN  NaN  NaN  1.0\n 0.719018  NaN  NaN  NaN  1.0  NaN\n 0.931477  NaN  NaN  NaN  NaN  1.0\n 0.998866  1.0  NaN  NaN  NaN  NaN\n 1.061759  NaN  NaN  1.0  NaN  NaN\n 1.262346  NaN  NaN  NaN  1.0  NaN\n 1.303959  NaN  NaN  1.0  NaN  NaN\n 1.732517  1.0  NaN  NaN  NaN  NaN",
      "text/html": "<div>\n<style scoped>\n    .dataframe tbody tr th:only-of-type {\n        vertical-align: middle;\n    }\n\n    .dataframe tbody tr th {\n        vertical-align: top;\n    }\n\n    .dataframe thead th {\n        text-align: right;\n    }\n</style>\n<table border=\"1\" class=\"dataframe\">\n  <thead>\n    <tr style=\"text-align: right;\">\n      <th></th>\n      <th>0</th>\n      <th>1</th>\n      <th>2</th>\n      <th>3</th>\n      <th>4</th>\n    </tr>\n  </thead>\n  <tbody>\n    <tr>\n      <th>-1.220388</th>\n      <td>NaN</td>\n      <td>NaN</td>\n      <td>NaN</td>\n      <td>1.0</td>\n      <td>NaN</td>\n    </tr>\n    <tr>\n      <th>-1.151031</th>\n      <td>NaN</td>\n      <td>NaN</td>\n      <td>NaN</td>\n      <td>NaN</td>\n      <td>1.0</td>\n    </tr>\n    <tr>\n      <th>-1.120142</th>\n      <td>NaN</td>\n      <td>NaN</td>\n      <td>NaN</td>\n      <td>NaN</td>\n      <td>1.0</td>\n    </tr>\n    <tr>\n      <th>-0.977649</th>\n      <td>NaN</td>\n      <td>NaN</td>\n      <td>NaN</td>\n      <td>1.0</td>\n      <td>NaN</td>\n    </tr>\n    <tr>\n      <th>-0.939491</th>\n      <td>1.0</td>\n      <td>NaN</td>\n      <td>NaN</td>\n      <td>NaN</td>\n      <td>NaN</td>\n    </tr>\n    <tr>\n      <th>-0.804781</th>\n      <td>NaN</td>\n      <td>1.0</td>\n      <td>NaN</td>\n      <td>NaN</td>\n      <td>NaN</td>\n    </tr>\n    <tr>\n      <th>-0.750040</th>\n      <td>NaN</td>\n      <td>NaN</td>\n      <td>NaN</td>\n      <td>1.0</td>\n      <td>NaN</td>\n    </tr>\n    <tr>\n      <th>-0.584163</th>\n      <td>NaN</td>\n      <td>1.0</td>\n      <td>NaN</td>\n      <td>NaN</td>\n      <td>NaN</td>\n    </tr>\n    <tr>\n      <th>-0.550559</th>\n      <td>NaN</td>\n      <td>1.0</td>\n      <td>NaN</td>\n      <td>NaN</td>\n      <td>NaN</td>\n    </tr>\n    <tr>\n      <th>-0.352492</th>\n      <td>NaN</td>\n      <td>NaN</td>\n      <td>1.0</td>\n      <td>NaN</td>\n      <td>NaN</td>\n    </tr>\n    <tr>\n      <th>-0.059478</th>\n      <td>NaN</td>\n      <td>NaN</td>\n      <td>1.0</td>\n      <td>NaN</td>\n      <td>NaN</td>\n    </tr>\n    <tr>\n      <th>-0.037358</th>\n      <td>1.0</td>\n      <td>NaN</td>\n      <td>NaN</td>\n      <td>NaN</td>\n      <td>NaN</td>\n    </tr>\n    <tr>\n      <th>-0.000692</th>\n      <td>NaN</td>\n      <td>NaN</td>\n      <td>1.0</td>\n      <td>NaN</td>\n      <td>NaN</td>\n    </tr>\n    <tr>\n      <th>0.087451</th>\n      <td>NaN</td>\n      <td>1.0</td>\n      <td>NaN</td>\n      <td>NaN</td>\n      <td>NaN</td>\n    </tr>\n    <tr>\n      <th>0.115162</th>\n      <td>NaN</td>\n      <td>1.0</td>\n      <td>NaN</td>\n      <td>NaN</td>\n      <td>NaN</td>\n    </tr>\n    <tr>\n      <th>0.175181</th>\n      <td>1.0</td>\n      <td>NaN</td>\n      <td>NaN</td>\n      <td>NaN</td>\n      <td>NaN</td>\n    </tr>\n    <tr>\n      <th>0.297442</th>\n      <td>NaN</td>\n      <td>NaN</td>\n      <td>NaN</td>\n      <td>NaN</td>\n      <td>1.0</td>\n    </tr>\n    <tr>\n      <th>0.500074</th>\n      <td>NaN</td>\n      <td>NaN</td>\n      <td>NaN</td>\n      <td>NaN</td>\n      <td>1.0</td>\n    </tr>\n    <tr>\n      <th>0.719018</th>\n      <td>NaN</td>\n      <td>NaN</td>\n      <td>NaN</td>\n      <td>1.0</td>\n      <td>NaN</td>\n    </tr>\n    <tr>\n      <th>0.931477</th>\n      <td>NaN</td>\n      <td>NaN</td>\n      <td>NaN</td>\n      <td>NaN</td>\n      <td>1.0</td>\n    </tr>\n    <tr>\n      <th>0.998866</th>\n      <td>1.0</td>\n      <td>NaN</td>\n      <td>NaN</td>\n      <td>NaN</td>\n      <td>NaN</td>\n    </tr>\n    <tr>\n      <th>1.061759</th>\n      <td>NaN</td>\n      <td>NaN</td>\n      <td>1.0</td>\n      <td>NaN</td>\n      <td>NaN</td>\n    </tr>\n    <tr>\n      <th>1.262346</th>\n      <td>NaN</td>\n      <td>NaN</td>\n      <td>NaN</td>\n      <td>1.0</td>\n      <td>NaN</td>\n    </tr>\n    <tr>\n      <th>1.303959</th>\n      <td>NaN</td>\n      <td>NaN</td>\n      <td>1.0</td>\n      <td>NaN</td>\n      <td>NaN</td>\n    </tr>\n    <tr>\n      <th>1.732517</th>\n      <td>1.0</td>\n      <td>NaN</td>\n      <td>NaN</td>\n      <td>NaN</td>\n      <td>NaN</td>\n    </tr>\n  </tbody>\n</table>\n</div>"
     },
     "execution_count": 14,
     "metadata": {},
     "output_type": "execute_result"
    }
   ],
   "source": [
    "# 查询数据框 (Data Frame) 中每个列的独特数据值出现次数统计\n",
    "# apply 方法中需要传入函数, df的 每一行 Series 都会被作为 参数传入\n",
    "df.apply(pd.Series.value_counts)"
   ],
   "metadata": {
    "collapsed": false,
    "pycharm": {
     "name": "#%%\n"
    }
   }
  },
  {
   "cell_type": "code",
   "execution_count": 15,
   "outputs": [
    {
     "name": "stdout",
     "output_type": "stream",
     "text": [
      "   0  1  2\n",
      "0  1  2  3\n",
      "1  3  4  5\n",
      "0    1\n",
      "1    3\n",
      "Name: 0, dtype: int64\n",
      "0    2\n",
      "1    4\n",
      "Name: 1, dtype: int64\n",
      "0    3\n",
      "1    5\n",
      "Name: 2, dtype: int64\n"
     ]
    },
    {
     "data": {
      "text/plain": "   0  1  2\n0  1  2  3\n1  3  4  5",
      "text/html": "<div>\n<style scoped>\n    .dataframe tbody tr th:only-of-type {\n        vertical-align: middle;\n    }\n\n    .dataframe tbody tr th {\n        vertical-align: top;\n    }\n\n    .dataframe thead th {\n        text-align: right;\n    }\n</style>\n<table border=\"1\" class=\"dataframe\">\n  <thead>\n    <tr style=\"text-align: right;\">\n      <th></th>\n      <th>0</th>\n      <th>1</th>\n      <th>2</th>\n    </tr>\n  </thead>\n  <tbody>\n    <tr>\n      <th>0</th>\n      <td>1</td>\n      <td>2</td>\n      <td>3</td>\n    </tr>\n    <tr>\n      <th>1</th>\n      <td>3</td>\n      <td>4</td>\n      <td>5</td>\n    </tr>\n  </tbody>\n</table>\n</div>"
     },
     "execution_count": 15,
     "metadata": {},
     "output_type": "execute_result"
    }
   ],
   "source": [
    "def func(s):\n",
    "    print(s)\n",
    "    return s\n",
    "\n",
    "\n",
    "df_01 = pd.DataFrame([[1, 2, 3], [3, 4, 5]])\n",
    "print(df_01)\n",
    "\n",
    "df_01.apply(func)"
   ],
   "metadata": {
    "collapsed": false,
    "pycharm": {
     "name": "#%%\n"
    }
   }
  },
  {
   "cell_type": "markdown",
   "source": [
    "### 5.数据的选取\n",
    "\n",
    "- df[col] # 以数组 Series 的形式返回选取的列\n",
    "- df[ [col1, col2] ] # 以新的数据框(DataFrame)的形式返回选取的列\n",
    "- s.iloc[0] # 按照位置选取\n",
    "- s.loc['index_one'] # 按照行索引选取\n",
    "- df.iloc[0,:] # 选取第一行\n",
    "- df.iloc[0,0] # 选取第一行的第一个元素"
   ],
   "metadata": {
    "collapsed": false,
    "pycharm": {
     "name": "#%% md\n"
    }
   }
  },
  {
   "cell_type": "code",
   "execution_count": 16,
   "outputs": [
    {
     "data": {
      "text/plain": "          A         B         C\n0 -0.851561 -1.099211 -0.119279\n1 -0.553029 -0.674903 -2.276451\n2 -0.315307  0.929153 -0.444196\n3 -0.106458  0.112211 -0.552699\n4 -0.386204  0.830301  0.381158",
      "text/html": "<div>\n<style scoped>\n    .dataframe tbody tr th:only-of-type {\n        vertical-align: middle;\n    }\n\n    .dataframe tbody tr th {\n        vertical-align: top;\n    }\n\n    .dataframe thead th {\n        text-align: right;\n    }\n</style>\n<table border=\"1\" class=\"dataframe\">\n  <thead>\n    <tr style=\"text-align: right;\">\n      <th></th>\n      <th>A</th>\n      <th>B</th>\n      <th>C</th>\n    </tr>\n  </thead>\n  <tbody>\n    <tr>\n      <th>0</th>\n      <td>-0.851561</td>\n      <td>-1.099211</td>\n      <td>-0.119279</td>\n    </tr>\n    <tr>\n      <th>1</th>\n      <td>-0.553029</td>\n      <td>-0.674903</td>\n      <td>-2.276451</td>\n    </tr>\n    <tr>\n      <th>2</th>\n      <td>-0.315307</td>\n      <td>0.929153</td>\n      <td>-0.444196</td>\n    </tr>\n    <tr>\n      <th>3</th>\n      <td>-0.106458</td>\n      <td>0.112211</td>\n      <td>-0.552699</td>\n    </tr>\n    <tr>\n      <th>4</th>\n      <td>-0.386204</td>\n      <td>0.830301</td>\n      <td>0.381158</td>\n    </tr>\n  </tbody>\n</table>\n</div>"
     },
     "execution_count": 16,
     "metadata": {},
     "output_type": "execute_result"
    }
   ],
   "source": [
    "df = pd.DataFrame(np.random.randn(5, 3), columns=list('ABC'))\n",
    "df"
   ],
   "metadata": {
    "collapsed": false,
    "pycharm": {
     "name": "#%%\n"
    }
   }
  },
  {
   "cell_type": "code",
   "execution_count": 17,
   "outputs": [
    {
     "data": {
      "text/plain": "0   -0.851561\n1   -0.553029\n2   -0.315307\n3   -0.106458\n4   -0.386204\nName: A, dtype: float64"
     },
     "execution_count": 17,
     "metadata": {},
     "output_type": "execute_result"
    }
   ],
   "source": [
    "df['A']  # 以数组 Series 的形式返回选取的列"
   ],
   "metadata": {
    "collapsed": false,
    "pycharm": {
     "name": "#%%\n"
    }
   }
  },
  {
   "cell_type": "code",
   "execution_count": 18,
   "outputs": [
    {
     "data": {
      "text/plain": "          A         B\n0 -0.851561 -1.099211\n1 -0.553029 -0.674903\n2 -0.315307  0.929153\n3 -0.106458  0.112211\n4 -0.386204  0.830301",
      "text/html": "<div>\n<style scoped>\n    .dataframe tbody tr th:only-of-type {\n        vertical-align: middle;\n    }\n\n    .dataframe tbody tr th {\n        vertical-align: top;\n    }\n\n    .dataframe thead th {\n        text-align: right;\n    }\n</style>\n<table border=\"1\" class=\"dataframe\">\n  <thead>\n    <tr style=\"text-align: right;\">\n      <th></th>\n      <th>A</th>\n      <th>B</th>\n    </tr>\n  </thead>\n  <tbody>\n    <tr>\n      <th>0</th>\n      <td>-0.851561</td>\n      <td>-1.099211</td>\n    </tr>\n    <tr>\n      <th>1</th>\n      <td>-0.553029</td>\n      <td>-0.674903</td>\n    </tr>\n    <tr>\n      <th>2</th>\n      <td>-0.315307</td>\n      <td>0.929153</td>\n    </tr>\n    <tr>\n      <th>3</th>\n      <td>-0.106458</td>\n      <td>0.112211</td>\n    </tr>\n    <tr>\n      <th>4</th>\n      <td>-0.386204</td>\n      <td>0.830301</td>\n    </tr>\n  </tbody>\n</table>\n</div>"
     },
     "execution_count": 18,
     "metadata": {},
     "output_type": "execute_result"
    }
   ],
   "source": [
    "df[['A', 'B']]  # 以新的数据框(DataFrame)的形式返回选取的列"
   ],
   "metadata": {
    "collapsed": false,
    "pycharm": {
     "name": "#%%\n"
    }
   }
  },
  {
   "cell_type": "code",
   "execution_count": 19,
   "outputs": [
    {
     "data": {
      "text/plain": "A   -0.851561\nB   -1.099211\nC   -0.119279\nName: 0, dtype: float64"
     },
     "execution_count": 19,
     "metadata": {},
     "output_type": "execute_result"
    }
   ],
   "source": [
    "# 按照位置选取 下标从0开始\n",
    "df.iloc[0]"
   ],
   "metadata": {
    "collapsed": false,
    "pycharm": {
     "name": "#%%\n"
    }
   }
  },
  {
   "cell_type": "code",
   "execution_count": 20,
   "outputs": [
    {
     "data": {
      "text/plain": "A   -0.851561\nB   -1.099211\nC   -0.119279\nName: 0, dtype: float64"
     },
     "execution_count": 20,
     "metadata": {},
     "output_type": "execute_result"
    }
   ],
   "source": [
    "df.iloc[0, :]"
   ],
   "metadata": {
    "collapsed": false,
    "pycharm": {
     "name": "#%%\n"
    }
   }
  },
  {
   "cell_type": "code",
   "execution_count": 21,
   "outputs": [
    {
     "data": {
      "text/plain": "-0.8515614699977866"
     },
     "execution_count": 21,
     "metadata": {},
     "output_type": "execute_result"
    }
   ],
   "source": [
    "# df.iloc 是基于整数位置的选择数据, df.loc 是基于索引选择数据\n",
    "df.iloc[0, 0]"
   ],
   "metadata": {
    "collapsed": false,
    "pycharm": {
     "name": "#%%\n"
    }
   }
  },
  {
   "cell_type": "code",
   "execution_count": 22,
   "outputs": [
    {
     "data": {
      "text/plain": "a       I\nb    Love\nc    Data\ndtype: object"
     },
     "execution_count": 22,
     "metadata": {},
     "output_type": "execute_result"
    }
   ],
   "source": [
    "#\n",
    "s = pd.Series(np.array(['I', 'Love', 'Data']), index=['a', 'b', 'c'])\n",
    "s"
   ],
   "metadata": {
    "collapsed": false,
    "pycharm": {
     "name": "#%%\n"
    }
   }
  },
  {
   "cell_type": "code",
   "execution_count": 23,
   "outputs": [
    {
     "data": {
      "text/plain": "'I'"
     },
     "execution_count": 23,
     "metadata": {},
     "output_type": "execute_result"
    }
   ],
   "source": [
    "# 按照行索引选取\n",
    "s.loc['a']"
   ],
   "metadata": {
    "collapsed": false,
    "pycharm": {
     "name": "#%%\n"
    }
   }
  },
  {
   "cell_type": "markdown",
   "source": [
    "### 6. 数据清洗\n",
    "\n",
    "- df.columns = ['a','b'] 重命名 DataFrame 的列名称\n",
    "- pd.isnull() 检查数据中空值出现的情况，并返回一个由布尔值(True,False)组成的列\n",
    "- pd.notnull() 检查数据中非空值出现的情况，并返回一个由布尔值(True,False)组成的列\n",
    "- df.dropna() # 移除数据框 DataFrame 中包含空值的行\n",
    "- df.dropna(axis=1) # 移除数据框 DataFrame 中包含空值的列\n",
    "    1. axis = 0 表示行, axis = 1表示列\n",
    "    2. thresh = n 这一行(列)除去NA值，剩余数值的数量大于等于n，便显示这一行。\n",
    "- df.fillna(x) 将数据框 DataFrame 中的所有空值替换为 x\n",
    "- s.fillna(s.mean()) -> 将所有空值替换为平均值\n",
    "- s.astype(float) # 将数组(Series)的格式转化为浮点数\n",
    "- s.replace(1,'one') # 将数组(Series)中的所有1替换为'one'\n",
    "- s.replace([1,3],['one','three']) # 将数组(Series)中所有的1替换为'one', 所有的3替换为'three'\n",
    "- df.rename(columns=lambda x: x + 2) # 将全体列重命名\n",
    "- df.rename(columns={'old_name': 'new_ name'}) # 将选择的列重命名\n",
    "- df.set_index('column_one') # 改变索引\n",
    "- df.rename(index = lambda x: x+ 1) # 改变全体索引"
   ],
   "metadata": {
    "collapsed": false,
    "pycharm": {
     "name": "#%% md\n"
    }
   }
  },
  {
   "cell_type": "code",
   "execution_count": 24,
   "outputs": [
    {
     "data": {
      "text/plain": "          A         B         C\n0 -1.146763 -0.636090  0.627193\n1 -0.191204  2.283463 -0.190570\n2  1.532628  0.707390 -0.308584\n3  1.234924  1.439088  0.538887\n4  0.231190  0.951928 -1.837572",
      "text/html": "<div>\n<style scoped>\n    .dataframe tbody tr th:only-of-type {\n        vertical-align: middle;\n    }\n\n    .dataframe tbody tr th {\n        vertical-align: top;\n    }\n\n    .dataframe thead th {\n        text-align: right;\n    }\n</style>\n<table border=\"1\" class=\"dataframe\">\n  <thead>\n    <tr style=\"text-align: right;\">\n      <th></th>\n      <th>A</th>\n      <th>B</th>\n      <th>C</th>\n    </tr>\n  </thead>\n  <tbody>\n    <tr>\n      <th>0</th>\n      <td>-1.146763</td>\n      <td>-0.636090</td>\n      <td>0.627193</td>\n    </tr>\n    <tr>\n      <th>1</th>\n      <td>-0.191204</td>\n      <td>2.283463</td>\n      <td>-0.190570</td>\n    </tr>\n    <tr>\n      <th>2</th>\n      <td>1.532628</td>\n      <td>0.707390</td>\n      <td>-0.308584</td>\n    </tr>\n    <tr>\n      <th>3</th>\n      <td>1.234924</td>\n      <td>1.439088</td>\n      <td>0.538887</td>\n    </tr>\n    <tr>\n      <th>4</th>\n      <td>0.231190</td>\n      <td>0.951928</td>\n      <td>-1.837572</td>\n    </tr>\n  </tbody>\n</table>\n</div>"
     },
     "execution_count": 24,
     "metadata": {},
     "output_type": "execute_result"
    }
   ],
   "source": [
    "df = pd.DataFrame(np.random.randn(5, 3), columns=['A', 'B', 'C'])\n",
    "df"
   ],
   "metadata": {
    "collapsed": false,
    "pycharm": {
     "name": "#%%\n"
    }
   }
  },
  {
   "cell_type": "code",
   "execution_count": 25,
   "outputs": [
    {
     "data": {
      "text/plain": "          D         E         F\n0 -1.146763 -0.636090  0.627193\n1 -0.191204  2.283463 -0.190570\n2  1.532628  0.707390 -0.308584\n3  1.234924  1.439088  0.538887\n4  0.231190  0.951928 -1.837572",
      "text/html": "<div>\n<style scoped>\n    .dataframe tbody tr th:only-of-type {\n        vertical-align: middle;\n    }\n\n    .dataframe tbody tr th {\n        vertical-align: top;\n    }\n\n    .dataframe thead th {\n        text-align: right;\n    }\n</style>\n<table border=\"1\" class=\"dataframe\">\n  <thead>\n    <tr style=\"text-align: right;\">\n      <th></th>\n      <th>D</th>\n      <th>E</th>\n      <th>F</th>\n    </tr>\n  </thead>\n  <tbody>\n    <tr>\n      <th>0</th>\n      <td>-1.146763</td>\n      <td>-0.636090</td>\n      <td>0.627193</td>\n    </tr>\n    <tr>\n      <th>1</th>\n      <td>-0.191204</td>\n      <td>2.283463</td>\n      <td>-0.190570</td>\n    </tr>\n    <tr>\n      <th>2</th>\n      <td>1.532628</td>\n      <td>0.707390</td>\n      <td>-0.308584</td>\n    </tr>\n    <tr>\n      <th>3</th>\n      <td>1.234924</td>\n      <td>1.439088</td>\n      <td>0.538887</td>\n    </tr>\n    <tr>\n      <th>4</th>\n      <td>0.231190</td>\n      <td>0.951928</td>\n      <td>-1.837572</td>\n    </tr>\n  </tbody>\n</table>\n</div>"
     },
     "execution_count": 25,
     "metadata": {},
     "output_type": "execute_result"
    }
   ],
   "source": [
    "# 重命名 DataFrame 的列名\n",
    "df.columns = ['D', 'E', 'F']\n",
    "df"
   ],
   "metadata": {
    "collapsed": false,
    "pycharm": {
     "name": "#%%\n"
    }
   }
  },
  {
   "cell_type": "code",
   "execution_count": 26,
   "outputs": [
    {
     "data": {
      "text/plain": "     a    b    c\n0  1.0  NaN  foo\n1  NaN  4.0  foo\n2  2.0  NaN  foo\n3  3.0  5.0  foo\n4  6.0  9.0  foo\n5  NaN  NaN  foo",
      "text/html": "<div>\n<style scoped>\n    .dataframe tbody tr th:only-of-type {\n        vertical-align: middle;\n    }\n\n    .dataframe tbody tr th {\n        vertical-align: top;\n    }\n\n    .dataframe thead th {\n        text-align: right;\n    }\n</style>\n<table border=\"1\" class=\"dataframe\">\n  <thead>\n    <tr style=\"text-align: right;\">\n      <th></th>\n      <th>a</th>\n      <th>b</th>\n      <th>c</th>\n    </tr>\n  </thead>\n  <tbody>\n    <tr>\n      <th>0</th>\n      <td>1.0</td>\n      <td>NaN</td>\n      <td>foo</td>\n    </tr>\n    <tr>\n      <th>1</th>\n      <td>NaN</td>\n      <td>4.0</td>\n      <td>foo</td>\n    </tr>\n    <tr>\n      <th>2</th>\n      <td>2.0</td>\n      <td>NaN</td>\n      <td>foo</td>\n    </tr>\n    <tr>\n      <th>3</th>\n      <td>3.0</td>\n      <td>5.0</td>\n      <td>foo</td>\n    </tr>\n    <tr>\n      <th>4</th>\n      <td>6.0</td>\n      <td>9.0</td>\n      <td>foo</td>\n    </tr>\n    <tr>\n      <th>5</th>\n      <td>NaN</td>\n      <td>NaN</td>\n      <td>foo</td>\n    </tr>\n  </tbody>\n</table>\n</div>"
     },
     "execution_count": 26,
     "metadata": {},
     "output_type": "execute_result"
    }
   ],
   "source": [
    "df = pd.DataFrame({'A':np.array([1,np.nan,2,3,6,np.nan]),\n",
    "                          'B':np.array([np.nan,4,np.nan,5,9,np.nan]),\n",
    "                          'C':'foo'})\n",
    "df.columns = ['a', 'b', 'c']\n",
    "df"
   ],
   "metadata": {
    "collapsed": false,
    "pycharm": {
     "name": "#%%\n"
    }
   }
  },
  {
   "cell_type": "code",
   "execution_count": 27,
   "outputs": [
    {
     "data": {
      "text/plain": "       a      b      c\n0  False   True  False\n1   True  False  False\n2  False   True  False\n3  False  False  False\n4  False  False  False\n5   True   True  False",
      "text/html": "<div>\n<style scoped>\n    .dataframe tbody tr th:only-of-type {\n        vertical-align: middle;\n    }\n\n    .dataframe tbody tr th {\n        vertical-align: top;\n    }\n\n    .dataframe thead th {\n        text-align: right;\n    }\n</style>\n<table border=\"1\" class=\"dataframe\">\n  <thead>\n    <tr style=\"text-align: right;\">\n      <th></th>\n      <th>a</th>\n      <th>b</th>\n      <th>c</th>\n    </tr>\n  </thead>\n  <tbody>\n    <tr>\n      <th>0</th>\n      <td>False</td>\n      <td>True</td>\n      <td>False</td>\n    </tr>\n    <tr>\n      <th>1</th>\n      <td>True</td>\n      <td>False</td>\n      <td>False</td>\n    </tr>\n    <tr>\n      <th>2</th>\n      <td>False</td>\n      <td>True</td>\n      <td>False</td>\n    </tr>\n    <tr>\n      <th>3</th>\n      <td>False</td>\n      <td>False</td>\n      <td>False</td>\n    </tr>\n    <tr>\n      <th>4</th>\n      <td>False</td>\n      <td>False</td>\n      <td>False</td>\n    </tr>\n    <tr>\n      <th>5</th>\n      <td>True</td>\n      <td>True</td>\n      <td>False</td>\n    </tr>\n  </tbody>\n</table>\n</div>"
     },
     "execution_count": 27,
     "metadata": {},
     "output_type": "execute_result"
    }
   ],
   "source": [
    "#  检查数据中空值出现的情况，并返回一个由布尔值(True,Fale)组成的列\n",
    "df.isnull()"
   ],
   "metadata": {
    "collapsed": false,
    "pycharm": {
     "name": "#%%\n"
    }
   }
  },
  {
   "cell_type": "code",
   "execution_count": 28,
   "outputs": [
    {
     "data": {
      "text/plain": "       a      b     c\n0   True  False  True\n1  False   True  True\n2   True  False  True\n3   True   True  True\n4   True   True  True\n5  False  False  True",
      "text/html": "<div>\n<style scoped>\n    .dataframe tbody tr th:only-of-type {\n        vertical-align: middle;\n    }\n\n    .dataframe tbody tr th {\n        vertical-align: top;\n    }\n\n    .dataframe thead th {\n        text-align: right;\n    }\n</style>\n<table border=\"1\" class=\"dataframe\">\n  <thead>\n    <tr style=\"text-align: right;\">\n      <th></th>\n      <th>a</th>\n      <th>b</th>\n      <th>c</th>\n    </tr>\n  </thead>\n  <tbody>\n    <tr>\n      <th>0</th>\n      <td>True</td>\n      <td>False</td>\n      <td>True</td>\n    </tr>\n    <tr>\n      <th>1</th>\n      <td>False</td>\n      <td>True</td>\n      <td>True</td>\n    </tr>\n    <tr>\n      <th>2</th>\n      <td>True</td>\n      <td>False</td>\n      <td>True</td>\n    </tr>\n    <tr>\n      <th>3</th>\n      <td>True</td>\n      <td>True</td>\n      <td>True</td>\n    </tr>\n    <tr>\n      <th>4</th>\n      <td>True</td>\n      <td>True</td>\n      <td>True</td>\n    </tr>\n    <tr>\n      <th>5</th>\n      <td>False</td>\n      <td>False</td>\n      <td>True</td>\n    </tr>\n  </tbody>\n</table>\n</div>"
     },
     "execution_count": 28,
     "metadata": {},
     "output_type": "execute_result"
    }
   ],
   "source": [
    "# 检查数据中非空值出现的情况，并返回一个由布尔值(True,False)组成的列\n",
    "df.notnull()"
   ],
   "metadata": {
    "collapsed": false,
    "pycharm": {
     "name": "#%%\n"
    }
   }
  },
  {
   "cell_type": "code",
   "execution_count": 29,
   "outputs": [
    {
     "data": {
      "text/plain": "     a    b    c\n3  3.0  5.0  foo\n4  6.0  9.0  foo",
      "text/html": "<div>\n<style scoped>\n    .dataframe tbody tr th:only-of-type {\n        vertical-align: middle;\n    }\n\n    .dataframe tbody tr th {\n        vertical-align: top;\n    }\n\n    .dataframe thead th {\n        text-align: right;\n    }\n</style>\n<table border=\"1\" class=\"dataframe\">\n  <thead>\n    <tr style=\"text-align: right;\">\n      <th></th>\n      <th>a</th>\n      <th>b</th>\n      <th>c</th>\n    </tr>\n  </thead>\n  <tbody>\n    <tr>\n      <th>3</th>\n      <td>3.0</td>\n      <td>5.0</td>\n      <td>foo</td>\n    </tr>\n    <tr>\n      <th>4</th>\n      <td>6.0</td>\n      <td>9.0</td>\n      <td>foo</td>\n    </tr>\n  </tbody>\n</table>\n</div>"
     },
     "execution_count": 29,
     "metadata": {},
     "output_type": "execute_result"
    }
   ],
   "source": [
    "# 移除 DataFrame 中包含空值的行\n",
    "df.dropna()"
   ],
   "metadata": {
    "collapsed": false,
    "pycharm": {
     "name": "#%%\n"
    }
   }
  },
  {
   "cell_type": "code",
   "execution_count": 30,
   "outputs": [
    {
     "data": {
      "text/plain": "     C\n0  foo\n1  foo\n2  foo\n3  foo\n4  foo\n5  foo",
      "text/html": "<div>\n<style scoped>\n    .dataframe tbody tr th:only-of-type {\n        vertical-align: middle;\n    }\n\n    .dataframe tbody tr th {\n        vertical-align: top;\n    }\n\n    .dataframe thead th {\n        text-align: right;\n    }\n</style>\n<table border=\"1\" class=\"dataframe\">\n  <thead>\n    <tr style=\"text-align: right;\">\n      <th></th>\n      <th>C</th>\n    </tr>\n  </thead>\n  <tbody>\n    <tr>\n      <th>0</th>\n      <td>foo</td>\n    </tr>\n    <tr>\n      <th>1</th>\n      <td>foo</td>\n    </tr>\n    <tr>\n      <th>2</th>\n      <td>foo</td>\n    </tr>\n    <tr>\n      <th>3</th>\n      <td>foo</td>\n    </tr>\n    <tr>\n      <th>4</th>\n      <td>foo</td>\n    </tr>\n    <tr>\n      <th>5</th>\n      <td>foo</td>\n    </tr>\n  </tbody>\n</table>\n</div>"
     },
     "execution_count": 30,
     "metadata": {},
     "output_type": "execute_result"
    }
   ],
   "source": [
    "df = pd.DataFrame({'A':np.array([1,np.nan,2,3,6,np.nan]),\n",
    "                   'B':np.array([np.nan,4,np.nan,5,9,np.nan]),\n",
    "                   'C':'foo'})\n",
    "# 移除所有包含空值的列, (axis = 0 , 表示行, axis = 1表示列)\n",
    "df.dropna(axis=1)"
   ],
   "metadata": {
    "collapsed": false,
    "pycharm": {
     "name": "#%%\n"
    }
   }
  },
  {
   "cell_type": "code",
   "execution_count": 31,
   "outputs": [
    {
     "data": {
      "text/plain": "     A    B    C\n0  1.0  NaN  foo\n1  NaN  4.0  foo\n2  2.0  NaN  foo\n3  3.0  5.0  foo\n4  6.0  9.0  foo\n5  NaN  NaN  foo",
      "text/html": "<div>\n<style scoped>\n    .dataframe tbody tr th:only-of-type {\n        vertical-align: middle;\n    }\n\n    .dataframe tbody tr th {\n        vertical-align: top;\n    }\n\n    .dataframe thead th {\n        text-align: right;\n    }\n</style>\n<table border=\"1\" class=\"dataframe\">\n  <thead>\n    <tr style=\"text-align: right;\">\n      <th></th>\n      <th>A</th>\n      <th>B</th>\n      <th>C</th>\n    </tr>\n  </thead>\n  <tbody>\n    <tr>\n      <th>0</th>\n      <td>1.0</td>\n      <td>NaN</td>\n      <td>foo</td>\n    </tr>\n    <tr>\n      <th>1</th>\n      <td>NaN</td>\n      <td>4.0</td>\n      <td>foo</td>\n    </tr>\n    <tr>\n      <th>2</th>\n      <td>2.0</td>\n      <td>NaN</td>\n      <td>foo</td>\n    </tr>\n    <tr>\n      <th>3</th>\n      <td>3.0</td>\n      <td>5.0</td>\n      <td>foo</td>\n    </tr>\n    <tr>\n      <th>4</th>\n      <td>6.0</td>\n      <td>9.0</td>\n      <td>foo</td>\n    </tr>\n    <tr>\n      <th>5</th>\n      <td>NaN</td>\n      <td>NaN</td>\n      <td>foo</td>\n    </tr>\n  </tbody>\n</table>\n</div>"
     },
     "execution_count": 31,
     "metadata": {},
     "output_type": "execute_result"
    }
   ],
   "source": [
    "df = pd.DataFrame({'A':np.array([1,np.nan,2,3,6,np.nan]),\n",
    "                   'B':np.array([np.nan,4,np.nan,5,9,np.nan]),\n",
    "                   'C':'foo'})\n",
    "# thresh = n 这一行(列)除去NA值，剩余数值的数量大于等于n，便显示这一行。\n",
    "res = df.dropna(axis=1, thresh=1)\n",
    "res"
   ],
   "metadata": {
    "collapsed": false,
    "pycharm": {
     "name": "#%%\n"
    }
   }
  },
  {
   "cell_type": "code",
   "execution_count": 33,
   "outputs": [
    {
     "data": {
      "text/plain": "     A    B    C\n0  1.0    a  foo\n1    a  4.0  foo\n2  2.0    a  foo\n3  3.0  5.0  foo\n4  6.0  9.0  foo\n5    a    a  foo",
      "text/html": "<div>\n<style scoped>\n    .dataframe tbody tr th:only-of-type {\n        vertical-align: middle;\n    }\n\n    .dataframe tbody tr th {\n        vertical-align: top;\n    }\n\n    .dataframe thead th {\n        text-align: right;\n    }\n</style>\n<table border=\"1\" class=\"dataframe\">\n  <thead>\n    <tr style=\"text-align: right;\">\n      <th></th>\n      <th>A</th>\n      <th>B</th>\n      <th>C</th>\n    </tr>\n  </thead>\n  <tbody>\n    <tr>\n      <th>0</th>\n      <td>1.0</td>\n      <td>a</td>\n      <td>foo</td>\n    </tr>\n    <tr>\n      <th>1</th>\n      <td>a</td>\n      <td>4.0</td>\n      <td>foo</td>\n    </tr>\n    <tr>\n      <th>2</th>\n      <td>2.0</td>\n      <td>a</td>\n      <td>foo</td>\n    </tr>\n    <tr>\n      <th>3</th>\n      <td>3.0</td>\n      <td>5.0</td>\n      <td>foo</td>\n    </tr>\n    <tr>\n      <th>4</th>\n      <td>6.0</td>\n      <td>9.0</td>\n      <td>foo</td>\n    </tr>\n    <tr>\n      <th>5</th>\n      <td>a</td>\n      <td>a</td>\n      <td>foo</td>\n    </tr>\n  </tbody>\n</table>\n</div>"
     },
     "execution_count": 33,
     "metadata": {},
     "output_type": "execute_result"
    }
   ],
   "source": [
    "# 将 DataFrame 中所有 NaN 值替换 为 a\n",
    "df = pd.DataFrame({'A':np.array([1,np.nan,2,3,6,np.nan]),\n",
    "                   'B':np.array([np.nan,4,np.nan,5,9,np.nan]),\n",
    "                   'C':'foo'})\n",
    "df.fillna('a')"
   ],
   "metadata": {
    "collapsed": false,
    "pycharm": {
     "name": "#%%\n"
    }
   }
  },
  {
   "cell_type": "code",
   "execution_count": 34,
   "outputs": [
    {
     "data": {
      "text/plain": "0    1.000000\n1    3.000000\n2    5.000000\n3    5.666667\n4    7.000000\n5    9.000000\n6    9.000000\ndtype: float64"
     },
     "execution_count": 34,
     "metadata": {},
     "output_type": "execute_result"
    }
   ],
   "source": [
    "# 将所有 Nan 替换为平均值\n",
    "s = pd.Series([1,3,5,np.nan,7,9,9])\n",
    "s.fillna(s.mean())"
   ],
   "metadata": {
    "collapsed": false,
    "pycharm": {
     "name": "#%%\n"
    }
   }
  },
  {
   "cell_type": "code",
   "execution_count": 42,
   "outputs": [
    {
     "data": {
      "text/plain": "     A    B    C\n0  1.0  6.0  foo\n1  3.0  4.0  foo\n2  2.0  6.0  foo\n3  3.0  5.0  foo\n4  6.0  9.0  foo\n5  3.0  6.0  foo",
      "text/html": "<div>\n<style scoped>\n    .dataframe tbody tr th:only-of-type {\n        vertical-align: middle;\n    }\n\n    .dataframe tbody tr th {\n        vertical-align: top;\n    }\n\n    .dataframe thead th {\n        text-align: right;\n    }\n</style>\n<table border=\"1\" class=\"dataframe\">\n  <thead>\n    <tr style=\"text-align: right;\">\n      <th></th>\n      <th>A</th>\n      <th>B</th>\n      <th>C</th>\n    </tr>\n  </thead>\n  <tbody>\n    <tr>\n      <th>0</th>\n      <td>1.0</td>\n      <td>6.0</td>\n      <td>foo</td>\n    </tr>\n    <tr>\n      <th>1</th>\n      <td>3.0</td>\n      <td>4.0</td>\n      <td>foo</td>\n    </tr>\n    <tr>\n      <th>2</th>\n      <td>2.0</td>\n      <td>6.0</td>\n      <td>foo</td>\n    </tr>\n    <tr>\n      <th>3</th>\n      <td>3.0</td>\n      <td>5.0</td>\n      <td>foo</td>\n    </tr>\n    <tr>\n      <th>4</th>\n      <td>6.0</td>\n      <td>9.0</td>\n      <td>foo</td>\n    </tr>\n    <tr>\n      <th>5</th>\n      <td>3.0</td>\n      <td>6.0</td>\n      <td>foo</td>\n    </tr>\n  </tbody>\n</table>\n</div>"
     },
     "execution_count": 42,
     "metadata": {},
     "output_type": "execute_result"
    }
   ],
   "source": [
    "df = pd.DataFrame({'A':np.array([1,np.nan,2,3,6,np.nan]),\n",
    "                   'B':np.array([np.nan,4,np.nan,5,9,np.nan]),\n",
    "                   'C':'foo'})\n",
    "# 替换掉所列的空值\n",
    "df['A'] = df['A'].fillna(df['A'].mean())\n",
    "df['B'] = df['B'].fillna(df['B'].mean())\n",
    "df"
   ],
   "metadata": {
    "collapsed": false,
    "pycharm": {
     "name": "#%%\n"
    }
   }
  },
  {
   "cell_type": "code",
   "execution_count": 44,
   "outputs": [
    {
     "data": {
      "text/plain": "0    1.0\n1    3.0\n2    5.0\n3    NaN\n4    7.0\n5    9.0\n6    9.0\ndtype: float64"
     },
     "execution_count": 44,
     "metadata": {},
     "output_type": "execute_result"
    }
   ],
   "source": [
    "s = pd.Series([1,3,5,np.nan,7,9,9])\n",
    "s.astype(float) # 将数组(Series)的格式转化为浮点数"
   ],
   "metadata": {
    "collapsed": false,
    "pycharm": {
     "name": "#%%\n"
    }
   }
  },
  {
   "cell_type": "code",
   "execution_count": 46,
   "outputs": [
    {
     "data": {
      "text/plain": "0      one\n1    three\n2      5.0\n3      NaN\n4      7.0\n5      9.0\n6      9.0\ndtype: object"
     },
     "execution_count": 46,
     "metadata": {},
     "output_type": "execute_result"
    }
   ],
   "source": [
    "s.replace(1, 'one') # 将数组(Series)中的所有1替换为'one'\n",
    "s.replace([1,3],['one','three']) # 将数组(Series)中所有的1替换为'one', 所有的3替换为'three'"
   ],
   "metadata": {
    "collapsed": false,
    "pycharm": {
     "name": "#%%\n"
    }
   }
  },
  {
   "cell_type": "code",
   "execution_count": 47,
   "outputs": [
    {
     "data": {
      "text/plain": "          2         3         4         5\n0  0.137643  0.310225  0.053487  0.641953\n1  0.938120  0.778245  0.186552  0.130426\n2  0.768260  0.971260  0.839564  0.296773\n3  0.118184  0.054985  0.245248  0.871673",
      "text/html": "<div>\n<style scoped>\n    .dataframe tbody tr th:only-of-type {\n        vertical-align: middle;\n    }\n\n    .dataframe tbody tr th {\n        vertical-align: top;\n    }\n\n    .dataframe thead th {\n        text-align: right;\n    }\n</style>\n<table border=\"1\" class=\"dataframe\">\n  <thead>\n    <tr style=\"text-align: right;\">\n      <th></th>\n      <th>2</th>\n      <th>3</th>\n      <th>4</th>\n      <th>5</th>\n    </tr>\n  </thead>\n  <tbody>\n    <tr>\n      <th>0</th>\n      <td>0.137643</td>\n      <td>0.310225</td>\n      <td>0.053487</td>\n      <td>0.641953</td>\n    </tr>\n    <tr>\n      <th>1</th>\n      <td>0.938120</td>\n      <td>0.778245</td>\n      <td>0.186552</td>\n      <td>0.130426</td>\n    </tr>\n    <tr>\n      <th>2</th>\n      <td>0.768260</td>\n      <td>0.971260</td>\n      <td>0.839564</td>\n      <td>0.296773</td>\n    </tr>\n    <tr>\n      <th>3</th>\n      <td>0.118184</td>\n      <td>0.054985</td>\n      <td>0.245248</td>\n      <td>0.871673</td>\n    </tr>\n  </tbody>\n</table>\n</div>"
     },
     "execution_count": 47,
     "metadata": {},
     "output_type": "execute_result"
    }
   ],
   "source": [
    "df = pd.DataFrame(np.random.rand(4,4))\n",
    "df.rename(columns=lambda x: x + 2) # 将全体列重命名"
   ],
   "metadata": {
    "collapsed": false,
    "pycharm": {
     "name": "#%%\n"
    }
   }
  },
  {
   "cell_type": "code",
   "execution_count": 49,
   "outputs": [
    {
     "data": {
      "text/plain": "       newA      newB         C         D         E\n0  0.719982  0.798899  0.188485  0.300296  0.168025\n1  0.620828  0.948675  0.262087  0.657669  0.756906\n2  0.688549  0.616052  0.586672  0.711546  0.217273\n3  0.054476  0.948499  0.506779  0.751272  0.297190\n4  0.222479  0.814188  0.047982  0.707307  0.541272\n5  0.391293  0.066912  0.038264  0.850547  0.036608\n6  0.344369  0.634572  0.707706  0.082860  0.533568\n7  0.879931  0.971079  0.084357  0.036932  0.276375\n8  0.536132  0.313116  0.027623  0.609440  0.990965\n9  0.937819  0.239814  0.035056  0.789736  0.203807",
      "text/html": "<div>\n<style scoped>\n    .dataframe tbody tr th:only-of-type {\n        vertical-align: middle;\n    }\n\n    .dataframe tbody tr th {\n        vertical-align: top;\n    }\n\n    .dataframe thead th {\n        text-align: right;\n    }\n</style>\n<table border=\"1\" class=\"dataframe\">\n  <thead>\n    <tr style=\"text-align: right;\">\n      <th></th>\n      <th>newA</th>\n      <th>newB</th>\n      <th>C</th>\n      <th>D</th>\n      <th>E</th>\n    </tr>\n  </thead>\n  <tbody>\n    <tr>\n      <th>0</th>\n      <td>0.719982</td>\n      <td>0.798899</td>\n      <td>0.188485</td>\n      <td>0.300296</td>\n      <td>0.168025</td>\n    </tr>\n    <tr>\n      <th>1</th>\n      <td>0.620828</td>\n      <td>0.948675</td>\n      <td>0.262087</td>\n      <td>0.657669</td>\n      <td>0.756906</td>\n    </tr>\n    <tr>\n      <th>2</th>\n      <td>0.688549</td>\n      <td>0.616052</td>\n      <td>0.586672</td>\n      <td>0.711546</td>\n      <td>0.217273</td>\n    </tr>\n    <tr>\n      <th>3</th>\n      <td>0.054476</td>\n      <td>0.948499</td>\n      <td>0.506779</td>\n      <td>0.751272</td>\n      <td>0.297190</td>\n    </tr>\n    <tr>\n      <th>4</th>\n      <td>0.222479</td>\n      <td>0.814188</td>\n      <td>0.047982</td>\n      <td>0.707307</td>\n      <td>0.541272</td>\n    </tr>\n    <tr>\n      <th>5</th>\n      <td>0.391293</td>\n      <td>0.066912</td>\n      <td>0.038264</td>\n      <td>0.850547</td>\n      <td>0.036608</td>\n    </tr>\n    <tr>\n      <th>6</th>\n      <td>0.344369</td>\n      <td>0.634572</td>\n      <td>0.707706</td>\n      <td>0.082860</td>\n      <td>0.533568</td>\n    </tr>\n    <tr>\n      <th>7</th>\n      <td>0.879931</td>\n      <td>0.971079</td>\n      <td>0.084357</td>\n      <td>0.036932</td>\n      <td>0.276375</td>\n    </tr>\n    <tr>\n      <th>8</th>\n      <td>0.536132</td>\n      <td>0.313116</td>\n      <td>0.027623</td>\n      <td>0.609440</td>\n      <td>0.990965</td>\n    </tr>\n    <tr>\n      <th>9</th>\n      <td>0.937819</td>\n      <td>0.239814</td>\n      <td>0.035056</td>\n      <td>0.789736</td>\n      <td>0.203807</td>\n    </tr>\n  </tbody>\n</table>\n</div>"
     },
     "execution_count": 49,
     "metadata": {},
     "output_type": "execute_result"
    }
   ],
   "source": [
    "# 将选择的列重命名\n",
    "df = pd.DataFrame(np.random.rand(10,5), columns=list('ABCDE'))\n",
    "# 对指定的列重命名\n",
    "df.rename(columns={'A':'newA', 'B': 'newB'})"
   ],
   "metadata": {
    "collapsed": false,
    "pycharm": {
     "name": "#%%\n"
    }
   }
  },
  {
   "cell_type": "code",
   "execution_count": 50,
   "outputs": [
    {
     "data": {
      "text/plain": "                 A         C         D         E\nB                                               \n0.117775  0.726735  0.499775  0.204443  0.093480\n0.877599  0.178814  0.745478  0.461468  0.256734\n0.159821  0.650944  0.721589  0.109509  0.003733\n0.495556  0.877354  0.064542  0.105476  0.338001\n0.459929  0.843181  0.762050  0.968186  0.425581\n0.985184  0.395600  0.276990  0.624619  0.303024\n0.625228  0.418077  0.833811  0.814423  0.075579\n0.074651  0.249929  0.968672  0.179414  0.487354\n0.680098  0.725908  0.440879  0.261562  0.696148\n0.476911  0.325517  0.155946  0.904903  0.036314",
      "text/html": "<div>\n<style scoped>\n    .dataframe tbody tr th:only-of-type {\n        vertical-align: middle;\n    }\n\n    .dataframe tbody tr th {\n        vertical-align: top;\n    }\n\n    .dataframe thead th {\n        text-align: right;\n    }\n</style>\n<table border=\"1\" class=\"dataframe\">\n  <thead>\n    <tr style=\"text-align: right;\">\n      <th></th>\n      <th>A</th>\n      <th>C</th>\n      <th>D</th>\n      <th>E</th>\n    </tr>\n    <tr>\n      <th>B</th>\n      <th></th>\n      <th></th>\n      <th></th>\n      <th></th>\n    </tr>\n  </thead>\n  <tbody>\n    <tr>\n      <th>0.117775</th>\n      <td>0.726735</td>\n      <td>0.499775</td>\n      <td>0.204443</td>\n      <td>0.093480</td>\n    </tr>\n    <tr>\n      <th>0.877599</th>\n      <td>0.178814</td>\n      <td>0.745478</td>\n      <td>0.461468</td>\n      <td>0.256734</td>\n    </tr>\n    <tr>\n      <th>0.159821</th>\n      <td>0.650944</td>\n      <td>0.721589</td>\n      <td>0.109509</td>\n      <td>0.003733</td>\n    </tr>\n    <tr>\n      <th>0.495556</th>\n      <td>0.877354</td>\n      <td>0.064542</td>\n      <td>0.105476</td>\n      <td>0.338001</td>\n    </tr>\n    <tr>\n      <th>0.459929</th>\n      <td>0.843181</td>\n      <td>0.762050</td>\n      <td>0.968186</td>\n      <td>0.425581</td>\n    </tr>\n    <tr>\n      <th>0.985184</th>\n      <td>0.395600</td>\n      <td>0.276990</td>\n      <td>0.624619</td>\n      <td>0.303024</td>\n    </tr>\n    <tr>\n      <th>0.625228</th>\n      <td>0.418077</td>\n      <td>0.833811</td>\n      <td>0.814423</td>\n      <td>0.075579</td>\n    </tr>\n    <tr>\n      <th>0.074651</th>\n      <td>0.249929</td>\n      <td>0.968672</td>\n      <td>0.179414</td>\n      <td>0.487354</td>\n    </tr>\n    <tr>\n      <th>0.680098</th>\n      <td>0.725908</td>\n      <td>0.440879</td>\n      <td>0.261562</td>\n      <td>0.696148</td>\n    </tr>\n    <tr>\n      <th>0.476911</th>\n      <td>0.325517</td>\n      <td>0.155946</td>\n      <td>0.904903</td>\n      <td>0.036314</td>\n    </tr>\n  </tbody>\n</table>\n</div>"
     },
     "execution_count": 50,
     "metadata": {},
     "output_type": "execute_result"
    }
   ],
   "source": [
    "df = pd.DataFrame(np.random.rand(10,5),columns=list('ABCDE'))\n",
    "df.set_index('B') # 修改索引"
   ],
   "metadata": {
    "collapsed": false,
    "pycharm": {
     "name": "#%%\n"
    }
   }
  },
  {
   "cell_type": "code",
   "execution_count": 52,
   "outputs": [
    {
     "data": {
      "text/plain": "           0         1         2         3         4\n2   0.313998  0.961177  0.376092  0.340574  0.771604\n3   0.259074  0.888839  0.604553  0.493240  0.999108\n4   0.039094  0.630973  0.093215  0.280661  0.811692\n5   0.083129  0.200757  0.125179  0.616034  0.643784\n6   0.165800  0.131924  0.446833  0.515345  0.627674\n7   0.928184  0.861180  0.127059  0.181805  0.478863\n8   0.804090  0.844562  0.427590  0.167332  0.797088\n9   0.434780  0.216332  0.739847  0.975717  0.683823\n10  0.132682  0.537504  0.136698  0.327971  0.047879\n11  0.289490  0.798948  0.721384  0.736329  0.908015",
      "text/html": "<div>\n<style scoped>\n    .dataframe tbody tr th:only-of-type {\n        vertical-align: middle;\n    }\n\n    .dataframe tbody tr th {\n        vertical-align: top;\n    }\n\n    .dataframe thead th {\n        text-align: right;\n    }\n</style>\n<table border=\"1\" class=\"dataframe\">\n  <thead>\n    <tr style=\"text-align: right;\">\n      <th></th>\n      <th>0</th>\n      <th>1</th>\n      <th>2</th>\n      <th>3</th>\n      <th>4</th>\n    </tr>\n  </thead>\n  <tbody>\n    <tr>\n      <th>2</th>\n      <td>0.313998</td>\n      <td>0.961177</td>\n      <td>0.376092</td>\n      <td>0.340574</td>\n      <td>0.771604</td>\n    </tr>\n    <tr>\n      <th>3</th>\n      <td>0.259074</td>\n      <td>0.888839</td>\n      <td>0.604553</td>\n      <td>0.493240</td>\n      <td>0.999108</td>\n    </tr>\n    <tr>\n      <th>4</th>\n      <td>0.039094</td>\n      <td>0.630973</td>\n      <td>0.093215</td>\n      <td>0.280661</td>\n      <td>0.811692</td>\n    </tr>\n    <tr>\n      <th>5</th>\n      <td>0.083129</td>\n      <td>0.200757</td>\n      <td>0.125179</td>\n      <td>0.616034</td>\n      <td>0.643784</td>\n    </tr>\n    <tr>\n      <th>6</th>\n      <td>0.165800</td>\n      <td>0.131924</td>\n      <td>0.446833</td>\n      <td>0.515345</td>\n      <td>0.627674</td>\n    </tr>\n    <tr>\n      <th>7</th>\n      <td>0.928184</td>\n      <td>0.861180</td>\n      <td>0.127059</td>\n      <td>0.181805</td>\n      <td>0.478863</td>\n    </tr>\n    <tr>\n      <th>8</th>\n      <td>0.804090</td>\n      <td>0.844562</td>\n      <td>0.427590</td>\n      <td>0.167332</td>\n      <td>0.797088</td>\n    </tr>\n    <tr>\n      <th>9</th>\n      <td>0.434780</td>\n      <td>0.216332</td>\n      <td>0.739847</td>\n      <td>0.975717</td>\n      <td>0.683823</td>\n    </tr>\n    <tr>\n      <th>10</th>\n      <td>0.132682</td>\n      <td>0.537504</td>\n      <td>0.136698</td>\n      <td>0.327971</td>\n      <td>0.047879</td>\n    </tr>\n    <tr>\n      <th>11</th>\n      <td>0.289490</td>\n      <td>0.798948</td>\n      <td>0.721384</td>\n      <td>0.736329</td>\n      <td>0.908015</td>\n    </tr>\n  </tbody>\n</table>\n</div>"
     },
     "execution_count": 52,
     "metadata": {},
     "output_type": "execute_result"
    }
   ],
   "source": [
    "# 改变全体索引\n",
    "df = pd.DataFrame(np.random.rand(10,5))\n",
    "# x 是原本的索引\n",
    "df.rename(index=lambda x:x + 2)\n",
    "\n"
   ],
   "metadata": {
    "collapsed": false,
    "pycharm": {
     "name": "#%%\n"
    }
   }
  },
  {
   "cell_type": "code",
   "execution_count": 54,
   "outputs": [
    {
     "data": {
      "text/plain": "           0         1         2         3         4\nX0  0.279345  0.307144  0.861522  0.745992  0.814656\nX1  0.662414  0.562437  0.755178  0.843180  0.629130\nX2  0.464030  0.676274  0.341644  0.041449  0.739156\nX3  0.908554  0.288790  0.628607  0.934860  0.924915\nX4  0.875423  0.849251  0.601324  0.637366  0.149583\nX5  0.501748  0.775775  0.457834  0.930926  0.988907\nX6  0.672602  0.997636  0.854408  0.444978  0.063946\nX7  0.333386  0.694127  0.441451  0.706761  0.202330\nX8  0.248779  0.633732  0.457904  0.187928  0.103876\nX9  0.299806  0.043185  0.566556  0.232371  0.741846",
      "text/html": "<div>\n<style scoped>\n    .dataframe tbody tr th:only-of-type {\n        vertical-align: middle;\n    }\n\n    .dataframe tbody tr th {\n        vertical-align: top;\n    }\n\n    .dataframe thead th {\n        text-align: right;\n    }\n</style>\n<table border=\"1\" class=\"dataframe\">\n  <thead>\n    <tr style=\"text-align: right;\">\n      <th></th>\n      <th>0</th>\n      <th>1</th>\n      <th>2</th>\n      <th>3</th>\n      <th>4</th>\n    </tr>\n  </thead>\n  <tbody>\n    <tr>\n      <th>X0</th>\n      <td>0.279345</td>\n      <td>0.307144</td>\n      <td>0.861522</td>\n      <td>0.745992</td>\n      <td>0.814656</td>\n    </tr>\n    <tr>\n      <th>X1</th>\n      <td>0.662414</td>\n      <td>0.562437</td>\n      <td>0.755178</td>\n      <td>0.843180</td>\n      <td>0.629130</td>\n    </tr>\n    <tr>\n      <th>X2</th>\n      <td>0.464030</td>\n      <td>0.676274</td>\n      <td>0.341644</td>\n      <td>0.041449</td>\n      <td>0.739156</td>\n    </tr>\n    <tr>\n      <th>X3</th>\n      <td>0.908554</td>\n      <td>0.288790</td>\n      <td>0.628607</td>\n      <td>0.934860</td>\n      <td>0.924915</td>\n    </tr>\n    <tr>\n      <th>X4</th>\n      <td>0.875423</td>\n      <td>0.849251</td>\n      <td>0.601324</td>\n      <td>0.637366</td>\n      <td>0.149583</td>\n    </tr>\n    <tr>\n      <th>X5</th>\n      <td>0.501748</td>\n      <td>0.775775</td>\n      <td>0.457834</td>\n      <td>0.930926</td>\n      <td>0.988907</td>\n    </tr>\n    <tr>\n      <th>X6</th>\n      <td>0.672602</td>\n      <td>0.997636</td>\n      <td>0.854408</td>\n      <td>0.444978</td>\n      <td>0.063946</td>\n    </tr>\n    <tr>\n      <th>X7</th>\n      <td>0.333386</td>\n      <td>0.694127</td>\n      <td>0.441451</td>\n      <td>0.706761</td>\n      <td>0.202330</td>\n    </tr>\n    <tr>\n      <th>X8</th>\n      <td>0.248779</td>\n      <td>0.633732</td>\n      <td>0.457904</td>\n      <td>0.187928</td>\n      <td>0.103876</td>\n    </tr>\n    <tr>\n      <th>X9</th>\n      <td>0.299806</td>\n      <td>0.043185</td>\n      <td>0.566556</td>\n      <td>0.232371</td>\n      <td>0.741846</td>\n    </tr>\n  </tbody>\n</table>\n</div>"
     },
     "execution_count": 54,
     "metadata": {},
     "output_type": "execute_result"
    }
   ],
   "source": [
    "# 改变全体索引\n",
    "df = pd.DataFrame(np.random.rand(10,5))\n",
    "\n",
    "def set_index(x):\n",
    "    return 'X' + str(x)\n",
    "# 使用函数改变索引\n",
    "df.rename(index=set_index)"
   ],
   "metadata": {
    "collapsed": false,
    "pycharm": {
     "name": "#%%\n"
    }
   }
  },
  {
   "cell_type": "markdown",
   "source": [
    "### 7. 数据的过滤排序分组\n",
    "\n",
    "- 参考 : [pandas分组](https://www.yiibai.com/pandas/python_pandas_groupby.html)\n"
   ],
   "metadata": {
    "collapsed": false,
    "pycharm": {
     "name": "#%% md\n"
    }
   }
  },
  {
   "cell_type": "code",
   "execution_count": 60,
   "outputs": [
    {
     "data": {
      "text/plain": "          A         B         C         D         E\n0  0.074564  0.173089  0.310318  0.448325  0.530290\n1  0.889044  0.805542  0.031188  0.730520  0.271142\n2  0.670745  0.171509  0.619422  0.345482  0.238318\n3  0.165640  0.521203  0.193020  0.137694  0.620836\n4  0.252799  0.249926  0.677956  0.679298  0.058705\n5  0.101080  0.491971  0.406330  0.330202  0.884337\n6  0.659570  0.668277  0.871970  0.542167  0.184761\n7  0.730745  0.404169  0.563231  0.830918  0.267793\n8  0.860192  0.793930  0.140482  0.239572  0.612324\n9  0.095764  0.876313  0.375814  0.792578  0.336265",
      "text/html": "<div>\n<style scoped>\n    .dataframe tbody tr th:only-of-type {\n        vertical-align: middle;\n    }\n\n    .dataframe tbody tr th {\n        vertical-align: top;\n    }\n\n    .dataframe thead th {\n        text-align: right;\n    }\n</style>\n<table border=\"1\" class=\"dataframe\">\n  <thead>\n    <tr style=\"text-align: right;\">\n      <th></th>\n      <th>A</th>\n      <th>B</th>\n      <th>C</th>\n      <th>D</th>\n      <th>E</th>\n    </tr>\n  </thead>\n  <tbody>\n    <tr>\n      <th>0</th>\n      <td>0.074564</td>\n      <td>0.173089</td>\n      <td>0.310318</td>\n      <td>0.448325</td>\n      <td>0.530290</td>\n    </tr>\n    <tr>\n      <th>1</th>\n      <td>0.889044</td>\n      <td>0.805542</td>\n      <td>0.031188</td>\n      <td>0.730520</td>\n      <td>0.271142</td>\n    </tr>\n    <tr>\n      <th>2</th>\n      <td>0.670745</td>\n      <td>0.171509</td>\n      <td>0.619422</td>\n      <td>0.345482</td>\n      <td>0.238318</td>\n    </tr>\n    <tr>\n      <th>3</th>\n      <td>0.165640</td>\n      <td>0.521203</td>\n      <td>0.193020</td>\n      <td>0.137694</td>\n      <td>0.620836</td>\n    </tr>\n    <tr>\n      <th>4</th>\n      <td>0.252799</td>\n      <td>0.249926</td>\n      <td>0.677956</td>\n      <td>0.679298</td>\n      <td>0.058705</td>\n    </tr>\n    <tr>\n      <th>5</th>\n      <td>0.101080</td>\n      <td>0.491971</td>\n      <td>0.406330</td>\n      <td>0.330202</td>\n      <td>0.884337</td>\n    </tr>\n    <tr>\n      <th>6</th>\n      <td>0.659570</td>\n      <td>0.668277</td>\n      <td>0.871970</td>\n      <td>0.542167</td>\n      <td>0.184761</td>\n    </tr>\n    <tr>\n      <th>7</th>\n      <td>0.730745</td>\n      <td>0.404169</td>\n      <td>0.563231</td>\n      <td>0.830918</td>\n      <td>0.267793</td>\n    </tr>\n    <tr>\n      <th>8</th>\n      <td>0.860192</td>\n      <td>0.793930</td>\n      <td>0.140482</td>\n      <td>0.239572</td>\n      <td>0.612324</td>\n    </tr>\n    <tr>\n      <th>9</th>\n      <td>0.095764</td>\n      <td>0.876313</td>\n      <td>0.375814</td>\n      <td>0.792578</td>\n      <td>0.336265</td>\n    </tr>\n  </tbody>\n</table>\n</div>"
     },
     "execution_count": 60,
     "metadata": {},
     "output_type": "execute_result"
    }
   ],
   "source": [
    "df = pd.DataFrame(np.random.rand(10, 5), columns=list('ABCDE'))\n",
    "# 选取数据框df中对应行的数值大于0.5的全部列\n",
    "df"
   ],
   "metadata": {
    "collapsed": false,
    "pycharm": {
     "name": "#%%\n"
    }
   }
  },
  {
   "cell_type": "code",
   "execution_count": 61,
   "outputs": [
    {
     "data": {
      "text/plain": "          A         B         C         D         E\n1  0.889044  0.805542  0.031188  0.730520  0.271142\n2  0.670745  0.171509  0.619422  0.345482  0.238318\n6  0.659570  0.668277  0.871970  0.542167  0.184761\n7  0.730745  0.404169  0.563231  0.830918  0.267793\n8  0.860192  0.793930  0.140482  0.239572  0.612324",
      "text/html": "<div>\n<style scoped>\n    .dataframe tbody tr th:only-of-type {\n        vertical-align: middle;\n    }\n\n    .dataframe tbody tr th {\n        vertical-align: top;\n    }\n\n    .dataframe thead th {\n        text-align: right;\n    }\n</style>\n<table border=\"1\" class=\"dataframe\">\n  <thead>\n    <tr style=\"text-align: right;\">\n      <th></th>\n      <th>A</th>\n      <th>B</th>\n      <th>C</th>\n      <th>D</th>\n      <th>E</th>\n    </tr>\n  </thead>\n  <tbody>\n    <tr>\n      <th>1</th>\n      <td>0.889044</td>\n      <td>0.805542</td>\n      <td>0.031188</td>\n      <td>0.730520</td>\n      <td>0.271142</td>\n    </tr>\n    <tr>\n      <th>2</th>\n      <td>0.670745</td>\n      <td>0.171509</td>\n      <td>0.619422</td>\n      <td>0.345482</td>\n      <td>0.238318</td>\n    </tr>\n    <tr>\n      <th>6</th>\n      <td>0.659570</td>\n      <td>0.668277</td>\n      <td>0.871970</td>\n      <td>0.542167</td>\n      <td>0.184761</td>\n    </tr>\n    <tr>\n      <th>7</th>\n      <td>0.730745</td>\n      <td>0.404169</td>\n      <td>0.563231</td>\n      <td>0.830918</td>\n      <td>0.267793</td>\n    </tr>\n    <tr>\n      <th>8</th>\n      <td>0.860192</td>\n      <td>0.793930</td>\n      <td>0.140482</td>\n      <td>0.239572</td>\n      <td>0.612324</td>\n    </tr>\n  </tbody>\n</table>\n</div>"
     },
     "execution_count": 61,
     "metadata": {},
     "output_type": "execute_result"
    }
   ],
   "source": [
    "# df 中, A 列, 某一行的数据小于0.5, 直接过滤掉\n",
    "df[df['A'] > 0.5]"
   ],
   "metadata": {
    "collapsed": false,
    "pycharm": {
     "name": "#%%\n"
    }
   }
  },
  {
   "cell_type": "code",
   "execution_count": 69,
   "outputs": [
    {
     "data": {
      "text/plain": "          A         B         C         D         E\n1  0.889044  0.805542  0.031188  0.730520  0.271142\n2  0.670745  0.171509  0.619422  0.345482  0.238318\n6  0.659570  0.668277  0.871970  0.542167  0.184761\n7  0.730745  0.404169  0.563231  0.830918  0.267793\n8  0.860192  0.793930  0.140482  0.239572  0.612324",
      "text/html": "<div>\n<style scoped>\n    .dataframe tbody tr th:only-of-type {\n        vertical-align: middle;\n    }\n\n    .dataframe tbody tr th {\n        vertical-align: top;\n    }\n\n    .dataframe thead th {\n        text-align: right;\n    }\n</style>\n<table border=\"1\" class=\"dataframe\">\n  <thead>\n    <tr style=\"text-align: right;\">\n      <th></th>\n      <th>A</th>\n      <th>B</th>\n      <th>C</th>\n      <th>D</th>\n      <th>E</th>\n    </tr>\n  </thead>\n  <tbody>\n    <tr>\n      <th>1</th>\n      <td>0.889044</td>\n      <td>0.805542</td>\n      <td>0.031188</td>\n      <td>0.730520</td>\n      <td>0.271142</td>\n    </tr>\n    <tr>\n      <th>2</th>\n      <td>0.670745</td>\n      <td>0.171509</td>\n      <td>0.619422</td>\n      <td>0.345482</td>\n      <td>0.238318</td>\n    </tr>\n    <tr>\n      <th>6</th>\n      <td>0.659570</td>\n      <td>0.668277</td>\n      <td>0.871970</td>\n      <td>0.542167</td>\n      <td>0.184761</td>\n    </tr>\n    <tr>\n      <th>7</th>\n      <td>0.730745</td>\n      <td>0.404169</td>\n      <td>0.563231</td>\n      <td>0.830918</td>\n      <td>0.267793</td>\n    </tr>\n    <tr>\n      <th>8</th>\n      <td>0.860192</td>\n      <td>0.793930</td>\n      <td>0.140482</td>\n      <td>0.239572</td>\n      <td>0.612324</td>\n    </tr>\n  </tbody>\n</table>\n</div>"
     },
     "execution_count": 69,
     "metadata": {},
     "output_type": "execute_result"
    }
   ],
   "source": [
    "# 使用 lambda 表达式展示更好理解 x 是 df, 而不是某一列\n",
    "df[lambda x : x['A'] > 0.5]"
   ],
   "metadata": {
    "collapsed": false,
    "pycharm": {
     "name": "#%%\n"
    }
   }
  },
  {
   "cell_type": "code",
   "execution_count": 71,
   "outputs": [
    {
     "data": {
      "text/plain": "          A         B         C         D         E\n0  0.515351  0.689226  0.979497  0.063579  0.487165\n2  0.612784  0.666182  0.921618  0.388245  0.269298\n6  0.829274  0.272381  0.585577  0.656040  0.111317\n8  0.971148  0.610528  0.962081  0.771231  0.944828",
      "text/html": "<div>\n<style scoped>\n    .dataframe tbody tr th:only-of-type {\n        vertical-align: middle;\n    }\n\n    .dataframe tbody tr th {\n        vertical-align: top;\n    }\n\n    .dataframe thead th {\n        text-align: right;\n    }\n</style>\n<table border=\"1\" class=\"dataframe\">\n  <thead>\n    <tr style=\"text-align: right;\">\n      <th></th>\n      <th>A</th>\n      <th>B</th>\n      <th>C</th>\n      <th>D</th>\n      <th>E</th>\n    </tr>\n  </thead>\n  <tbody>\n    <tr>\n      <th>0</th>\n      <td>0.515351</td>\n      <td>0.689226</td>\n      <td>0.979497</td>\n      <td>0.063579</td>\n      <td>0.487165</td>\n    </tr>\n    <tr>\n      <th>2</th>\n      <td>0.612784</td>\n      <td>0.666182</td>\n      <td>0.921618</td>\n      <td>0.388245</td>\n      <td>0.269298</td>\n    </tr>\n    <tr>\n      <th>6</th>\n      <td>0.829274</td>\n      <td>0.272381</td>\n      <td>0.585577</td>\n      <td>0.656040</td>\n      <td>0.111317</td>\n    </tr>\n    <tr>\n      <th>8</th>\n      <td>0.971148</td>\n      <td>0.610528</td>\n      <td>0.962081</td>\n      <td>0.771231</td>\n      <td>0.944828</td>\n    </tr>\n  </tbody>\n</table>\n</div>"
     },
     "execution_count": 71,
     "metadata": {},
     "output_type": "execute_result"
    }
   ],
   "source": [
    "df = pd.DataFrame(np.random.rand(10,5), columns=list('ABCDE'))\n",
    "# 选取数据框df中对应行的数值大于0.5，并且小于0.7的全部列\n",
    "df[ (df['A'] > 0.5) & (df['B'] < 0.7) ]"
   ],
   "metadata": {
    "collapsed": false,
    "pycharm": {
     "name": "#%%\n"
    }
   }
  },
  {
   "cell_type": "code",
   "execution_count": 74,
   "outputs": [
    {
     "data": {
      "text/plain": "          A         B         C         D         E\n0  0.888330  0.603035  0.659918  0.162525  0.500268\n7  0.776733  0.866374  0.849925  0.575070  0.973827\n9  0.710363  0.831911  0.994461  0.787840  0.541760\n1  0.702547  0.019896  0.730346  0.586500  0.026876\n8  0.626113  0.069153  0.741421  0.589719  0.644050\n2  0.615088  0.898678  0.094520  0.651045  0.558979\n5  0.259449  0.297758  0.947702  0.047345  0.768877\n4  0.252362  0.244180  0.463837  0.205838  0.449103\n3  0.088813  0.219015  0.078327  0.296661  0.605756\n6  0.057254  0.126258  0.004850  0.372228  0.256033",
      "text/html": "<div>\n<style scoped>\n    .dataframe tbody tr th:only-of-type {\n        vertical-align: middle;\n    }\n\n    .dataframe tbody tr th {\n        vertical-align: top;\n    }\n\n    .dataframe thead th {\n        text-align: right;\n    }\n</style>\n<table border=\"1\" class=\"dataframe\">\n  <thead>\n    <tr style=\"text-align: right;\">\n      <th></th>\n      <th>A</th>\n      <th>B</th>\n      <th>C</th>\n      <th>D</th>\n      <th>E</th>\n    </tr>\n  </thead>\n  <tbody>\n    <tr>\n      <th>0</th>\n      <td>0.888330</td>\n      <td>0.603035</td>\n      <td>0.659918</td>\n      <td>0.162525</td>\n      <td>0.500268</td>\n    </tr>\n    <tr>\n      <th>7</th>\n      <td>0.776733</td>\n      <td>0.866374</td>\n      <td>0.849925</td>\n      <td>0.575070</td>\n      <td>0.973827</td>\n    </tr>\n    <tr>\n      <th>9</th>\n      <td>0.710363</td>\n      <td>0.831911</td>\n      <td>0.994461</td>\n      <td>0.787840</td>\n      <td>0.541760</td>\n    </tr>\n    <tr>\n      <th>1</th>\n      <td>0.702547</td>\n      <td>0.019896</td>\n      <td>0.730346</td>\n      <td>0.586500</td>\n      <td>0.026876</td>\n    </tr>\n    <tr>\n      <th>8</th>\n      <td>0.626113</td>\n      <td>0.069153</td>\n      <td>0.741421</td>\n      <td>0.589719</td>\n      <td>0.644050</td>\n    </tr>\n    <tr>\n      <th>2</th>\n      <td>0.615088</td>\n      <td>0.898678</td>\n      <td>0.094520</td>\n      <td>0.651045</td>\n      <td>0.558979</td>\n    </tr>\n    <tr>\n      <th>5</th>\n      <td>0.259449</td>\n      <td>0.297758</td>\n      <td>0.947702</td>\n      <td>0.047345</td>\n      <td>0.768877</td>\n    </tr>\n    <tr>\n      <th>4</th>\n      <td>0.252362</td>\n      <td>0.244180</td>\n      <td>0.463837</td>\n      <td>0.205838</td>\n      <td>0.449103</td>\n    </tr>\n    <tr>\n      <th>3</th>\n      <td>0.088813</td>\n      <td>0.219015</td>\n      <td>0.078327</td>\n      <td>0.296661</td>\n      <td>0.605756</td>\n    </tr>\n    <tr>\n      <th>6</th>\n      <td>0.057254</td>\n      <td>0.126258</td>\n      <td>0.004850</td>\n      <td>0.372228</td>\n      <td>0.256033</td>\n    </tr>\n  </tbody>\n</table>\n</div>"
     },
     "execution_count": 74,
     "metadata": {},
     "output_type": "execute_result"
    }
   ],
   "source": [
    "# 按照数据框的列col1升序(ascending)的方式对数据框df做排序\n",
    "df = pd.DataFrame(np.random.rand(10,5), columns=list('ABCDE'))\n",
    "df.sort_values('A', ascending=False) # 降序排列"
   ],
   "metadata": {
    "collapsed": false,
    "pycharm": {
     "name": "#%%\n"
    }
   }
  },
  {
   "cell_type": "code",
   "execution_count": 75,
   "outputs": [
    {
     "data": {
      "text/plain": "          A         B         C         D         E\n0  0.964702  0.093242  0.883218  0.742030  0.867468\n5  0.924180  0.219270  0.724050  0.821124  0.324477\n2  0.723776  0.814935  0.095015  0.419248  0.339019\n1  0.677058  0.208350  0.474071  0.981536  0.906281\n3  0.585830  0.081480  0.346808  0.570277  0.114006\n8  0.493609  0.151192  0.303007  0.319556  0.666148\n7  0.348111  0.627642  0.788758  0.631143  0.888188\n4  0.244802  0.525789  0.141775  0.564829  0.658646\n9  0.191430  0.228429  0.636259  0.315248  0.614107\n6  0.008442  0.207579  0.051137  0.288593  0.929660",
      "text/html": "<div>\n<style scoped>\n    .dataframe tbody tr th:only-of-type {\n        vertical-align: middle;\n    }\n\n    .dataframe tbody tr th {\n        vertical-align: top;\n    }\n\n    .dataframe thead th {\n        text-align: right;\n    }\n</style>\n<table border=\"1\" class=\"dataframe\">\n  <thead>\n    <tr style=\"text-align: right;\">\n      <th></th>\n      <th>A</th>\n      <th>B</th>\n      <th>C</th>\n      <th>D</th>\n      <th>E</th>\n    </tr>\n  </thead>\n  <tbody>\n    <tr>\n      <th>0</th>\n      <td>0.964702</td>\n      <td>0.093242</td>\n      <td>0.883218</td>\n      <td>0.742030</td>\n      <td>0.867468</td>\n    </tr>\n    <tr>\n      <th>5</th>\n      <td>0.924180</td>\n      <td>0.219270</td>\n      <td>0.724050</td>\n      <td>0.821124</td>\n      <td>0.324477</td>\n    </tr>\n    <tr>\n      <th>2</th>\n      <td>0.723776</td>\n      <td>0.814935</td>\n      <td>0.095015</td>\n      <td>0.419248</td>\n      <td>0.339019</td>\n    </tr>\n    <tr>\n      <th>1</th>\n      <td>0.677058</td>\n      <td>0.208350</td>\n      <td>0.474071</td>\n      <td>0.981536</td>\n      <td>0.906281</td>\n    </tr>\n    <tr>\n      <th>3</th>\n      <td>0.585830</td>\n      <td>0.081480</td>\n      <td>0.346808</td>\n      <td>0.570277</td>\n      <td>0.114006</td>\n    </tr>\n    <tr>\n      <th>8</th>\n      <td>0.493609</td>\n      <td>0.151192</td>\n      <td>0.303007</td>\n      <td>0.319556</td>\n      <td>0.666148</td>\n    </tr>\n    <tr>\n      <th>7</th>\n      <td>0.348111</td>\n      <td>0.627642</td>\n      <td>0.788758</td>\n      <td>0.631143</td>\n      <td>0.888188</td>\n    </tr>\n    <tr>\n      <th>4</th>\n      <td>0.244802</td>\n      <td>0.525789</td>\n      <td>0.141775</td>\n      <td>0.564829</td>\n      <td>0.658646</td>\n    </tr>\n    <tr>\n      <th>9</th>\n      <td>0.191430</td>\n      <td>0.228429</td>\n      <td>0.636259</td>\n      <td>0.315248</td>\n      <td>0.614107</td>\n    </tr>\n    <tr>\n      <th>6</th>\n      <td>0.008442</td>\n      <td>0.207579</td>\n      <td>0.051137</td>\n      <td>0.288593</td>\n      <td>0.929660</td>\n    </tr>\n  </tbody>\n</table>\n</div>"
     },
     "execution_count": 75,
     "metadata": {},
     "output_type": "execute_result"
    }
   ],
   "source": [
    "# 按照数据框的列col1升序(ascending)的方式对数据框df做排序\n",
    "df = pd.DataFrame(np.random.rand(10,5), columns=list('ABCDE'))\n",
    "df.sort_values(['A', 'B'], ascending=[False, True]) # A 降序排列, B 升序排列"
   ],
   "metadata": {
    "collapsed": false,
    "pycharm": {
     "name": "#%%\n"
    }
   }
  },
  {
   "cell_type": "code",
   "execution_count": 89,
   "outputs": [
    {
     "data": {
      "text/plain": "      Team  Rank  Year\n0   Riders     1  2014\n1   Riders     2  2015\n2   Devils     2  2014\n3   Devils     3  2015\n4    Kings     3  2014\n5    kings     4  2015\n6    Kings     1  2016\n7    Kings     1  2017\n8   Riders     2  2016\n9   Royals     4  2014\n10  Royals     1  2015\n11  Riders     2  2017",
      "text/html": "<div>\n<style scoped>\n    .dataframe tbody tr th:only-of-type {\n        vertical-align: middle;\n    }\n\n    .dataframe tbody tr th {\n        vertical-align: top;\n    }\n\n    .dataframe thead th {\n        text-align: right;\n    }\n</style>\n<table border=\"1\" class=\"dataframe\">\n  <thead>\n    <tr style=\"text-align: right;\">\n      <th></th>\n      <th>Team</th>\n      <th>Rank</th>\n      <th>Year</th>\n    </tr>\n  </thead>\n  <tbody>\n    <tr>\n      <th>0</th>\n      <td>Riders</td>\n      <td>1</td>\n      <td>2014</td>\n    </tr>\n    <tr>\n      <th>1</th>\n      <td>Riders</td>\n      <td>2</td>\n      <td>2015</td>\n    </tr>\n    <tr>\n      <th>2</th>\n      <td>Devils</td>\n      <td>2</td>\n      <td>2014</td>\n    </tr>\n    <tr>\n      <th>3</th>\n      <td>Devils</td>\n      <td>3</td>\n      <td>2015</td>\n    </tr>\n    <tr>\n      <th>4</th>\n      <td>Kings</td>\n      <td>3</td>\n      <td>2014</td>\n    </tr>\n    <tr>\n      <th>5</th>\n      <td>kings</td>\n      <td>4</td>\n      <td>2015</td>\n    </tr>\n    <tr>\n      <th>6</th>\n      <td>Kings</td>\n      <td>1</td>\n      <td>2016</td>\n    </tr>\n    <tr>\n      <th>7</th>\n      <td>Kings</td>\n      <td>1</td>\n      <td>2017</td>\n    </tr>\n    <tr>\n      <th>8</th>\n      <td>Riders</td>\n      <td>2</td>\n      <td>2016</td>\n    </tr>\n    <tr>\n      <th>9</th>\n      <td>Royals</td>\n      <td>4</td>\n      <td>2014</td>\n    </tr>\n    <tr>\n      <th>10</th>\n      <td>Royals</td>\n      <td>1</td>\n      <td>2015</td>\n    </tr>\n    <tr>\n      <th>11</th>\n      <td>Riders</td>\n      <td>2</td>\n      <td>2017</td>\n    </tr>\n  </tbody>\n</table>\n</div>"
     },
     "execution_count": 89,
     "metadata": {},
     "output_type": "execute_result"
    }
   ],
   "source": [
    "data = {'Team': ['Riders', 'Riders', 'Devils', 'Devils', 'Kings',\n",
    "                     'kings', 'Kings', 'Kings', 'Riders', 'Royals', 'Royals', 'Riders'],\n",
    "            'Rank': [1, 2, 2, 3, 3,4 ,1 ,1,2 , 4,1,2],\n",
    "            'Year': [2014,2015,2014,2015,2014,2015,2016,2017,2016,2014,2015,2017]}\n",
    "\n",
    "\n",
    "df = pd.DataFrame(data)\n",
    "df"
   ],
   "metadata": {
    "collapsed": false,
    "pycharm": {
     "name": "#%%\n"
    }
   }
  },
  {
   "cell_type": "code",
   "execution_count": 95,
   "outputs": [
    {
     "name": "stdout",
     "output_type": "stream",
     "text": [
      "{'Devils': [2, 3], 'Kings': [4, 6, 7], 'Riders': [0, 1, 8, 11], 'Royals': [9, 10], 'kings': [5]}\n",
      "{('Devils', 2): [2], ('Devils', 3): [3], ('Kings', 1): [6, 7], ('Kings', 3): [4], ('Riders', 1): [0], ('Riders', 2): [1, 8, 11], ('Royals', 1): [10], ('Royals', 4): [9], ('kings', 4): [5]}\n"
     ]
    }
   ],
   "source": [
    "# 查看分组, 返回类型为 字典类型\n",
    "print(df.groupby(['Team']).groups)\n",
    "\n",
    "# 多列分组\n",
    "#  例如 : ('Kings', 1): [6, 7] : Team = King, Rank = 1 的在分组为 [6,7]两行\n",
    "print(df.groupby(['Team', 'Team']).groups)"
   ],
   "metadata": {
    "collapsed": false,
    "pycharm": {
     "name": "#%%\n"
    }
   }
  },
  {
   "cell_type": "code",
   "execution_count": 104,
   "outputs": [
    {
     "name": "stdout",
     "output_type": "stream",
     "text": [
      "以 Team 列为分组 :\n",
      "{'Devils': [2, 3], 'Kings': [4, 6, 7], 'Riders': [0, 1, 8, 11], 'Royals': [9, 10], 'kings': [5]}\n",
      "对每个分组统计组内有多少行数据 : \n",
      "        Rank  Year\n",
      "Team              \n",
      "Devils     2     2\n",
      "Kings      3     3\n",
      "Riders     4     4\n",
      "Royals     2     2\n",
      "kings      1     1\n",
      "            Rank         Year\n",
      "Team                         \n",
      "Devils  2.500000  2014.500000\n",
      "Kings   1.666667  2015.666667\n",
      "Riders  1.750000  2015.500000\n",
      "Royals  2.500000  2014.500000\n",
      "kings   4.000000  2015.000000\n"
     ]
    }
   ],
   "source": [
    "# 理解分组 :\n",
    "print(\"以 Team 列为分组 :\")\n",
    "print(df.groupby(['Team']).groups)\n",
    "print(\"对每个分组统计组内有多少行数据 : \")\n",
    "# 如下 : 分组列表 Devils [2,3] count=>2 , Kings [4,6,7] => 3\n",
    "print(df.groupby('Team').count())\n",
    "# 分组求均值 , 比如 : Devils [2,3] , Rank列值分别是 2,3 平均值是 2.5, Year值分别是 2014和2015, 均值为 2014.5\n",
    "print(df.groupby('Team').mean())"
   ],
   "metadata": {
    "collapsed": false,
    "pycharm": {
     "name": "#%%\n"
    }
   }
  },
  {
   "cell_type": "code",
   "execution_count": 109,
   "outputs": [
    {
     "name": "stdout",
     "output_type": "stream",
     "text": [
      "name : Devils\n",
      "group : \n",
      "      Team  Rank  Year\n",
      "2  Devils     2  2014\n",
      "3  Devils     3  2015\n",
      "\n",
      "name : Kings\n",
      "group : \n",
      "     Team  Rank  Year\n",
      "4  Kings     3  2014\n",
      "6  Kings     1  2016\n",
      "7  Kings     1  2017\n",
      "\n",
      "name : Riders\n",
      "group : \n",
      "       Team  Rank  Year\n",
      "0   Riders     1  2014\n",
      "1   Riders     2  2015\n",
      "8   Riders     2  2016\n",
      "11  Riders     2  2017\n",
      "\n",
      "name : Royals\n",
      "group : \n",
      "       Team  Rank  Year\n",
      "9   Royals     4  2014\n",
      "10  Royals     1  2015\n",
      "\n",
      "name : kings\n",
      "group : \n",
      "     Team  Rank  Year\n",
      "5  kings     4  2015\n",
      "\n"
     ]
    }
   ],
   "source": [
    "# 迭代遍历分组\n",
    "groups = df.groupby('Team')\n",
    "\n",
    "for name, group in groups:\n",
    "    print(\"name :\", name)\n",
    "    print(\"group : \\n\", group)\n",
    "    print()"
   ],
   "metadata": {
    "collapsed": false,
    "pycharm": {
     "name": "#%%\n"
    }
   }
  },
  {
   "cell_type": "code",
   "execution_count": 110,
   "outputs": [
    {
     "data": {
      "text/plain": "      Team  Rank  Year\n0   Riders     1  2014\n1   Riders     2  2015\n8   Riders     2  2016\n11  Riders     2  2017",
      "text/html": "<div>\n<style scoped>\n    .dataframe tbody tr th:only-of-type {\n        vertical-align: middle;\n    }\n\n    .dataframe tbody tr th {\n        vertical-align: top;\n    }\n\n    .dataframe thead th {\n        text-align: right;\n    }\n</style>\n<table border=\"1\" class=\"dataframe\">\n  <thead>\n    <tr style=\"text-align: right;\">\n      <th></th>\n      <th>Team</th>\n      <th>Rank</th>\n      <th>Year</th>\n    </tr>\n  </thead>\n  <tbody>\n    <tr>\n      <th>0</th>\n      <td>Riders</td>\n      <td>1</td>\n      <td>2014</td>\n    </tr>\n    <tr>\n      <th>1</th>\n      <td>Riders</td>\n      <td>2</td>\n      <td>2015</td>\n    </tr>\n    <tr>\n      <th>8</th>\n      <td>Riders</td>\n      <td>2</td>\n      <td>2016</td>\n    </tr>\n    <tr>\n      <th>11</th>\n      <td>Riders</td>\n      <td>2</td>\n      <td>2017</td>\n    </tr>\n  </tbody>\n</table>\n</div>"
     },
     "execution_count": 110,
     "metadata": {},
     "output_type": "execute_result"
    }
   ],
   "source": [
    "# 选择分组\n",
    "groups = df.groupby('Team')\n",
    "groups.get_group('Riders')"
   ],
   "metadata": {
    "collapsed": false,
    "pycharm": {
     "name": "#%%\n"
    }
   }
  },
  {
   "cell_type": "code",
   "execution_count": 114,
   "outputs": [
    {
     "name": "stdout",
     "output_type": "stream",
     "text": [
      "{'one': [0, 1], 'three': [4, 5], 'two': [2, 3]}\n",
      "B\n",
      "one      1.5\n",
      "three    4.0\n",
      "two      2.5\n",
      "Name: D, dtype: float64\n"
     ]
    }
   ],
   "source": [
    "df = pd.DataFrame({'A':np.array(['foo','foo','foo','foo','bar','bar']),\n",
    "                   'B':np.array(['one','one','two','two','three','three']),\n",
    "                   'C':np.array(['small','medium','large','large','small','small']),\n",
    "                   'D':np.array([1,2,2,3,3,5])})\n",
    "# df.groupby(col1)[col2].mean() 按照列col1对数据框df做分组处理后，返回对应的col2的平均值\n",
    "print(df.groupby('B')['D'].groups)\n",
    "print(df.groupby('B')['D'].mean())"
   ],
   "metadata": {
    "collapsed": false,
    "pycharm": {
     "name": "#%%\n"
    }
   }
  },
  {
   "cell_type": "code",
   "execution_count": 117,
   "outputs": [
    {
     "data": {
      "text/plain": "     A      B       C  D\n0  foo    one   small  1\n1  foo    one  medium  2\n2  foo    two   large  2\n3  foo    two   large  3\n4  bar  three   small  3\n5  bar  three   small  5",
      "text/html": "<div>\n<style scoped>\n    .dataframe tbody tr th:only-of-type {\n        vertical-align: middle;\n    }\n\n    .dataframe tbody tr th {\n        vertical-align: top;\n    }\n\n    .dataframe thead th {\n        text-align: right;\n    }\n</style>\n<table border=\"1\" class=\"dataframe\">\n  <thead>\n    <tr style=\"text-align: right;\">\n      <th></th>\n      <th>A</th>\n      <th>B</th>\n      <th>C</th>\n      <th>D</th>\n    </tr>\n  </thead>\n  <tbody>\n    <tr>\n      <th>0</th>\n      <td>foo</td>\n      <td>one</td>\n      <td>small</td>\n      <td>1</td>\n    </tr>\n    <tr>\n      <th>1</th>\n      <td>foo</td>\n      <td>one</td>\n      <td>medium</td>\n      <td>2</td>\n    </tr>\n    <tr>\n      <th>2</th>\n      <td>foo</td>\n      <td>two</td>\n      <td>large</td>\n      <td>2</td>\n    </tr>\n    <tr>\n      <th>3</th>\n      <td>foo</td>\n      <td>two</td>\n      <td>large</td>\n      <td>3</td>\n    </tr>\n    <tr>\n      <th>4</th>\n      <td>bar</td>\n      <td>three</td>\n      <td>small</td>\n      <td>3</td>\n    </tr>\n    <tr>\n      <th>5</th>\n      <td>bar</td>\n      <td>three</td>\n      <td>small</td>\n      <td>5</td>\n    </tr>\n  </tbody>\n</table>\n</div>"
     },
     "execution_count": 117,
     "metadata": {},
     "output_type": "execute_result"
    }
   ],
   "source": [
    "df = pd.DataFrame({'A':np.array(['foo','foo','foo','foo','bar','bar']),\n",
    "                   'B':np.array(['one','one','two','two','three','three']),\n",
    "                   'C':np.array(['small','medium','large','large','small','small']),\n",
    "                   'D':np.array([1,2,2,3,3,5])})\n",
    "df"
   ],
   "metadata": {
    "collapsed": false,
    "pycharm": {
     "name": "#%%\n"
    }
   }
  },
  {
   "cell_type": "code",
   "execution_count": null,
   "outputs": [],
   "source": [
    "# 做透视表，索引为col1,针对的数值列为col2和col3，分组函数为平均值\n",
    "# df.pivot_table(index=col1,values=[col2,col3],aggfunc=mean)\n",
    "df.pivot_table(df, index=['A', 'B'], columns=['C'])\n",
    "\n"
   ],
   "metadata": {
    "collapsed": false,
    "pycharm": {
     "name": "#%%\n"
    }
   }
  }
 ],
 "metadata": {
  "kernelspec": {
   "display_name": "Python 3",
   "language": "python",
   "name": "python3"
  },
  "language_info": {
   "codemirror_mode": {
    "name": "ipython",
    "version": 2
   },
   "file_extension": ".py",
   "mimetype": "text/x-python",
   "name": "python",
   "nbconvert_exporter": "python",
   "pygments_lexer": "ipython2",
   "version": "2.7.6"
  }
 },
 "nbformat": 4,
 "nbformat_minor": 0
}