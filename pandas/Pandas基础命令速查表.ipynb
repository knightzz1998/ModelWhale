{
 "cells": [
  {
   "cell_type": "markdown",
   "metadata": {
    "collapsed": true,
    "pycharm": {
     "name": "#%% md\n"
    }
   },
   "source": [
    "## Pandas 基础命令速查表\n",
    "- 参考 :\n",
    "    1. [速查表](https://www.heywhale.com/mw/project/59e389b54663f7655c48f518)\n",
    "- 缩写解释 & 库的导入\n",
    "    1. df --- 任意的pandas DataFrame(数据框)对象\n",
    "    2. s --- 任意的pandas Series(数组)对象\n",
    "    3. pandas和numpy是用Python做数据分析最基础且最核心的库\n"
   ]
  },
  {
   "cell_type": "code",
   "execution_count": 7,
   "outputs": [],
   "source": [
    "import pandas as pd\n",
    "import numpy as np"
   ],
   "metadata": {
    "collapsed": false,
    "pycharm": {
     "name": "#%%\n"
    }
   }
  },
  {
   "cell_type": "markdown",
   "source": [
    "### 1. 数据的导入\n",
    "\n",
    "- 数据的导入方式有以下几种 :\n",
    "\n",
    "- pd.read_csv(filename) 导入csv格式文件中的数据\n",
    "- pd.read_table(filename) 导入有分隔符的文本 (如TSV) 中的数据\n",
    "- pd.read_excel(filename) 导入Excel格式文件中的数据\n",
    "- pd.read_sql(query, connection_object) 导入SQL数据表/数据库中的数据\n",
    "- pd.read_json(json_string) 导入JSON格式的字符，URL地址或者文件中的数据\n",
    "- pd.read_html(url) 导入经过解析的URL地址中包含的数据框 (DataFrame) 数据\n",
    "- pd.read_clipboard() 导入系统粘贴板里面的数据\n",
    "- pd.DataFrame(dict)  导入Python字典 (dict) 里面的数据，其中key是数据框的表头，value是数据框的内容。"
   ],
   "metadata": {
    "collapsed": false,
    "pycharm": {
     "name": "#%% md\n"
    }
   }
  },
  {
   "cell_type": "markdown",
   "source": [
    "#### 1.1 pd.read_csv()\n",
    "\n",
    "- 作用 : 读取CSV格式的数据\n",
    "- 参数 :\n",
    "    1. filepath_or_buffer : 文件路径, 支持 ftp 文件\n",
    "    2. sep : 分隔符, 默认为 ,\n",
    "    3. header : 文件中, 要作为字段的行的行号, 默认 header=0, 如果数据中没有行, 设置 header = None\n",
    "    4. names: 字段名, 值为 ['字段1', '字段2', '字段3']\n",
    "    5. index_col : 要作为行标签的列, 等价于 header"
   ],
   "metadata": {
    "collapsed": false,
    "pycharm": {
     "name": "#%% md\n"
    }
   }
  },
  {
   "cell_type": "code",
   "execution_count": 8,
   "outputs": [
    {
     "data": {
      "text/plain": "   sepal_length  sepal_width  petal_length  petal_width species\n0           5.1          3.5           1.4          0.2  setosa\n1           4.9          3.0           1.4          0.2  setosa\n2           4.7          3.2           1.3          0.2  setosa\n3           4.6          3.1           1.5          0.2  setosa\n4           5.0          3.6           1.4          0.2  setosa",
      "text/html": "<div>\n<style scoped>\n    .dataframe tbody tr th:only-of-type {\n        vertical-align: middle;\n    }\n\n    .dataframe tbody tr th {\n        vertical-align: top;\n    }\n\n    .dataframe thead th {\n        text-align: right;\n    }\n</style>\n<table border=\"1\" class=\"dataframe\">\n  <thead>\n    <tr style=\"text-align: right;\">\n      <th></th>\n      <th>sepal_length</th>\n      <th>sepal_width</th>\n      <th>petal_length</th>\n      <th>petal_width</th>\n      <th>species</th>\n    </tr>\n  </thead>\n  <tbody>\n    <tr>\n      <th>0</th>\n      <td>5.1</td>\n      <td>3.5</td>\n      <td>1.4</td>\n      <td>0.2</td>\n      <td>setosa</td>\n    </tr>\n    <tr>\n      <th>1</th>\n      <td>4.9</td>\n      <td>3.0</td>\n      <td>1.4</td>\n      <td>0.2</td>\n      <td>setosa</td>\n    </tr>\n    <tr>\n      <th>2</th>\n      <td>4.7</td>\n      <td>3.2</td>\n      <td>1.3</td>\n      <td>0.2</td>\n      <td>setosa</td>\n    </tr>\n    <tr>\n      <th>3</th>\n      <td>4.6</td>\n      <td>3.1</td>\n      <td>1.5</td>\n      <td>0.2</td>\n      <td>setosa</td>\n    </tr>\n    <tr>\n      <th>4</th>\n      <td>5.0</td>\n      <td>3.6</td>\n      <td>1.4</td>\n      <td>0.2</td>\n      <td>setosa</td>\n    </tr>\n  </tbody>\n</table>\n</div>"
     },
     "execution_count": 8,
     "metadata": {},
     "output_type": "execute_result"
    }
   ],
   "source": [
    "CSV_PATH = '../data/可视化数据集/iris.csv'\n",
    "iris = pd.read_csv(CSV_PATH, sep=',')\n",
    "iris[:5]"
   ],
   "metadata": {
    "collapsed": false,
    "pycharm": {
     "name": "#%%\n"
    }
   }
  },
  {
   "cell_type": "markdown",
   "source": [
    "### 2. 数据的导出\n",
    "\n",
    "- [read_csv和to_csv参数详解](https://blog.csdn.net/u010801439/article/details/80033341/)\n",
    "\n",
    "- df.to_csv(filename) 将数据框 (DataFrame)中的数据导入csv格式的文件中\n",
    "- df.to_excel(filename) 将数据框 (DataFrame)中的数据导入Excel格式的文件中\n",
    "- df.to_sql(table_name,connection_object) 将数据框 (DataFrame)中的数据导入SQL数据表/数据库中\n",
    "- df.to_json(filename) 将数据框 (DataFrame)中的数据导入JSON格式的文件中"
   ],
   "metadata": {
    "collapsed": false,
    "pycharm": {
     "name": "#%% md\n"
    }
   }
  },
  {
   "cell_type": "markdown",
   "source": [
    "#### 2.1 df.to_csv()\n",
    "\n",
    "- 作用 : 将文件保存为CSV文件\n",
    "- 参数 :\n",
    "    1. path_or_buf 输出文件路径\n",
    "    2. sep 设置分隔符\n",
    "    3. na_rep 替换空值\n",
    "    4. header 是否保留列名 , header=0 表示不保存列名\n",
    "    5. index 是否保留行索引\n",
    "    6. cols 是否保留某列数据 (columns=['name'])\n",
    "    7. index 是否写入列名, 默认为 True"
   ],
   "metadata": {
    "collapsed": false,
    "pycharm": {
     "name": "#%% md\n"
    }
   }
  },
  {
   "cell_type": "code",
   "execution_count": 11,
   "outputs": [],
   "source": [
    "iris.to_csv('../to_data/iris_01.csv',\n",
    "            sep=';', na_rep='?', header=0)"
   ],
   "metadata": {
    "collapsed": false,
    "pycharm": {
     "name": "#%%\n"
    }
   }
  },
  {
   "cell_type": "markdown",
   "source": [
    "### 3. 创建测试数据\n",
    "\n",
    "- pd.DataFrame() 创建DataFrame\n",
    "    1. column : 值为list, 用于指定 DataFrame 的列名\n",
    "- pd.Series() 创建Series\n",
    "- 添加一个日期索引 index\n",
    "    1. df.index = pd.date_range('2017/1/1', periods=df.shape[0])"
   ],
   "metadata": {
    "collapsed": false,
    "pycharm": {
     "name": "#%% md\n"
    }
   }
  },
  {
   "cell_type": "code",
   "execution_count": 15,
   "outputs": [
    {
     "data": {
      "text/plain": "          a         b         c         d         e\n0 -0.185157 -1.698995  1.644381 -0.621478  0.151583\n1 -0.448374 -0.158677 -0.725542  0.710373  0.423818\n2  0.617101  0.036987  0.404606 -0.206712 -0.745539\n3  1.046734  0.897569  1.112306  0.895320 -1.164779\n4  0.923494 -0.349683 -1.960187 -1.551123 -0.436827",
      "text/html": "<div>\n<style scoped>\n    .dataframe tbody tr th:only-of-type {\n        vertical-align: middle;\n    }\n\n    .dataframe tbody tr th {\n        vertical-align: top;\n    }\n\n    .dataframe thead th {\n        text-align: right;\n    }\n</style>\n<table border=\"1\" class=\"dataframe\">\n  <thead>\n    <tr style=\"text-align: right;\">\n      <th></th>\n      <th>a</th>\n      <th>b</th>\n      <th>c</th>\n      <th>d</th>\n      <th>e</th>\n    </tr>\n  </thead>\n  <tbody>\n    <tr>\n      <th>0</th>\n      <td>-0.185157</td>\n      <td>-1.698995</td>\n      <td>1.644381</td>\n      <td>-0.621478</td>\n      <td>0.151583</td>\n    </tr>\n    <tr>\n      <th>1</th>\n      <td>-0.448374</td>\n      <td>-0.158677</td>\n      <td>-0.725542</td>\n      <td>0.710373</td>\n      <td>0.423818</td>\n    </tr>\n    <tr>\n      <th>2</th>\n      <td>0.617101</td>\n      <td>0.036987</td>\n      <td>0.404606</td>\n      <td>-0.206712</td>\n      <td>-0.745539</td>\n    </tr>\n    <tr>\n      <th>3</th>\n      <td>1.046734</td>\n      <td>0.897569</td>\n      <td>1.112306</td>\n      <td>0.895320</td>\n      <td>-1.164779</td>\n    </tr>\n    <tr>\n      <th>4</th>\n      <td>0.923494</td>\n      <td>-0.349683</td>\n      <td>-1.960187</td>\n      <td>-1.551123</td>\n      <td>-0.436827</td>\n    </tr>\n  </tbody>\n</table>\n</div>"
     },
     "execution_count": 15,
     "metadata": {},
     "output_type": "execute_result"
    }
   ],
   "source": [
    "# 创建一个 5行5列的数据\n",
    "pd.DataFrame(np.random.randn(5, 5), columns=['a', 'b', 'c', 'd', 'e'])"
   ],
   "metadata": {
    "collapsed": false,
    "pycharm": {
     "name": "#%%\n"
    }
   }
  },
  {
   "cell_type": "code",
   "execution_count": 16,
   "outputs": [
    {
     "data": {
      "text/plain": "0    Lab109\n1       100\n2       大家好\ndtype: object"
     },
     "execution_count": 16,
     "metadata": {},
     "output_type": "execute_result"
    }
   ],
   "source": [
    "# 从一个可迭代对象中创建一个 Series\n",
    "my_list = ['Lab109', 100, '大家好']\n",
    "pd.Series(my_list)"
   ],
   "metadata": {
    "collapsed": false,
    "pycharm": {
     "name": "#%%\n"
    }
   }
  },
  {
   "cell_type": "markdown",
   "source": [
    "#### 3.1 创建数字索引"
   ],
   "metadata": {
    "collapsed": false,
    "pycharm": {
     "name": "#%% md\n"
    }
   }
  },
  {
   "cell_type": "code",
   "execution_count": 23,
   "outputs": [
    {
     "data": {
      "text/plain": "                   0         1         2         3\n2021-12-21  1.632379 -1.395210 -0.261696  1.413183\n2021-12-22  1.674387  0.330600  0.673868 -0.812234\n2021-12-23  0.552859  1.009060 -0.663936 -1.182821\n2021-12-24 -0.386588 -0.091213  1.111748 -1.178750\n2021-12-25 -0.203519  1.617431  1.571207 -0.977976",
      "text/html": "<div>\n<style scoped>\n    .dataframe tbody tr th:only-of-type {\n        vertical-align: middle;\n    }\n\n    .dataframe tbody tr th {\n        vertical-align: top;\n    }\n\n    .dataframe thead th {\n        text-align: right;\n    }\n</style>\n<table border=\"1\" class=\"dataframe\">\n  <thead>\n    <tr style=\"text-align: right;\">\n      <th></th>\n      <th>0</th>\n      <th>1</th>\n      <th>2</th>\n      <th>3</th>\n    </tr>\n  </thead>\n  <tbody>\n    <tr>\n      <th>2021-12-21</th>\n      <td>1.632379</td>\n      <td>-1.395210</td>\n      <td>-0.261696</td>\n      <td>1.413183</td>\n    </tr>\n    <tr>\n      <th>2021-12-22</th>\n      <td>1.674387</td>\n      <td>0.330600</td>\n      <td>0.673868</td>\n      <td>-0.812234</td>\n    </tr>\n    <tr>\n      <th>2021-12-23</th>\n      <td>0.552859</td>\n      <td>1.009060</td>\n      <td>-0.663936</td>\n      <td>-1.182821</td>\n    </tr>\n    <tr>\n      <th>2021-12-24</th>\n      <td>-0.386588</td>\n      <td>-0.091213</td>\n      <td>1.111748</td>\n      <td>-1.178750</td>\n    </tr>\n    <tr>\n      <th>2021-12-25</th>\n      <td>-0.203519</td>\n      <td>1.617431</td>\n      <td>1.571207</td>\n      <td>-0.977976</td>\n    </tr>\n  </tbody>\n</table>\n</div>"
     },
     "execution_count": 23,
     "metadata": {},
     "output_type": "execute_result"
    }
   ],
   "source": [
    "# 添加日期索引\n",
    "\n",
    "df_data = pd.DataFrame(np.random.randn(5, 4))\n",
    "df_data.index = pd.date_range('2021/12/21', periods=df_data.shape[0])\n",
    "df_data"
   ],
   "metadata": {
    "collapsed": false,
    "pycharm": {
     "name": "#%%\n"
    }
   }
  },
  {
   "cell_type": "markdown",
   "source": [
    "### 4. 数据的查看与检查\n",
    "\n",
    "- df.head(n) 查看前 n 行的数据\n",
    "- df.tail(n) 查看后 n 行的数据\n",
    "- df.shape 查看数据框的行数与列数\n",
    "- df.info() 查看数据框 (DataFrame) 的索引、数据类型及内存信息\n",
    "- df.describe() 对于数据类型为数值型的列，查询其描述性统计的内容\n",
    "- s.value_counts(dropna=False) 查询每个独特数据值出现次数统计\n",
    "- df.apply(pd.Series.value_counts) 查询数据框 (Data Frame) 中每个列的独特数据值出现次数统计"
   ],
   "metadata": {
    "collapsed": false,
    "pycharm": {
     "name": "#%% md\n"
    }
   }
  },
  {
   "cell_type": "code",
   "execution_count": 30,
   "outputs": [
    {
     "data": {
      "text/plain": "          0         1         2         3         4\n0  0.254311  0.738132  1.610184 -0.184351 -0.087369\n1 -0.667106  0.050060  1.122164  0.870518  0.366792\n2 -0.310987  0.710765  0.322928 -0.199523 -0.393688\n3  0.539029 -0.397929  0.038788  0.270945  0.341962\n4  1.390394  0.125789 -0.078090 -1.128102 -2.058937",
      "text/html": "<div>\n<style scoped>\n    .dataframe tbody tr th:only-of-type {\n        vertical-align: middle;\n    }\n\n    .dataframe tbody tr th {\n        vertical-align: top;\n    }\n\n    .dataframe thead th {\n        text-align: right;\n    }\n</style>\n<table border=\"1\" class=\"dataframe\">\n  <thead>\n    <tr style=\"text-align: right;\">\n      <th></th>\n      <th>0</th>\n      <th>1</th>\n      <th>2</th>\n      <th>3</th>\n      <th>4</th>\n    </tr>\n  </thead>\n  <tbody>\n    <tr>\n      <th>0</th>\n      <td>0.254311</td>\n      <td>0.738132</td>\n      <td>1.610184</td>\n      <td>-0.184351</td>\n      <td>-0.087369</td>\n    </tr>\n    <tr>\n      <th>1</th>\n      <td>-0.667106</td>\n      <td>0.050060</td>\n      <td>1.122164</td>\n      <td>0.870518</td>\n      <td>0.366792</td>\n    </tr>\n    <tr>\n      <th>2</th>\n      <td>-0.310987</td>\n      <td>0.710765</td>\n      <td>0.322928</td>\n      <td>-0.199523</td>\n      <td>-0.393688</td>\n    </tr>\n    <tr>\n      <th>3</th>\n      <td>0.539029</td>\n      <td>-0.397929</td>\n      <td>0.038788</td>\n      <td>0.270945</td>\n      <td>0.341962</td>\n    </tr>\n    <tr>\n      <th>4</th>\n      <td>1.390394</td>\n      <td>0.125789</td>\n      <td>-0.078090</td>\n      <td>-1.128102</td>\n      <td>-2.058937</td>\n    </tr>\n  </tbody>\n</table>\n</div>"
     },
     "execution_count": 30,
     "metadata": {},
     "output_type": "execute_result"
    }
   ],
   "source": [
    "df = pd.DataFrame(np.random.randn(5, 5))\n",
    "\n",
    "# 查看数据的前 n 行\n",
    "df.head()  # 默认是前5行"
   ],
   "metadata": {
    "collapsed": false,
    "pycharm": {
     "name": "#%%\n"
    }
   }
  },
  {
   "cell_type": "code",
   "execution_count": 31,
   "outputs": [
    {
     "data": {
      "text/plain": "          0         1         2         3         4\n0  0.254311  0.738132  1.610184 -0.184351 -0.087369\n1 -0.667106  0.050060  1.122164  0.870518  0.366792\n2 -0.310987  0.710765  0.322928 -0.199523 -0.393688",
      "text/html": "<div>\n<style scoped>\n    .dataframe tbody tr th:only-of-type {\n        vertical-align: middle;\n    }\n\n    .dataframe tbody tr th {\n        vertical-align: top;\n    }\n\n    .dataframe thead th {\n        text-align: right;\n    }\n</style>\n<table border=\"1\" class=\"dataframe\">\n  <thead>\n    <tr style=\"text-align: right;\">\n      <th></th>\n      <th>0</th>\n      <th>1</th>\n      <th>2</th>\n      <th>3</th>\n      <th>4</th>\n    </tr>\n  </thead>\n  <tbody>\n    <tr>\n      <th>0</th>\n      <td>0.254311</td>\n      <td>0.738132</td>\n      <td>1.610184</td>\n      <td>-0.184351</td>\n      <td>-0.087369</td>\n    </tr>\n    <tr>\n      <th>1</th>\n      <td>-0.667106</td>\n      <td>0.050060</td>\n      <td>1.122164</td>\n      <td>0.870518</td>\n      <td>0.366792</td>\n    </tr>\n    <tr>\n      <th>2</th>\n      <td>-0.310987</td>\n      <td>0.710765</td>\n      <td>0.322928</td>\n      <td>-0.199523</td>\n      <td>-0.393688</td>\n    </tr>\n  </tbody>\n</table>\n</div>"
     },
     "execution_count": 31,
     "metadata": {},
     "output_type": "execute_result"
    }
   ],
   "source": [
    "df.head(3)"
   ],
   "metadata": {
    "collapsed": false,
    "pycharm": {
     "name": "#%%\n"
    }
   }
  },
  {
   "cell_type": "code",
   "execution_count": 32,
   "outputs": [
    {
     "data": {
      "text/plain": "          0         1         2         3         4\n1 -0.667106  0.050060  1.122164  0.870518  0.366792\n2 -0.310987  0.710765  0.322928 -0.199523 -0.393688\n3  0.539029 -0.397929  0.038788  0.270945  0.341962\n4  1.390394  0.125789 -0.078090 -1.128102 -2.058937",
      "text/html": "<div>\n<style scoped>\n    .dataframe tbody tr th:only-of-type {\n        vertical-align: middle;\n    }\n\n    .dataframe tbody tr th {\n        vertical-align: top;\n    }\n\n    .dataframe thead th {\n        text-align: right;\n    }\n</style>\n<table border=\"1\" class=\"dataframe\">\n  <thead>\n    <tr style=\"text-align: right;\">\n      <th></th>\n      <th>0</th>\n      <th>1</th>\n      <th>2</th>\n      <th>3</th>\n      <th>4</th>\n    </tr>\n  </thead>\n  <tbody>\n    <tr>\n      <th>1</th>\n      <td>-0.667106</td>\n      <td>0.050060</td>\n      <td>1.122164</td>\n      <td>0.870518</td>\n      <td>0.366792</td>\n    </tr>\n    <tr>\n      <th>2</th>\n      <td>-0.310987</td>\n      <td>0.710765</td>\n      <td>0.322928</td>\n      <td>-0.199523</td>\n      <td>-0.393688</td>\n    </tr>\n    <tr>\n      <th>3</th>\n      <td>0.539029</td>\n      <td>-0.397929</td>\n      <td>0.038788</td>\n      <td>0.270945</td>\n      <td>0.341962</td>\n    </tr>\n    <tr>\n      <th>4</th>\n      <td>1.390394</td>\n      <td>0.125789</td>\n      <td>-0.078090</td>\n      <td>-1.128102</td>\n      <td>-2.058937</td>\n    </tr>\n  </tbody>\n</table>\n</div>"
     },
     "execution_count": 32,
     "metadata": {},
     "output_type": "execute_result"
    }
   ],
   "source": [
    "# 查看数据的最后 n 行\n",
    "df.tail(4)"
   ],
   "metadata": {
    "collapsed": false,
    "pycharm": {
     "name": "#%%\n"
    }
   }
  },
  {
   "cell_type": "code",
   "execution_count": 33,
   "outputs": [
    {
     "data": {
      "text/plain": "(5, 5)"
     },
     "execution_count": 33,
     "metadata": {},
     "output_type": "execute_result"
    }
   ],
   "source": [
    "# 查看数据的行数和列数\n",
    "df.shape"
   ],
   "metadata": {
    "collapsed": false,
    "pycharm": {
     "name": "#%%\n"
    }
   }
  },
  {
   "cell_type": "code",
   "execution_count": 34,
   "outputs": [
    {
     "name": "stdout",
     "output_type": "stream",
     "text": [
      "<class 'pandas.core.frame.DataFrame'>\n",
      "RangeIndex: 5 entries, 0 to 4\n",
      "Data columns (total 5 columns):\n",
      " #   Column  Non-Null Count  Dtype  \n",
      "---  ------  --------------  -----  \n",
      " 0   0       5 non-null      float64\n",
      " 1   1       5 non-null      float64\n",
      " 2   2       5 non-null      float64\n",
      " 3   3       5 non-null      float64\n",
      " 4   4       5 non-null      float64\n",
      "dtypes: float64(5)\n",
      "memory usage: 328.0 bytes\n"
     ]
    }
   ],
   "source": [
    "# 查看数据框 (DataFrame) 的索引、数据类型及内存信息\n",
    "df.info()"
   ],
   "metadata": {
    "collapsed": false,
    "pycharm": {
     "name": "#%%\n"
    }
   }
  },
  {
   "cell_type": "code",
   "execution_count": 35,
   "outputs": [
    {
     "data": {
      "text/plain": "              0         1         2         3         4\ncount  5.000000  5.000000  5.000000  5.000000  5.000000\nmean   0.241128  0.245363  0.603195 -0.074103 -0.366248\nstd    0.796783  0.481063  0.732224  0.733172  0.997827\nmin   -0.667106 -0.397929 -0.078090 -1.128102 -2.058937\n25%   -0.310987  0.050060  0.038788 -0.199523 -0.393688\n50%    0.254311  0.125789  0.322928 -0.184351 -0.087369\n75%    0.539029  0.710765  1.122164  0.270945  0.341962\nmax    1.390394  0.738132  1.610184  0.870518  0.366792",
      "text/html": "<div>\n<style scoped>\n    .dataframe tbody tr th:only-of-type {\n        vertical-align: middle;\n    }\n\n    .dataframe tbody tr th {\n        vertical-align: top;\n    }\n\n    .dataframe thead th {\n        text-align: right;\n    }\n</style>\n<table border=\"1\" class=\"dataframe\">\n  <thead>\n    <tr style=\"text-align: right;\">\n      <th></th>\n      <th>0</th>\n      <th>1</th>\n      <th>2</th>\n      <th>3</th>\n      <th>4</th>\n    </tr>\n  </thead>\n  <tbody>\n    <tr>\n      <th>count</th>\n      <td>5.000000</td>\n      <td>5.000000</td>\n      <td>5.000000</td>\n      <td>5.000000</td>\n      <td>5.000000</td>\n    </tr>\n    <tr>\n      <th>mean</th>\n      <td>0.241128</td>\n      <td>0.245363</td>\n      <td>0.603195</td>\n      <td>-0.074103</td>\n      <td>-0.366248</td>\n    </tr>\n    <tr>\n      <th>std</th>\n      <td>0.796783</td>\n      <td>0.481063</td>\n      <td>0.732224</td>\n      <td>0.733172</td>\n      <td>0.997827</td>\n    </tr>\n    <tr>\n      <th>min</th>\n      <td>-0.667106</td>\n      <td>-0.397929</td>\n      <td>-0.078090</td>\n      <td>-1.128102</td>\n      <td>-2.058937</td>\n    </tr>\n    <tr>\n      <th>25%</th>\n      <td>-0.310987</td>\n      <td>0.050060</td>\n      <td>0.038788</td>\n      <td>-0.199523</td>\n      <td>-0.393688</td>\n    </tr>\n    <tr>\n      <th>50%</th>\n      <td>0.254311</td>\n      <td>0.125789</td>\n      <td>0.322928</td>\n      <td>-0.184351</td>\n      <td>-0.087369</td>\n    </tr>\n    <tr>\n      <th>75%</th>\n      <td>0.539029</td>\n      <td>0.710765</td>\n      <td>1.122164</td>\n      <td>0.270945</td>\n      <td>0.341962</td>\n    </tr>\n    <tr>\n      <th>max</th>\n      <td>1.390394</td>\n      <td>0.738132</td>\n      <td>1.610184</td>\n      <td>0.870518</td>\n      <td>0.366792</td>\n    </tr>\n  </tbody>\n</table>\n</div>"
     },
     "execution_count": 35,
     "metadata": {},
     "output_type": "execute_result"
    }
   ],
   "source": [
    "# 对于数据类型为数值型的列，查询其描述性统计的内容\n",
    "# std 表示标准差\n",
    "df.describe()"
   ],
   "metadata": {
    "collapsed": false,
    "pycharm": {
     "name": "#%%\n"
    }
   }
  },
  {
   "cell_type": "code",
   "execution_count": 38,
   "outputs": [
    {
     "data": {
      "text/plain": "1.0    3\n5.0    3\n2.0    2\n3.0    1\n4.0    1\nNaN    1\n6.0    1\n7.0    1\ndtype: int64"
     },
     "execution_count": 38,
     "metadata": {},
     "output_type": "execute_result"
    }
   ],
   "source": [
    "s = pd.Series([1, 2, 3, 1, 1, 2, 4, np.nan, 5, 5, 5, 6, 7])\n",
    "# 查询每个独特数据值出现次数统计\n",
    "# dropna : 是否包括 nan 的统计\n",
    "s.value_counts(dropna=False)"
   ],
   "metadata": {
    "collapsed": false,
    "pycharm": {
     "name": "#%%\n"
    }
   }
  },
  {
   "cell_type": "code",
   "execution_count": 39,
   "outputs": [
    {
     "data": {
      "text/plain": "             0    1    2    3    4\n-2.058937  NaN  NaN  NaN  NaN  1.0\n-1.128102  NaN  NaN  NaN  1.0  NaN\n-0.667106  1.0  NaN  NaN  NaN  NaN\n-0.397929  NaN  1.0  NaN  NaN  NaN\n-0.393688  NaN  NaN  NaN  NaN  1.0\n-0.310987  1.0  NaN  NaN  NaN  NaN\n-0.199523  NaN  NaN  NaN  1.0  NaN\n-0.184351  NaN  NaN  NaN  1.0  NaN\n-0.087369  NaN  NaN  NaN  NaN  1.0\n-0.078090  NaN  NaN  1.0  NaN  NaN\n 0.038788  NaN  NaN  1.0  NaN  NaN\n 0.050060  NaN  1.0  NaN  NaN  NaN\n 0.125789  NaN  1.0  NaN  NaN  NaN\n 0.254311  1.0  NaN  NaN  NaN  NaN\n 0.270945  NaN  NaN  NaN  1.0  NaN\n 0.322928  NaN  NaN  1.0  NaN  NaN\n 0.341962  NaN  NaN  NaN  NaN  1.0\n 0.366792  NaN  NaN  NaN  NaN  1.0\n 0.539029  1.0  NaN  NaN  NaN  NaN\n 0.710765  NaN  1.0  NaN  NaN  NaN\n 0.738132  NaN  1.0  NaN  NaN  NaN\n 0.870518  NaN  NaN  NaN  1.0  NaN\n 1.122164  NaN  NaN  1.0  NaN  NaN\n 1.390394  1.0  NaN  NaN  NaN  NaN\n 1.610184  NaN  NaN  1.0  NaN  NaN",
      "text/html": "<div>\n<style scoped>\n    .dataframe tbody tr th:only-of-type {\n        vertical-align: middle;\n    }\n\n    .dataframe tbody tr th {\n        vertical-align: top;\n    }\n\n    .dataframe thead th {\n        text-align: right;\n    }\n</style>\n<table border=\"1\" class=\"dataframe\">\n  <thead>\n    <tr style=\"text-align: right;\">\n      <th></th>\n      <th>0</th>\n      <th>1</th>\n      <th>2</th>\n      <th>3</th>\n      <th>4</th>\n    </tr>\n  </thead>\n  <tbody>\n    <tr>\n      <th>-2.058937</th>\n      <td>NaN</td>\n      <td>NaN</td>\n      <td>NaN</td>\n      <td>NaN</td>\n      <td>1.0</td>\n    </tr>\n    <tr>\n      <th>-1.128102</th>\n      <td>NaN</td>\n      <td>NaN</td>\n      <td>NaN</td>\n      <td>1.0</td>\n      <td>NaN</td>\n    </tr>\n    <tr>\n      <th>-0.667106</th>\n      <td>1.0</td>\n      <td>NaN</td>\n      <td>NaN</td>\n      <td>NaN</td>\n      <td>NaN</td>\n    </tr>\n    <tr>\n      <th>-0.397929</th>\n      <td>NaN</td>\n      <td>1.0</td>\n      <td>NaN</td>\n      <td>NaN</td>\n      <td>NaN</td>\n    </tr>\n    <tr>\n      <th>-0.393688</th>\n      <td>NaN</td>\n      <td>NaN</td>\n      <td>NaN</td>\n      <td>NaN</td>\n      <td>1.0</td>\n    </tr>\n    <tr>\n      <th>-0.310987</th>\n      <td>1.0</td>\n      <td>NaN</td>\n      <td>NaN</td>\n      <td>NaN</td>\n      <td>NaN</td>\n    </tr>\n    <tr>\n      <th>-0.199523</th>\n      <td>NaN</td>\n      <td>NaN</td>\n      <td>NaN</td>\n      <td>1.0</td>\n      <td>NaN</td>\n    </tr>\n    <tr>\n      <th>-0.184351</th>\n      <td>NaN</td>\n      <td>NaN</td>\n      <td>NaN</td>\n      <td>1.0</td>\n      <td>NaN</td>\n    </tr>\n    <tr>\n      <th>-0.087369</th>\n      <td>NaN</td>\n      <td>NaN</td>\n      <td>NaN</td>\n      <td>NaN</td>\n      <td>1.0</td>\n    </tr>\n    <tr>\n      <th>-0.078090</th>\n      <td>NaN</td>\n      <td>NaN</td>\n      <td>1.0</td>\n      <td>NaN</td>\n      <td>NaN</td>\n    </tr>\n    <tr>\n      <th>0.038788</th>\n      <td>NaN</td>\n      <td>NaN</td>\n      <td>1.0</td>\n      <td>NaN</td>\n      <td>NaN</td>\n    </tr>\n    <tr>\n      <th>0.050060</th>\n      <td>NaN</td>\n      <td>1.0</td>\n      <td>NaN</td>\n      <td>NaN</td>\n      <td>NaN</td>\n    </tr>\n    <tr>\n      <th>0.125789</th>\n      <td>NaN</td>\n      <td>1.0</td>\n      <td>NaN</td>\n      <td>NaN</td>\n      <td>NaN</td>\n    </tr>\n    <tr>\n      <th>0.254311</th>\n      <td>1.0</td>\n      <td>NaN</td>\n      <td>NaN</td>\n      <td>NaN</td>\n      <td>NaN</td>\n    </tr>\n    <tr>\n      <th>0.270945</th>\n      <td>NaN</td>\n      <td>NaN</td>\n      <td>NaN</td>\n      <td>1.0</td>\n      <td>NaN</td>\n    </tr>\n    <tr>\n      <th>0.322928</th>\n      <td>NaN</td>\n      <td>NaN</td>\n      <td>1.0</td>\n      <td>NaN</td>\n      <td>NaN</td>\n    </tr>\n    <tr>\n      <th>0.341962</th>\n      <td>NaN</td>\n      <td>NaN</td>\n      <td>NaN</td>\n      <td>NaN</td>\n      <td>1.0</td>\n    </tr>\n    <tr>\n      <th>0.366792</th>\n      <td>NaN</td>\n      <td>NaN</td>\n      <td>NaN</td>\n      <td>NaN</td>\n      <td>1.0</td>\n    </tr>\n    <tr>\n      <th>0.539029</th>\n      <td>1.0</td>\n      <td>NaN</td>\n      <td>NaN</td>\n      <td>NaN</td>\n      <td>NaN</td>\n    </tr>\n    <tr>\n      <th>0.710765</th>\n      <td>NaN</td>\n      <td>1.0</td>\n      <td>NaN</td>\n      <td>NaN</td>\n      <td>NaN</td>\n    </tr>\n    <tr>\n      <th>0.738132</th>\n      <td>NaN</td>\n      <td>1.0</td>\n      <td>NaN</td>\n      <td>NaN</td>\n      <td>NaN</td>\n    </tr>\n    <tr>\n      <th>0.870518</th>\n      <td>NaN</td>\n      <td>NaN</td>\n      <td>NaN</td>\n      <td>1.0</td>\n      <td>NaN</td>\n    </tr>\n    <tr>\n      <th>1.122164</th>\n      <td>NaN</td>\n      <td>NaN</td>\n      <td>1.0</td>\n      <td>NaN</td>\n      <td>NaN</td>\n    </tr>\n    <tr>\n      <th>1.390394</th>\n      <td>1.0</td>\n      <td>NaN</td>\n      <td>NaN</td>\n      <td>NaN</td>\n      <td>NaN</td>\n    </tr>\n    <tr>\n      <th>1.610184</th>\n      <td>NaN</td>\n      <td>NaN</td>\n      <td>1.0</td>\n      <td>NaN</td>\n      <td>NaN</td>\n    </tr>\n  </tbody>\n</table>\n</div>"
     },
     "execution_count": 39,
     "metadata": {},
     "output_type": "execute_result"
    }
   ],
   "source": [
    "# 查询数据框 (Data Frame) 中每个列的独特数据值出现次数统计\n",
    "# apply 方法中需要传入函数, df的 每一行 Series 都会被作为 参数传入\n",
    "df.apply(pd.Series.value_counts)"
   ],
   "metadata": {
    "collapsed": false,
    "pycharm": {
     "name": "#%%\n"
    }
   }
  },
  {
   "cell_type": "code",
   "execution_count": 50,
   "outputs": [
    {
     "name": "stdout",
     "output_type": "stream",
     "text": [
      "   0  1  2\n",
      "0  1  2  3\n",
      "1  3  4  5\n",
      "0    1\n",
      "1    3\n",
      "Name: 0, dtype: int64\n",
      "0    2\n",
      "1    4\n",
      "Name: 1, dtype: int64\n",
      "0    3\n",
      "1    5\n",
      "Name: 2, dtype: int64\n"
     ]
    },
    {
     "data": {
      "text/plain": "   0  1  2\n0  1  2  3\n1  3  4  5",
      "text/html": "<div>\n<style scoped>\n    .dataframe tbody tr th:only-of-type {\n        vertical-align: middle;\n    }\n\n    .dataframe tbody tr th {\n        vertical-align: top;\n    }\n\n    .dataframe thead th {\n        text-align: right;\n    }\n</style>\n<table border=\"1\" class=\"dataframe\">\n  <thead>\n    <tr style=\"text-align: right;\">\n      <th></th>\n      <th>0</th>\n      <th>1</th>\n      <th>2</th>\n    </tr>\n  </thead>\n  <tbody>\n    <tr>\n      <th>0</th>\n      <td>1</td>\n      <td>2</td>\n      <td>3</td>\n    </tr>\n    <tr>\n      <th>1</th>\n      <td>3</td>\n      <td>4</td>\n      <td>5</td>\n    </tr>\n  </tbody>\n</table>\n</div>"
     },
     "execution_count": 50,
     "metadata": {},
     "output_type": "execute_result"
    }
   ],
   "source": [
    "def func(s):\n",
    "    print(s)\n",
    "    return s\n",
    "\n",
    "\n",
    "df_01 = pd.DataFrame([[1, 2, 3], [3, 4, 5]])\n",
    "print(df_01)\n",
    "\n",
    "df_01.apply(func)"
   ],
   "metadata": {
    "collapsed": false,
    "pycharm": {
     "name": "#%%\n"
    }
   }
  },
  {
   "cell_type": "markdown",
   "source": [
    "### 5.数据的选取"
   ],
   "metadata": {
    "collapsed": false,
    "pycharm": {
     "name": "#%% md\n"
    }
   }
  },
  {
   "cell_type": "code",
   "execution_count": 59,
   "outputs": [
    {
     "data": {
      "text/plain": "0   -2.098008\n1   -0.218355\n2    0.536830\n3    0.561098\n4   -0.009654\nName: A, dtype: float64"
     },
     "execution_count": 59,
     "metadata": {},
     "output_type": "execute_result"
    }
   ],
   "source": [
    "df = pd.DataFrame(np.random.randn(5,3), columns=list('ABC'))\n",
    "df['A'] # 以数组 Series 的形式返回选取的列"
   ],
   "metadata": {
    "collapsed": false,
    "pycharm": {
     "name": "#%%\n"
    }
   }
  },
  {
   "cell_type": "code",
   "execution_count": 60,
   "outputs": [
    {
     "data": {
      "text/plain": "          A         B\n0 -2.098008  0.814800\n1 -0.218355  0.633867\n2  0.536830  0.023114\n3  0.561098 -0.419413\n4 -0.009654 -1.193050",
      "text/html": "<div>\n<style scoped>\n    .dataframe tbody tr th:only-of-type {\n        vertical-align: middle;\n    }\n\n    .dataframe tbody tr th {\n        vertical-align: top;\n    }\n\n    .dataframe thead th {\n        text-align: right;\n    }\n</style>\n<table border=\"1\" class=\"dataframe\">\n  <thead>\n    <tr style=\"text-align: right;\">\n      <th></th>\n      <th>A</th>\n      <th>B</th>\n    </tr>\n  </thead>\n  <tbody>\n    <tr>\n      <th>0</th>\n      <td>-2.098008</td>\n      <td>0.814800</td>\n    </tr>\n    <tr>\n      <th>1</th>\n      <td>-0.218355</td>\n      <td>0.633867</td>\n    </tr>\n    <tr>\n      <th>2</th>\n      <td>0.536830</td>\n      <td>0.023114</td>\n    </tr>\n    <tr>\n      <th>3</th>\n      <td>0.561098</td>\n      <td>-0.419413</td>\n    </tr>\n    <tr>\n      <th>4</th>\n      <td>-0.009654</td>\n      <td>-1.193050</td>\n    </tr>\n  </tbody>\n</table>\n</div>"
     },
     "execution_count": 60,
     "metadata": {},
     "output_type": "execute_result"
    }
   ],
   "source": [
    "df[['A', 'B']] # 以新的数据框(DataFrame)的形式返回选取的列"
   ],
   "metadata": {
    "collapsed": false,
    "pycharm": {
     "name": "#%%\n"
    }
   }
  },
  {
   "cell_type": "code",
   "execution_count": 66,
   "outputs": [
    {
     "data": {
      "text/plain": "A   -2.098008\nB    0.814800\nC    0.617078\nName: 0, dtype: float64"
     },
     "execution_count": 66,
     "metadata": {},
     "output_type": "execute_result"
    }
   ],
   "source": [
    "# 按照位置选取 df.iloc[列][行], 下标从0开始\n",
    "df.iloc[0] # 等价于 df.iloc[0,:]"
   ],
   "metadata": {
    "collapsed": false,
    "pycharm": {
     "name": "#%%\n"
    }
   }
  },
  {
   "cell_type": "code",
   "execution_count": 69,
   "outputs": [
    {
     "data": {
      "text/plain": "-2.0980077484728836"
     },
     "execution_count": 69,
     "metadata": {},
     "output_type": "execute_result"
    }
   ],
   "source": [
    "# df.iloc 是基于整数位置的选择数据, df.loc 是基于索引选择数据\n",
    "df.iloc[0,0]"
   ],
   "metadata": {
    "collapsed": false,
    "pycharm": {
     "name": "#%%\n"
    }
   }
  },
  {
   "cell_type": "code",
   "execution_count": 74,
   "outputs": [
    {
     "data": {
      "text/plain": "a       I\nb    Love\nc    Data\ndtype: object"
     },
     "execution_count": 74,
     "metadata": {},
     "output_type": "execute_result"
    }
   ],
   "source": [
    "#\n",
    "s = pd.Series(np.array(['I', 'Love', 'Data']), index=['a','b','c'])\n",
    "s"
   ],
   "metadata": {
    "collapsed": false,
    "pycharm": {
     "name": "#%%\n"
    }
   }
  },
  {
   "cell_type": "code",
   "execution_count": null,
   "outputs": [],
   "source": [
    "# 按照索引选取\n"
   ],
   "metadata": {
    "collapsed": false,
    "pycharm": {
     "name": "#%%\n"
    }
   }
  }
 ],
 "metadata": {
  "kernelspec": {
   "display_name": "Python 3",
   "language": "python",
   "name": "python3"
  },
  "language_info": {
   "codemirror_mode": {
    "name": "ipython",
    "version": 2
   },
   "file_extension": ".py",
   "mimetype": "text/x-python",
   "name": "python",
   "nbconvert_exporter": "python",
   "pygments_lexer": "ipython2",
   "version": "2.7.6"
  }
 },
 "nbformat": 4,
 "nbformat_minor": 0
}